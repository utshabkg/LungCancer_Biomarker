{
  "nbformat": 4,
  "nbformat_minor": 0,
  "metadata": {
    "colab": {
      "name": "serum-plasma-utshab.ipynb",
      "provenance": [],
      "collapsed_sections": []
    },
    "kernelspec": {
      "display_name": "Python 3",
      "name": "python3"
    }
  },
  "cells": [
    {
      "cell_type": "markdown",
      "metadata": {
        "id": "OktzdLyrDm34"
      },
      "source": [
        "[Download DATASETS from here](https://drive.google.com/drive/folders/1cBv9fiBQE2PedVPvTu56tOMIOtJTjTj1?usp=sharing)"
      ]
    },
    {
      "cell_type": "code",
      "metadata": {
        "id": "_2KKqfz-5Ioi"
      },
      "source": [
        "import pandas as pd\n",
        "import numpy as np\n",
        "import matplotlib.pyplot as plt\n",
        "%matplotlib inline"
      ],
      "execution_count": null,
      "outputs": []
    },
    {
      "cell_type": "code",
      "metadata": {
        "colab": {
          "base_uri": "https://localhost:8080/",
          "height": 294
        },
        "id": "mbm_F-i_bhGw",
        "outputId": "b85d04af-5016-462f-b31f-9724615b3765"
      },
      "source": [
        "df = pd.read_csv('/content/drive/Shareddrives/utshabkg/Dataset/serumLC.csv')\n",
        "df1 = pd.read_csv('/content/drive/Shareddrives/utshabkg/Dataset/plasma_processed.csv')\n",
        "df = df.T\n",
        "col = {}\n",
        "for i in range(df.shape[1]):\n",
        "    col[i] = df.iloc[0, i]\n",
        "# print(col)\n",
        "df = df.rename(columns = col, inplace = False)\n",
        "df = df.iloc[1:, :]\n",
        "df.head()"
      ],
      "execution_count": null,
      "outputs": [
        {
          "output_type": "execute_result",
          "data": {
            "text/html": [
              "<div>\n",
              "<style scoped>\n",
              "    .dataframe tbody tr th:only-of-type {\n",
              "        vertical-align: middle;\n",
              "    }\n",
              "\n",
              "    .dataframe tbody tr th {\n",
              "        vertical-align: top;\n",
              "    }\n",
              "\n",
              "    .dataframe thead th {\n",
              "        text-align: right;\n",
              "    }\n",
              "</style>\n",
              "<table border=\"1\" class=\"dataframe\">\n",
              "  <thead>\n",
              "    <tr style=\"text-align: right;\">\n",
              "      <th></th>\n",
              "      <th>1_5-anhydroglucitol</th>\n",
              "      <th>1-monostearin</th>\n",
              "      <th>2_3-dihydroxybutanoic acid NIST</th>\n",
              "      <th>2_4-diaminobutyric acid</th>\n",
              "      <th>2-deoxyerythritol</th>\n",
              "      <th>2-deoxytetronic acid</th>\n",
              "      <th>2-hydroxybutanoic acid</th>\n",
              "      <th>2-hydroxyglutaric acid</th>\n",
              "      <th>2-hydroxyhippuric acid</th>\n",
              "      <th>2-hydroxyvaleric acid</th>\n",
              "      <th>2-ketoglucose dimethylacetal NIST</th>\n",
              "      <th>2-ketoisocaproic acid</th>\n",
              "      <th>3-(3-hydroxyphenyl)propionic acid</th>\n",
              "      <th>3-aminoisobutyric acid</th>\n",
              "      <th>3-hydroxybutanoic acid</th>\n",
              "      <th>3-hydroxybutyric acid</th>\n",
              "      <th>3-phosphoglycerate</th>\n",
              "      <th>5-hydroxynorvaline NIST</th>\n",
              "      <th>5-methoxytryptamine</th>\n",
              "      <th>acetoacetate</th>\n",
              "      <th>aconitic acid</th>\n",
              "      <th>adenosine-5-monophosphate</th>\n",
              "      <th>alanine</th>\n",
              "      <th>alloxanoic acid NIST</th>\n",
              "      <th>alpha-ketoglutarate</th>\n",
              "      <th>aminomalonate</th>\n",
              "      <th>arabitol</th>\n",
              "      <th>arachidic acid</th>\n",
              "      <th>arachidonic acid</th>\n",
              "      <th>asparagine</th>\n",
              "      <th>aspartic acid</th>\n",
              "      <th>azelaic acid</th>\n",
              "      <th>behenic acid</th>\n",
              "      <th>benzoic acid</th>\n",
              "      <th>beta-alanine</th>\n",
              "      <th>butane-2_3-diol NIST</th>\n",
              "      <th>butyrolactam NIST</th>\n",
              "      <th>capric acid</th>\n",
              "      <th>caprylic acid</th>\n",
              "      <th>cellobiose</th>\n",
              "      <th>...</th>\n",
              "      <th>p-cresol</th>\n",
              "      <th>pelargonic acid</th>\n",
              "      <th>phenol</th>\n",
              "      <th>phenylalanine</th>\n",
              "      <th>phenylethylamine</th>\n",
              "      <th>phosphate</th>\n",
              "      <th>phosphoethanolamine</th>\n",
              "      <th>pipecolinic acid</th>\n",
              "      <th>piperidone</th>\n",
              "      <th>proline</th>\n",
              "      <th>propane-1_3-diol NIST</th>\n",
              "      <th>pseudo uridine</th>\n",
              "      <th>pyrophosphate</th>\n",
              "      <th>pyrrole-2-carboxylic acid</th>\n",
              "      <th>pyruvic acid</th>\n",
              "      <th>quinic acid</th>\n",
              "      <th>ribose</th>\n",
              "      <th>salicylaldehyde</th>\n",
              "      <th>salicylic acid</th>\n",
              "      <th>serine</th>\n",
              "      <th>shikimic acid</th>\n",
              "      <th>stearic acid</th>\n",
              "      <th>sucrose</th>\n",
              "      <th>tartaric acid</th>\n",
              "      <th>taurine</th>\n",
              "      <th>threitol</th>\n",
              "      <th>threonic acid</th>\n",
              "      <th>threonine</th>\n",
              "      <th>tocopherol alpha-</th>\n",
              "      <th>tocopherol gamma-</th>\n",
              "      <th>trans-4-hydroxyproline</th>\n",
              "      <th>tryptophan</th>\n",
              "      <th>tyrosine</th>\n",
              "      <th>UDP-glucuronic acid</th>\n",
              "      <th>urea</th>\n",
              "      <th>uric acid</th>\n",
              "      <th>uridine</th>\n",
              "      <th>valine</th>\n",
              "      <th>xylitol</th>\n",
              "      <th>xylose</th>\n",
              "    </tr>\n",
              "  </thead>\n",
              "  <tbody>\n",
              "    <tr>\n",
              "      <th>140516bjlsa04_1</th>\n",
              "      <td>9582</td>\n",
              "      <td>279</td>\n",
              "      <td>82</td>\n",
              "      <td>61</td>\n",
              "      <td>357</td>\n",
              "      <td>122</td>\n",
              "      <td>24944</td>\n",
              "      <td>56</td>\n",
              "      <td>32</td>\n",
              "      <td>966</td>\n",
              "      <td>70</td>\n",
              "      <td>6338</td>\n",
              "      <td>48</td>\n",
              "      <td>271</td>\n",
              "      <td>1602</td>\n",
              "      <td>2646</td>\n",
              "      <td>33</td>\n",
              "      <td>98</td>\n",
              "      <td>629</td>\n",
              "      <td>306</td>\n",
              "      <td>104</td>\n",
              "      <td>24</td>\n",
              "      <td>203008</td>\n",
              "      <td>41</td>\n",
              "      <td>248</td>\n",
              "      <td>752</td>\n",
              "      <td>235</td>\n",
              "      <td>1346</td>\n",
              "      <td>154</td>\n",
              "      <td>1336</td>\n",
              "      <td>1595</td>\n",
              "      <td>86</td>\n",
              "      <td>264</td>\n",
              "      <td>1050</td>\n",
              "      <td>937</td>\n",
              "      <td>281</td>\n",
              "      <td>342</td>\n",
              "      <td>187</td>\n",
              "      <td>416</td>\n",
              "      <td>441</td>\n",
              "      <td>...</td>\n",
              "      <td>36267</td>\n",
              "      <td>2238</td>\n",
              "      <td>1717</td>\n",
              "      <td>13187</td>\n",
              "      <td>99</td>\n",
              "      <td>7965</td>\n",
              "      <td>54</td>\n",
              "      <td>772</td>\n",
              "      <td>88</td>\n",
              "      <td>173034</td>\n",
              "      <td>608</td>\n",
              "      <td>478</td>\n",
              "      <td>2141</td>\n",
              "      <td>91</td>\n",
              "      <td>3149</td>\n",
              "      <td>196</td>\n",
              "      <td>113</td>\n",
              "      <td>69</td>\n",
              "      <td>31</td>\n",
              "      <td>8217</td>\n",
              "      <td>1405</td>\n",
              "      <td>99859</td>\n",
              "      <td>122</td>\n",
              "      <td>84</td>\n",
              "      <td>4540</td>\n",
              "      <td>337</td>\n",
              "      <td>849</td>\n",
              "      <td>12787</td>\n",
              "      <td>2028</td>\n",
              "      <td>251</td>\n",
              "      <td>2492</td>\n",
              "      <td>34239</td>\n",
              "      <td>54924</td>\n",
              "      <td>43</td>\n",
              "      <td>226295</td>\n",
              "      <td>11606</td>\n",
              "      <td>68</td>\n",
              "      <td>153849</td>\n",
              "      <td>194</td>\n",
              "      <td>811</td>\n",
              "    </tr>\n",
              "    <tr>\n",
              "      <th>140516bjlsa48_1</th>\n",
              "      <td>28847</td>\n",
              "      <td>161</td>\n",
              "      <td>78</td>\n",
              "      <td>84</td>\n",
              "      <td>205</td>\n",
              "      <td>258</td>\n",
              "      <td>10680</td>\n",
              "      <td>104</td>\n",
              "      <td>49</td>\n",
              "      <td>1076</td>\n",
              "      <td>75</td>\n",
              "      <td>6082</td>\n",
              "      <td>102</td>\n",
              "      <td>1104</td>\n",
              "      <td>300</td>\n",
              "      <td>1977</td>\n",
              "      <td>39</td>\n",
              "      <td>72</td>\n",
              "      <td>70</td>\n",
              "      <td>472</td>\n",
              "      <td>118</td>\n",
              "      <td>66</td>\n",
              "      <td>273015</td>\n",
              "      <td>85</td>\n",
              "      <td>160</td>\n",
              "      <td>965</td>\n",
              "      <td>262</td>\n",
              "      <td>948</td>\n",
              "      <td>276</td>\n",
              "      <td>1928</td>\n",
              "      <td>3204</td>\n",
              "      <td>117</td>\n",
              "      <td>460</td>\n",
              "      <td>1726</td>\n",
              "      <td>257</td>\n",
              "      <td>326</td>\n",
              "      <td>338</td>\n",
              "      <td>299</td>\n",
              "      <td>571</td>\n",
              "      <td>477</td>\n",
              "      <td>...</td>\n",
              "      <td>57611</td>\n",
              "      <td>3840</td>\n",
              "      <td>2126</td>\n",
              "      <td>15811</td>\n",
              "      <td>179</td>\n",
              "      <td>11304</td>\n",
              "      <td>72</td>\n",
              "      <td>672</td>\n",
              "      <td>95</td>\n",
              "      <td>141407</td>\n",
              "      <td>790</td>\n",
              "      <td>1052</td>\n",
              "      <td>1263</td>\n",
              "      <td>65</td>\n",
              "      <td>1849</td>\n",
              "      <td>41</td>\n",
              "      <td>177</td>\n",
              "      <td>403</td>\n",
              "      <td>234</td>\n",
              "      <td>9588</td>\n",
              "      <td>2758</td>\n",
              "      <td>71934</td>\n",
              "      <td>253</td>\n",
              "      <td>51</td>\n",
              "      <td>6454</td>\n",
              "      <td>219</td>\n",
              "      <td>651</td>\n",
              "      <td>12737</td>\n",
              "      <td>1850</td>\n",
              "      <td>641</td>\n",
              "      <td>3428</td>\n",
              "      <td>20080</td>\n",
              "      <td>37597</td>\n",
              "      <td>203</td>\n",
              "      <td>96226</td>\n",
              "      <td>10188</td>\n",
              "      <td>71</td>\n",
              "      <td>110735</td>\n",
              "      <td>294</td>\n",
              "      <td>910</td>\n",
              "    </tr>\n",
              "    <tr>\n",
              "      <th>140515bjlsa10_1</th>\n",
              "      <td>13627</td>\n",
              "      <td>162</td>\n",
              "      <td>53</td>\n",
              "      <td>133</td>\n",
              "      <td>139</td>\n",
              "      <td>159</td>\n",
              "      <td>27201</td>\n",
              "      <td>160</td>\n",
              "      <td>80</td>\n",
              "      <td>1117</td>\n",
              "      <td>60</td>\n",
              "      <td>6812</td>\n",
              "      <td>126</td>\n",
              "      <td>425</td>\n",
              "      <td>1127</td>\n",
              "      <td>4550</td>\n",
              "      <td>55</td>\n",
              "      <td>146</td>\n",
              "      <td>130</td>\n",
              "      <td>470</td>\n",
              "      <td>84</td>\n",
              "      <td>54</td>\n",
              "      <td>257699</td>\n",
              "      <td>54</td>\n",
              "      <td>184</td>\n",
              "      <td>724</td>\n",
              "      <td>361</td>\n",
              "      <td>1263</td>\n",
              "      <td>1642</td>\n",
              "      <td>1900</td>\n",
              "      <td>2336</td>\n",
              "      <td>251</td>\n",
              "      <td>317</td>\n",
              "      <td>3216</td>\n",
              "      <td>413</td>\n",
              "      <td>231</td>\n",
              "      <td>186</td>\n",
              "      <td>338</td>\n",
              "      <td>865</td>\n",
              "      <td>312</td>\n",
              "      <td>...</td>\n",
              "      <td>52348</td>\n",
              "      <td>11679</td>\n",
              "      <td>2770</td>\n",
              "      <td>11101</td>\n",
              "      <td>110</td>\n",
              "      <td>8000</td>\n",
              "      <td>60</td>\n",
              "      <td>546</td>\n",
              "      <td>54</td>\n",
              "      <td>88067</td>\n",
              "      <td>991</td>\n",
              "      <td>505</td>\n",
              "      <td>2482</td>\n",
              "      <td>83</td>\n",
              "      <td>721</td>\n",
              "      <td>461</td>\n",
              "      <td>186</td>\n",
              "      <td>276</td>\n",
              "      <td>1291</td>\n",
              "      <td>7523</td>\n",
              "      <td>1259</td>\n",
              "      <td>130069</td>\n",
              "      <td>121</td>\n",
              "      <td>50</td>\n",
              "      <td>4608</td>\n",
              "      <td>152</td>\n",
              "      <td>1833</td>\n",
              "      <td>10888</td>\n",
              "      <td>3722</td>\n",
              "      <td>551</td>\n",
              "      <td>2796</td>\n",
              "      <td>29191</td>\n",
              "      <td>28707</td>\n",
              "      <td>211</td>\n",
              "      <td>155596</td>\n",
              "      <td>16617</td>\n",
              "      <td>123</td>\n",
              "      <td>95509</td>\n",
              "      <td>253</td>\n",
              "      <td>804</td>\n",
              "    </tr>\n",
              "    <tr>\n",
              "      <th>140516bjlsa02_1</th>\n",
              "      <td>20758</td>\n",
              "      <td>6671</td>\n",
              "      <td>93</td>\n",
              "      <td>78</td>\n",
              "      <td>335</td>\n",
              "      <td>225</td>\n",
              "      <td>32347</td>\n",
              "      <td>242</td>\n",
              "      <td>59</td>\n",
              "      <td>304</td>\n",
              "      <td>53</td>\n",
              "      <td>1014</td>\n",
              "      <td>93</td>\n",
              "      <td>1953</td>\n",
              "      <td>543</td>\n",
              "      <td>34837</td>\n",
              "      <td>75</td>\n",
              "      <td>151</td>\n",
              "      <td>70</td>\n",
              "      <td>400</td>\n",
              "      <td>82</td>\n",
              "      <td>34</td>\n",
              "      <td>122666</td>\n",
              "      <td>103</td>\n",
              "      <td>142</td>\n",
              "      <td>1009</td>\n",
              "      <td>46</td>\n",
              "      <td>1857</td>\n",
              "      <td>908</td>\n",
              "      <td>1513</td>\n",
              "      <td>3493</td>\n",
              "      <td>148</td>\n",
              "      <td>458</td>\n",
              "      <td>2072</td>\n",
              "      <td>264</td>\n",
              "      <td>117</td>\n",
              "      <td>464</td>\n",
              "      <td>296</td>\n",
              "      <td>658</td>\n",
              "      <td>180</td>\n",
              "      <td>...</td>\n",
              "      <td>66050</td>\n",
              "      <td>6030</td>\n",
              "      <td>1985</td>\n",
              "      <td>14371</td>\n",
              "      <td>652</td>\n",
              "      <td>13248</td>\n",
              "      <td>56</td>\n",
              "      <td>481</td>\n",
              "      <td>50</td>\n",
              "      <td>72115</td>\n",
              "      <td>888</td>\n",
              "      <td>957</td>\n",
              "      <td>2277</td>\n",
              "      <td>71</td>\n",
              "      <td>156</td>\n",
              "      <td>82</td>\n",
              "      <td>181</td>\n",
              "      <td>135</td>\n",
              "      <td>102</td>\n",
              "      <td>13751</td>\n",
              "      <td>1681</td>\n",
              "      <td>173705</td>\n",
              "      <td>109</td>\n",
              "      <td>85</td>\n",
              "      <td>6287</td>\n",
              "      <td>265</td>\n",
              "      <td>1880</td>\n",
              "      <td>12901</td>\n",
              "      <td>2128</td>\n",
              "      <td>420</td>\n",
              "      <td>3161</td>\n",
              "      <td>16637</td>\n",
              "      <td>27873</td>\n",
              "      <td>71</td>\n",
              "      <td>191671</td>\n",
              "      <td>15214</td>\n",
              "      <td>84</td>\n",
              "      <td>96219</td>\n",
              "      <td>157</td>\n",
              "      <td>806</td>\n",
              "    </tr>\n",
              "    <tr>\n",
              "      <th>140516bjlsa18_1</th>\n",
              "      <td>15692</td>\n",
              "      <td>108</td>\n",
              "      <td>98</td>\n",
              "      <td>69</td>\n",
              "      <td>250</td>\n",
              "      <td>120</td>\n",
              "      <td>18357</td>\n",
              "      <td>60</td>\n",
              "      <td>25</td>\n",
              "      <td>1220</td>\n",
              "      <td>74</td>\n",
              "      <td>6319</td>\n",
              "      <td>713</td>\n",
              "      <td>800</td>\n",
              "      <td>1389</td>\n",
              "      <td>5288</td>\n",
              "      <td>34</td>\n",
              "      <td>421</td>\n",
              "      <td>194</td>\n",
              "      <td>302</td>\n",
              "      <td>123</td>\n",
              "      <td>31</td>\n",
              "      <td>247523</td>\n",
              "      <td>52</td>\n",
              "      <td>138</td>\n",
              "      <td>1980</td>\n",
              "      <td>350</td>\n",
              "      <td>688</td>\n",
              "      <td>334</td>\n",
              "      <td>1809</td>\n",
              "      <td>1202</td>\n",
              "      <td>156</td>\n",
              "      <td>255</td>\n",
              "      <td>1413</td>\n",
              "      <td>867</td>\n",
              "      <td>218</td>\n",
              "      <td>189</td>\n",
              "      <td>231</td>\n",
              "      <td>468</td>\n",
              "      <td>78</td>\n",
              "      <td>...</td>\n",
              "      <td>35498</td>\n",
              "      <td>3510</td>\n",
              "      <td>745</td>\n",
              "      <td>14421</td>\n",
              "      <td>111</td>\n",
              "      <td>19080</td>\n",
              "      <td>38</td>\n",
              "      <td>183</td>\n",
              "      <td>72</td>\n",
              "      <td>100497</td>\n",
              "      <td>513</td>\n",
              "      <td>904</td>\n",
              "      <td>1141</td>\n",
              "      <td>59</td>\n",
              "      <td>1147</td>\n",
              "      <td>2428</td>\n",
              "      <td>266</td>\n",
              "      <td>167</td>\n",
              "      <td>65</td>\n",
              "      <td>9956</td>\n",
              "      <td>1249</td>\n",
              "      <td>65181</td>\n",
              "      <td>36</td>\n",
              "      <td>29</td>\n",
              "      <td>2854</td>\n",
              "      <td>408</td>\n",
              "      <td>495</td>\n",
              "      <td>15442</td>\n",
              "      <td>1483</td>\n",
              "      <td>401</td>\n",
              "      <td>5552</td>\n",
              "      <td>29820</td>\n",
              "      <td>30132</td>\n",
              "      <td>200</td>\n",
              "      <td>333019</td>\n",
              "      <td>20281</td>\n",
              "      <td>62</td>\n",
              "      <td>159853</td>\n",
              "      <td>188</td>\n",
              "      <td>1226</td>\n",
              "    </tr>\n",
              "  </tbody>\n",
              "</table>\n",
              "<p>5 rows × 158 columns</p>\n",
              "</div>"
            ],
            "text/plain": [
              "                1_5-anhydroglucitol 1-monostearin  ... xylitol xylose\n",
              "140516bjlsa04_1                9582           279  ...     194    811\n",
              "140516bjlsa48_1               28847           161  ...     294    910\n",
              "140515bjlsa10_1               13627           162  ...     253    804\n",
              "140516bjlsa02_1               20758          6671  ...     157    806\n",
              "140516bjlsa18_1               15692           108  ...     188   1226\n",
              "\n",
              "[5 rows x 158 columns]"
            ]
          },
          "metadata": {
            "tags": []
          },
          "execution_count": 326
        }
      ]
    },
    {
      "cell_type": "code",
      "metadata": {
        "colab": {
          "base_uri": "https://localhost:8080/"
        },
        "id": "ZpyEj3hNJtl8",
        "outputId": "505f451e-b9a9-45be-e8ca-9c7b64e7f68f"
      },
      "source": [
        "df.shape"
      ],
      "execution_count": null,
      "outputs": [
        {
          "output_type": "execute_result",
          "data": {
            "text/plain": [
              "(82, 158)"
            ]
          },
          "metadata": {
            "tags": []
          },
          "execution_count": 327
        }
      ]
    },
    {
      "cell_type": "code",
      "metadata": {
        "id": "W4n1qdSUeHlh"
      },
      "source": [
        "# from sklearn.cluster import KMeans\n",
        "# kmeans = KMeans(n_clusters=2, random_state=0).fit(df)\n",
        "# kmeans.labels_"
      ],
      "execution_count": null,
      "outputs": []
    },
    {
      "cell_type": "code",
      "metadata": {
        "colab": {
          "base_uri": "https://localhost:8080/"
        },
        "id": "5spEqmqpd7Ld",
        "outputId": "f8efa641-01e5-41a6-ae76-3b8d2f99fc3c"
      },
      "source": [
        "df.isnull().sum()/len(df) * 100"
      ],
      "execution_count": null,
      "outputs": [
        {
          "output_type": "execute_result",
          "data": {
            "text/plain": [
              "1_5-anhydroglucitol               0.00\n",
              "1-monostearin                     0.00\n",
              "2_3-dihydroxybutanoic acid NIST   0.00\n",
              "2_4-diaminobutyric acid           0.00\n",
              "2-deoxyerythritol                 0.00\n",
              "                                  ... \n",
              "uric acid                         0.00\n",
              "uridine                           0.00\n",
              "valine                            0.00\n",
              "xylitol                           0.00\n",
              "xylose                            0.00\n",
              "Length: 158, dtype: float64"
            ]
          },
          "metadata": {
            "tags": []
          },
          "execution_count": 329
        }
      ]
    },
    {
      "cell_type": "code",
      "metadata": {
        "id": "jmgP6AChQcGd"
      },
      "source": [
        "labels = np.reshape(df1.Class.to_numpy(), (82,1))\n",
        "# labels = np.reshape(kmeans.labels_, (82,1))\n",
        "# labels"
      ],
      "execution_count": null,
      "outputs": []
    },
    {
      "cell_type": "code",
      "metadata": {
        "id": "3OYDp2eEMvWM"
      },
      "source": [
        "col = []\n",
        "for i in range(len(df.columns)):\n",
        "    col.append(df.columns[i])\n",
        "col.append('Class')\n",
        "df = np.concatenate([df, labels], axis=1)\n",
        "df = pd.DataFrame(df, columns = col)\n",
        "# df.to_csv('serum_preocessed.csv')"
      ],
      "execution_count": null,
      "outputs": []
    },
    {
      "cell_type": "code",
      "metadata": {
        "colab": {
          "base_uri": "https://localhost:8080/",
          "height": 294
        },
        "id": "dQoz6rac88GN",
        "outputId": "13bb6f60-d5f4-483a-c904-205f3a6082cf"
      },
      "source": [
        "df.head()"
      ],
      "execution_count": null,
      "outputs": [
        {
          "output_type": "execute_result",
          "data": {
            "text/html": [
              "<div>\n",
              "<style scoped>\n",
              "    .dataframe tbody tr th:only-of-type {\n",
              "        vertical-align: middle;\n",
              "    }\n",
              "\n",
              "    .dataframe tbody tr th {\n",
              "        vertical-align: top;\n",
              "    }\n",
              "\n",
              "    .dataframe thead th {\n",
              "        text-align: right;\n",
              "    }\n",
              "</style>\n",
              "<table border=\"1\" class=\"dataframe\">\n",
              "  <thead>\n",
              "    <tr style=\"text-align: right;\">\n",
              "      <th></th>\n",
              "      <th>1_5-anhydroglucitol</th>\n",
              "      <th>1-monostearin</th>\n",
              "      <th>2_3-dihydroxybutanoic acid NIST</th>\n",
              "      <th>2_4-diaminobutyric acid</th>\n",
              "      <th>2-deoxyerythritol</th>\n",
              "      <th>2-deoxytetronic acid</th>\n",
              "      <th>2-hydroxybutanoic acid</th>\n",
              "      <th>2-hydroxyglutaric acid</th>\n",
              "      <th>2-hydroxyhippuric acid</th>\n",
              "      <th>2-hydroxyvaleric acid</th>\n",
              "      <th>2-ketoglucose dimethylacetal NIST</th>\n",
              "      <th>2-ketoisocaproic acid</th>\n",
              "      <th>3-(3-hydroxyphenyl)propionic acid</th>\n",
              "      <th>3-aminoisobutyric acid</th>\n",
              "      <th>3-hydroxybutanoic acid</th>\n",
              "      <th>3-hydroxybutyric acid</th>\n",
              "      <th>3-phosphoglycerate</th>\n",
              "      <th>5-hydroxynorvaline NIST</th>\n",
              "      <th>5-methoxytryptamine</th>\n",
              "      <th>acetoacetate</th>\n",
              "      <th>aconitic acid</th>\n",
              "      <th>adenosine-5-monophosphate</th>\n",
              "      <th>alanine</th>\n",
              "      <th>alloxanoic acid NIST</th>\n",
              "      <th>alpha-ketoglutarate</th>\n",
              "      <th>aminomalonate</th>\n",
              "      <th>arabitol</th>\n",
              "      <th>arachidic acid</th>\n",
              "      <th>arachidonic acid</th>\n",
              "      <th>asparagine</th>\n",
              "      <th>aspartic acid</th>\n",
              "      <th>azelaic acid</th>\n",
              "      <th>behenic acid</th>\n",
              "      <th>benzoic acid</th>\n",
              "      <th>beta-alanine</th>\n",
              "      <th>butane-2_3-diol NIST</th>\n",
              "      <th>butyrolactam NIST</th>\n",
              "      <th>capric acid</th>\n",
              "      <th>caprylic acid</th>\n",
              "      <th>cellobiose</th>\n",
              "      <th>...</th>\n",
              "      <th>pelargonic acid</th>\n",
              "      <th>phenol</th>\n",
              "      <th>phenylalanine</th>\n",
              "      <th>phenylethylamine</th>\n",
              "      <th>phosphate</th>\n",
              "      <th>phosphoethanolamine</th>\n",
              "      <th>pipecolinic acid</th>\n",
              "      <th>piperidone</th>\n",
              "      <th>proline</th>\n",
              "      <th>propane-1_3-diol NIST</th>\n",
              "      <th>pseudo uridine</th>\n",
              "      <th>pyrophosphate</th>\n",
              "      <th>pyrrole-2-carboxylic acid</th>\n",
              "      <th>pyruvic acid</th>\n",
              "      <th>quinic acid</th>\n",
              "      <th>ribose</th>\n",
              "      <th>salicylaldehyde</th>\n",
              "      <th>salicylic acid</th>\n",
              "      <th>serine</th>\n",
              "      <th>shikimic acid</th>\n",
              "      <th>stearic acid</th>\n",
              "      <th>sucrose</th>\n",
              "      <th>tartaric acid</th>\n",
              "      <th>taurine</th>\n",
              "      <th>threitol</th>\n",
              "      <th>threonic acid</th>\n",
              "      <th>threonine</th>\n",
              "      <th>tocopherol alpha-</th>\n",
              "      <th>tocopherol gamma-</th>\n",
              "      <th>trans-4-hydroxyproline</th>\n",
              "      <th>tryptophan</th>\n",
              "      <th>tyrosine</th>\n",
              "      <th>UDP-glucuronic acid</th>\n",
              "      <th>urea</th>\n",
              "      <th>uric acid</th>\n",
              "      <th>uridine</th>\n",
              "      <th>valine</th>\n",
              "      <th>xylitol</th>\n",
              "      <th>xylose</th>\n",
              "      <th>Class</th>\n",
              "    </tr>\n",
              "  </thead>\n",
              "  <tbody>\n",
              "    <tr>\n",
              "      <th>0</th>\n",
              "      <td>9582</td>\n",
              "      <td>279</td>\n",
              "      <td>82</td>\n",
              "      <td>61</td>\n",
              "      <td>357</td>\n",
              "      <td>122</td>\n",
              "      <td>24944</td>\n",
              "      <td>56</td>\n",
              "      <td>32</td>\n",
              "      <td>966</td>\n",
              "      <td>70</td>\n",
              "      <td>6338</td>\n",
              "      <td>48</td>\n",
              "      <td>271</td>\n",
              "      <td>1602</td>\n",
              "      <td>2646</td>\n",
              "      <td>33</td>\n",
              "      <td>98</td>\n",
              "      <td>629</td>\n",
              "      <td>306</td>\n",
              "      <td>104</td>\n",
              "      <td>24</td>\n",
              "      <td>203008</td>\n",
              "      <td>41</td>\n",
              "      <td>248</td>\n",
              "      <td>752</td>\n",
              "      <td>235</td>\n",
              "      <td>1346</td>\n",
              "      <td>154</td>\n",
              "      <td>1336</td>\n",
              "      <td>1595</td>\n",
              "      <td>86</td>\n",
              "      <td>264</td>\n",
              "      <td>1050</td>\n",
              "      <td>937</td>\n",
              "      <td>281</td>\n",
              "      <td>342</td>\n",
              "      <td>187</td>\n",
              "      <td>416</td>\n",
              "      <td>441</td>\n",
              "      <td>...</td>\n",
              "      <td>2238</td>\n",
              "      <td>1717</td>\n",
              "      <td>13187</td>\n",
              "      <td>99</td>\n",
              "      <td>7965</td>\n",
              "      <td>54</td>\n",
              "      <td>772</td>\n",
              "      <td>88</td>\n",
              "      <td>173034</td>\n",
              "      <td>608</td>\n",
              "      <td>478</td>\n",
              "      <td>2141</td>\n",
              "      <td>91</td>\n",
              "      <td>3149</td>\n",
              "      <td>196</td>\n",
              "      <td>113</td>\n",
              "      <td>69</td>\n",
              "      <td>31</td>\n",
              "      <td>8217</td>\n",
              "      <td>1405</td>\n",
              "      <td>99859</td>\n",
              "      <td>122</td>\n",
              "      <td>84</td>\n",
              "      <td>4540</td>\n",
              "      <td>337</td>\n",
              "      <td>849</td>\n",
              "      <td>12787</td>\n",
              "      <td>2028</td>\n",
              "      <td>251</td>\n",
              "      <td>2492</td>\n",
              "      <td>34239</td>\n",
              "      <td>54924</td>\n",
              "      <td>43</td>\n",
              "      <td>226295</td>\n",
              "      <td>11606</td>\n",
              "      <td>68</td>\n",
              "      <td>153849</td>\n",
              "      <td>194</td>\n",
              "      <td>811</td>\n",
              "      <td>disease</td>\n",
              "    </tr>\n",
              "    <tr>\n",
              "      <th>1</th>\n",
              "      <td>28847</td>\n",
              "      <td>161</td>\n",
              "      <td>78</td>\n",
              "      <td>84</td>\n",
              "      <td>205</td>\n",
              "      <td>258</td>\n",
              "      <td>10680</td>\n",
              "      <td>104</td>\n",
              "      <td>49</td>\n",
              "      <td>1076</td>\n",
              "      <td>75</td>\n",
              "      <td>6082</td>\n",
              "      <td>102</td>\n",
              "      <td>1104</td>\n",
              "      <td>300</td>\n",
              "      <td>1977</td>\n",
              "      <td>39</td>\n",
              "      <td>72</td>\n",
              "      <td>70</td>\n",
              "      <td>472</td>\n",
              "      <td>118</td>\n",
              "      <td>66</td>\n",
              "      <td>273015</td>\n",
              "      <td>85</td>\n",
              "      <td>160</td>\n",
              "      <td>965</td>\n",
              "      <td>262</td>\n",
              "      <td>948</td>\n",
              "      <td>276</td>\n",
              "      <td>1928</td>\n",
              "      <td>3204</td>\n",
              "      <td>117</td>\n",
              "      <td>460</td>\n",
              "      <td>1726</td>\n",
              "      <td>257</td>\n",
              "      <td>326</td>\n",
              "      <td>338</td>\n",
              "      <td>299</td>\n",
              "      <td>571</td>\n",
              "      <td>477</td>\n",
              "      <td>...</td>\n",
              "      <td>3840</td>\n",
              "      <td>2126</td>\n",
              "      <td>15811</td>\n",
              "      <td>179</td>\n",
              "      <td>11304</td>\n",
              "      <td>72</td>\n",
              "      <td>672</td>\n",
              "      <td>95</td>\n",
              "      <td>141407</td>\n",
              "      <td>790</td>\n",
              "      <td>1052</td>\n",
              "      <td>1263</td>\n",
              "      <td>65</td>\n",
              "      <td>1849</td>\n",
              "      <td>41</td>\n",
              "      <td>177</td>\n",
              "      <td>403</td>\n",
              "      <td>234</td>\n",
              "      <td>9588</td>\n",
              "      <td>2758</td>\n",
              "      <td>71934</td>\n",
              "      <td>253</td>\n",
              "      <td>51</td>\n",
              "      <td>6454</td>\n",
              "      <td>219</td>\n",
              "      <td>651</td>\n",
              "      <td>12737</td>\n",
              "      <td>1850</td>\n",
              "      <td>641</td>\n",
              "      <td>3428</td>\n",
              "      <td>20080</td>\n",
              "      <td>37597</td>\n",
              "      <td>203</td>\n",
              "      <td>96226</td>\n",
              "      <td>10188</td>\n",
              "      <td>71</td>\n",
              "      <td>110735</td>\n",
              "      <td>294</td>\n",
              "      <td>910</td>\n",
              "      <td>disease</td>\n",
              "    </tr>\n",
              "    <tr>\n",
              "      <th>2</th>\n",
              "      <td>13627</td>\n",
              "      <td>162</td>\n",
              "      <td>53</td>\n",
              "      <td>133</td>\n",
              "      <td>139</td>\n",
              "      <td>159</td>\n",
              "      <td>27201</td>\n",
              "      <td>160</td>\n",
              "      <td>80</td>\n",
              "      <td>1117</td>\n",
              "      <td>60</td>\n",
              "      <td>6812</td>\n",
              "      <td>126</td>\n",
              "      <td>425</td>\n",
              "      <td>1127</td>\n",
              "      <td>4550</td>\n",
              "      <td>55</td>\n",
              "      <td>146</td>\n",
              "      <td>130</td>\n",
              "      <td>470</td>\n",
              "      <td>84</td>\n",
              "      <td>54</td>\n",
              "      <td>257699</td>\n",
              "      <td>54</td>\n",
              "      <td>184</td>\n",
              "      <td>724</td>\n",
              "      <td>361</td>\n",
              "      <td>1263</td>\n",
              "      <td>1642</td>\n",
              "      <td>1900</td>\n",
              "      <td>2336</td>\n",
              "      <td>251</td>\n",
              "      <td>317</td>\n",
              "      <td>3216</td>\n",
              "      <td>413</td>\n",
              "      <td>231</td>\n",
              "      <td>186</td>\n",
              "      <td>338</td>\n",
              "      <td>865</td>\n",
              "      <td>312</td>\n",
              "      <td>...</td>\n",
              "      <td>11679</td>\n",
              "      <td>2770</td>\n",
              "      <td>11101</td>\n",
              "      <td>110</td>\n",
              "      <td>8000</td>\n",
              "      <td>60</td>\n",
              "      <td>546</td>\n",
              "      <td>54</td>\n",
              "      <td>88067</td>\n",
              "      <td>991</td>\n",
              "      <td>505</td>\n",
              "      <td>2482</td>\n",
              "      <td>83</td>\n",
              "      <td>721</td>\n",
              "      <td>461</td>\n",
              "      <td>186</td>\n",
              "      <td>276</td>\n",
              "      <td>1291</td>\n",
              "      <td>7523</td>\n",
              "      <td>1259</td>\n",
              "      <td>130069</td>\n",
              "      <td>121</td>\n",
              "      <td>50</td>\n",
              "      <td>4608</td>\n",
              "      <td>152</td>\n",
              "      <td>1833</td>\n",
              "      <td>10888</td>\n",
              "      <td>3722</td>\n",
              "      <td>551</td>\n",
              "      <td>2796</td>\n",
              "      <td>29191</td>\n",
              "      <td>28707</td>\n",
              "      <td>211</td>\n",
              "      <td>155596</td>\n",
              "      <td>16617</td>\n",
              "      <td>123</td>\n",
              "      <td>95509</td>\n",
              "      <td>253</td>\n",
              "      <td>804</td>\n",
              "      <td>disease</td>\n",
              "    </tr>\n",
              "    <tr>\n",
              "      <th>3</th>\n",
              "      <td>20758</td>\n",
              "      <td>6671</td>\n",
              "      <td>93</td>\n",
              "      <td>78</td>\n",
              "      <td>335</td>\n",
              "      <td>225</td>\n",
              "      <td>32347</td>\n",
              "      <td>242</td>\n",
              "      <td>59</td>\n",
              "      <td>304</td>\n",
              "      <td>53</td>\n",
              "      <td>1014</td>\n",
              "      <td>93</td>\n",
              "      <td>1953</td>\n",
              "      <td>543</td>\n",
              "      <td>34837</td>\n",
              "      <td>75</td>\n",
              "      <td>151</td>\n",
              "      <td>70</td>\n",
              "      <td>400</td>\n",
              "      <td>82</td>\n",
              "      <td>34</td>\n",
              "      <td>122666</td>\n",
              "      <td>103</td>\n",
              "      <td>142</td>\n",
              "      <td>1009</td>\n",
              "      <td>46</td>\n",
              "      <td>1857</td>\n",
              "      <td>908</td>\n",
              "      <td>1513</td>\n",
              "      <td>3493</td>\n",
              "      <td>148</td>\n",
              "      <td>458</td>\n",
              "      <td>2072</td>\n",
              "      <td>264</td>\n",
              "      <td>117</td>\n",
              "      <td>464</td>\n",
              "      <td>296</td>\n",
              "      <td>658</td>\n",
              "      <td>180</td>\n",
              "      <td>...</td>\n",
              "      <td>6030</td>\n",
              "      <td>1985</td>\n",
              "      <td>14371</td>\n",
              "      <td>652</td>\n",
              "      <td>13248</td>\n",
              "      <td>56</td>\n",
              "      <td>481</td>\n",
              "      <td>50</td>\n",
              "      <td>72115</td>\n",
              "      <td>888</td>\n",
              "      <td>957</td>\n",
              "      <td>2277</td>\n",
              "      <td>71</td>\n",
              "      <td>156</td>\n",
              "      <td>82</td>\n",
              "      <td>181</td>\n",
              "      <td>135</td>\n",
              "      <td>102</td>\n",
              "      <td>13751</td>\n",
              "      <td>1681</td>\n",
              "      <td>173705</td>\n",
              "      <td>109</td>\n",
              "      <td>85</td>\n",
              "      <td>6287</td>\n",
              "      <td>265</td>\n",
              "      <td>1880</td>\n",
              "      <td>12901</td>\n",
              "      <td>2128</td>\n",
              "      <td>420</td>\n",
              "      <td>3161</td>\n",
              "      <td>16637</td>\n",
              "      <td>27873</td>\n",
              "      <td>71</td>\n",
              "      <td>191671</td>\n",
              "      <td>15214</td>\n",
              "      <td>84</td>\n",
              "      <td>96219</td>\n",
              "      <td>157</td>\n",
              "      <td>806</td>\n",
              "      <td>disease</td>\n",
              "    </tr>\n",
              "    <tr>\n",
              "      <th>4</th>\n",
              "      <td>15692</td>\n",
              "      <td>108</td>\n",
              "      <td>98</td>\n",
              "      <td>69</td>\n",
              "      <td>250</td>\n",
              "      <td>120</td>\n",
              "      <td>18357</td>\n",
              "      <td>60</td>\n",
              "      <td>25</td>\n",
              "      <td>1220</td>\n",
              "      <td>74</td>\n",
              "      <td>6319</td>\n",
              "      <td>713</td>\n",
              "      <td>800</td>\n",
              "      <td>1389</td>\n",
              "      <td>5288</td>\n",
              "      <td>34</td>\n",
              "      <td>421</td>\n",
              "      <td>194</td>\n",
              "      <td>302</td>\n",
              "      <td>123</td>\n",
              "      <td>31</td>\n",
              "      <td>247523</td>\n",
              "      <td>52</td>\n",
              "      <td>138</td>\n",
              "      <td>1980</td>\n",
              "      <td>350</td>\n",
              "      <td>688</td>\n",
              "      <td>334</td>\n",
              "      <td>1809</td>\n",
              "      <td>1202</td>\n",
              "      <td>156</td>\n",
              "      <td>255</td>\n",
              "      <td>1413</td>\n",
              "      <td>867</td>\n",
              "      <td>218</td>\n",
              "      <td>189</td>\n",
              "      <td>231</td>\n",
              "      <td>468</td>\n",
              "      <td>78</td>\n",
              "      <td>...</td>\n",
              "      <td>3510</td>\n",
              "      <td>745</td>\n",
              "      <td>14421</td>\n",
              "      <td>111</td>\n",
              "      <td>19080</td>\n",
              "      <td>38</td>\n",
              "      <td>183</td>\n",
              "      <td>72</td>\n",
              "      <td>100497</td>\n",
              "      <td>513</td>\n",
              "      <td>904</td>\n",
              "      <td>1141</td>\n",
              "      <td>59</td>\n",
              "      <td>1147</td>\n",
              "      <td>2428</td>\n",
              "      <td>266</td>\n",
              "      <td>167</td>\n",
              "      <td>65</td>\n",
              "      <td>9956</td>\n",
              "      <td>1249</td>\n",
              "      <td>65181</td>\n",
              "      <td>36</td>\n",
              "      <td>29</td>\n",
              "      <td>2854</td>\n",
              "      <td>408</td>\n",
              "      <td>495</td>\n",
              "      <td>15442</td>\n",
              "      <td>1483</td>\n",
              "      <td>401</td>\n",
              "      <td>5552</td>\n",
              "      <td>29820</td>\n",
              "      <td>30132</td>\n",
              "      <td>200</td>\n",
              "      <td>333019</td>\n",
              "      <td>20281</td>\n",
              "      <td>62</td>\n",
              "      <td>159853</td>\n",
              "      <td>188</td>\n",
              "      <td>1226</td>\n",
              "      <td>disease</td>\n",
              "    </tr>\n",
              "  </tbody>\n",
              "</table>\n",
              "<p>5 rows × 159 columns</p>\n",
              "</div>"
            ],
            "text/plain": [
              "  1_5-anhydroglucitol 1-monostearin  ... xylose    Class\n",
              "0                9582           279  ...    811  disease\n",
              "1               28847           161  ...    910  disease\n",
              "2               13627           162  ...    804  disease\n",
              "3               20758          6671  ...    806  disease\n",
              "4               15692           108  ...   1226  disease\n",
              "\n",
              "[5 rows x 159 columns]"
            ]
          },
          "metadata": {
            "tags": []
          },
          "execution_count": 332
        }
      ]
    },
    {
      "cell_type": "markdown",
      "metadata": {
        "id": "hHIN4cpOUseh"
      },
      "source": [
        "# PCA"
      ]
    },
    {
      "cell_type": "code",
      "metadata": {
        "id": "hPeZ-YigP1aJ"
      },
      "source": [
        "from sklearn.decomposition import PCA\n",
        "def pca_analysis(n_components):\n",
        "    pca = PCA(n_components=n_components)\n",
        "    pca_result = pca.fit_transform(df.iloc[:, :-1].values)\n",
        "\n",
        "    pca_concatenate = np.concatenate([pca_result, labels], axis=1)\n",
        "\n",
        "    return pca_concatenate"
      ],
      "execution_count": null,
      "outputs": []
    },
    {
      "cell_type": "code",
      "metadata": {
        "id": "WV9uX0vFQDyE"
      },
      "source": [
        "def make_dataframe(array, n_features):\n",
        "    col = []\n",
        "    for i in range(1, n_features+1):\n",
        "        col.append(f'pc{i}')\n",
        "    col.append('Class')\n",
        "    return pd.DataFrame(array, columns = col)"
      ],
      "execution_count": null,
      "outputs": []
    },
    {
      "cell_type": "code",
      "metadata": {
        "id": "8mJbTitszFRG",
        "colab": {
          "base_uri": "https://localhost:8080/"
        },
        "outputId": "e2269dc1-ef0d-456b-c8ed-7e874a3380cd"
      },
      "source": [
        "pca2 = pca_analysis(2)\n",
        "\n",
        "pca2_df = make_dataframe(pca2, 2)\n",
        "print(pca2_df.head)"
      ],
      "execution_count": null,
      "outputs": [
        {
          "output_type": "stream",
          "text": [
            "<bound method NDFrame.head of           pc1       pc2    Class\n",
            "0    11332.53   4098.77  disease\n",
            "1  -132611.62 -31954.64  disease\n",
            "2  -102831.61  62820.20  disease\n",
            "3      925.50 -41072.42  disease\n",
            "4   113919.31  61849.36  disease\n",
            "..        ...       ...      ...\n",
            "77   52214.34 -47499.41  control\n",
            "78   79846.58  58143.49  control\n",
            "79   85498.10 -52927.35  control\n",
            "80   70242.53  59060.97  control\n",
            "81  -19389.15 -56670.29  control\n",
            "\n",
            "[82 rows x 3 columns]>\n"
          ],
          "name": "stdout"
        }
      ]
    },
    {
      "cell_type": "code",
      "metadata": {
        "id": "--HrgVwLB0wH",
        "colab": {
          "base_uri": "https://localhost:8080/",
          "height": 341
        },
        "outputId": "d5522eca-81a4-47d1-c11b-38a85fb38205"
      },
      "source": [
        "plt.figure()\n",
        "plt.figure(figsize=(4, 4))\n",
        "plt.xticks(fontsize=12)\n",
        "plt.yticks(fontsize=14)\n",
        "plt.xlabel('PC1',fontsize=20)\n",
        "plt.ylabel('PC2',fontsize=20)\n",
        "plt.title(\"Principal Component Analysis=\",fontsize=12)\n",
        "targets = ['disease', 'control']\n",
        "colors = ['r', 'g']\n",
        "for target, color in zip(targets,colors):\n",
        "    indicesToKeep = df.Class == target\n",
        "    plt.scatter(pca2_df.loc[indicesToKeep, 'pc1']\n",
        "               , pca2_df.loc[indicesToKeep, 'pc2'], c = color, s = 50)\n",
        "\n",
        "plt.legend(targets,prop={'size': 15})"
      ],
      "execution_count": null,
      "outputs": [
        {
          "output_type": "execute_result",
          "data": {
            "text/plain": [
              "<matplotlib.legend.Legend at 0x7fc63931f610>"
            ]
          },
          "metadata": {
            "tags": []
          },
          "execution_count": 336
        },
        {
          "output_type": "display_data",
          "data": {
            "text/plain": [
              "<Figure size 432x288 with 0 Axes>"
            ]
          },
          "metadata": {
            "tags": []
          }
        },
        {
          "output_type": "display_data",
          "data": {
            "image/png": "[encoded data removed]",
            "text/plain": [
              "<Figure size 288x288 with 1 Axes>"
            ]
          },
          "metadata": {
            "tags": [],
            "needs_background": "light"
          }
        }
      ]
    },
    {
      "cell_type": "code",
      "metadata": {
        "id": "1-8uMYFWTBSG"
      },
      "source": [
        "def plotting(pca_df, n_components):\n",
        "    fig, axes = plt.subplots(nrows=n_components-1, ncols=4, figsize=(20, 8))\n",
        "\n",
        "    for i in range(n_components):\n",
        "        for j in range(i+1, n_components):\n",
        "            if j==n_components:\n",
        "                break\n",
        "            axes[i, j-1].set_xlabel(f'PC{i+1}',fontsize=20)\n",
        "            axes[i, j-1].set_ylabel(f'PC{j+1}',fontsize=20)\n",
        "            for target, color in zip(targets,colors):\n",
        "                indicesToKeep = df.Class == target\n",
        "                axes[i, j-1].scatter(pca_df.loc[indicesToKeep, f'pc{i+1}']\n",
        "                                , pca_df.loc[indicesToKeep, f'pc{j+1}'], c = color, s = 50)"
      ],
      "execution_count": null,
      "outputs": []
    },
    {
      "cell_type": "code",
      "metadata": {
        "id": "sXliCThzzpBO"
      },
      "source": [
        "pca3 = pca_analysis(3)\n",
        "\n",
        "pca3_df = make_dataframe(pca3, 3)\n",
        "# print(pca3_df.head)"
      ],
      "execution_count": null,
      "outputs": []
    },
    {
      "cell_type": "code",
      "metadata": {
        "id": "Z0U0vdvJCmSj",
        "colab": {
          "base_uri": "https://localhost:8080/",
          "height": 510
        },
        "outputId": "4b1b710e-3bba-4d5c-f628-eb401315a9ec"
      },
      "source": [
        "plotting(pca3_df, 3)"
      ],
      "execution_count": null,
      "outputs": [
        {
          "output_type": "display_data",
          "data": {
            "image/png": "[encoded data removed]",
            "text/plain": [
              "<Figure size 1440x576 with 8 Axes>"
            ]
          },
          "metadata": {
            "tags": [],
            "needs_background": "light"
          }
        }
      ]
    },
    {
      "cell_type": "code",
      "metadata": {
        "id": "EYPgDQ9A0gx8"
      },
      "source": [
        "pca4 = pca_analysis(4)\n",
        "\n",
        "pca4_df = make_dataframe(pca4, 4)\n",
        "# print(pca4_df.head)"
      ],
      "execution_count": null,
      "outputs": []
    },
    {
      "cell_type": "code",
      "metadata": {
        "id": "k9JGmoWDH-iP",
        "colab": {
          "base_uri": "https://localhost:8080/",
          "height": 510
        },
        "outputId": "292d2af0-d150-417c-e3d5-24c86db26581"
      },
      "source": [
        "plotting(pca4_df, 4)"
      ],
      "execution_count": null,
      "outputs": [
        {
          "output_type": "display_data",
          "data": {
            "image/png": "[encoded data removed]",
            "text/plain": [
              "<Figure size 1440x576 with 12 Axes>"
            ]
          },
          "metadata": {
            "tags": [],
            "needs_background": "light"
          }
        }
      ]
    },
    {
      "cell_type": "code",
      "metadata": {
        "id": "vZ16An_m-3TG"
      },
      "source": [
        "pca5 = pca_analysis(5)\n",
        "\n",
        "pca5_df = make_dataframe(pca5, 5)\n",
        "# print(pca5_df.head)"
      ],
      "execution_count": null,
      "outputs": []
    },
    {
      "cell_type": "code",
      "metadata": {
        "colab": {
          "base_uri": "https://localhost:8080/",
          "height": 506
        },
        "id": "7tAZAD4o_Lwv",
        "outputId": "77199232-ad1c-42db-bce4-39bc4c8e32c4"
      },
      "source": [
        "plotting(pca5_df, 5)"
      ],
      "execution_count": null,
      "outputs": [
        {
          "output_type": "display_data",
          "data": {
            "image/png": "[encoded data removed]",
            "text/plain": [
              "<Figure size 1440x576 with 16 Axes>"
            ]
          },
          "metadata": {
            "tags": [],
            "needs_background": "light"
          }
        }
      ]
    },
    {
      "cell_type": "code",
      "metadata": {
        "id": "1nMBpd5JIy3s"
      },
      "source": [
        "# now do PCA for 10, 15, 20\n",
        "pca10 = pca_analysis(10)\n",
        "pca10_df = make_dataframe(pca10, 10)\n",
        "\n",
        "pca15 = pca_analysis(15)\n",
        "pca15_df = make_dataframe(pca15, 15)\n",
        "\n",
        "pca20 = pca_analysis(20)\n",
        "pca20_df = make_dataframe(pca20, 20)\n",
        "# print(pca20_df.head)"
      ],
      "execution_count": null,
      "outputs": []
    },
    {
      "cell_type": "code",
      "metadata": {
        "id": "OJ4K_kNKNqWP"
      },
      "source": [
        "# pca15_df.to_csv(\"pca15.csv\")"
      ],
      "execution_count": null,
      "outputs": []
    },
    {
      "cell_type": "markdown",
      "metadata": {
        "id": "W4-0mzTTXRvT"
      },
      "source": [
        "#t-SNE"
      ]
    },
    {
      "cell_type": "code",
      "metadata": {
        "id": "d5FexA5TVUMe"
      },
      "source": [
        "from sklearn.manifold import TSNE\n",
        "def tsne_analysis(n_components):\n",
        "    tsne = TSNE(n_components=n_components)\n",
        "    tsne_result = tsne.fit_transform(df.iloc[:, :-1].values)\n",
        "\n",
        "    tsne_concatenate = np.concatenate([tsne_result, labels], axis=1)\n",
        "\n",
        "    return tsne_concatenate"
      ],
      "execution_count": null,
      "outputs": []
    },
    {
      "cell_type": "code",
      "metadata": {
        "id": "I_R9XARdt-V0"
      },
      "source": [
        "def tsne_dataframe(array, n_features):\n",
        "    col = []\n",
        "    for i in range(1, n_features+1):\n",
        "        col.append(f'tsne{i}')\n",
        "    col.append('Class')\n",
        "    return pd.DataFrame(array, columns = col)"
      ],
      "execution_count": null,
      "outputs": []
    },
    {
      "cell_type": "code",
      "metadata": {
        "id": "RROhs0r4uigO"
      },
      "source": [
        "def tsne_plotting(tsne_df, n_components):\n",
        "    fig, axes = plt.subplots(nrows=n_components-1, ncols=4, figsize=(20, 8))\n",
        "\n",
        "    for i in range(n_components):\n",
        "        for j in range(i+1, n_components):\n",
        "            if j==n_components:\n",
        "                break\n",
        "            axes[i, j-1].set_xlabel(f'TSNE{i+1}',fontsize=20)\n",
        "            axes[i, j-1].set_ylabel(f'TSNE{j+1}',fontsize=20)\n",
        "            for target, color in zip(targets,colors):\n",
        "                indicesToKeep = df.Class == target\n",
        "                axes[i, j-1].scatter(tsne_df.loc[indicesToKeep, f'tsne{i+1}']\n",
        "                                , tsne_df.loc[indicesToKeep, f'tsne{j+1}'], c = color, s = 50)"
      ],
      "execution_count": null,
      "outputs": []
    },
    {
      "cell_type": "code",
      "metadata": {
        "colab": {
          "base_uri": "https://localhost:8080/",
          "height": 265
        },
        "id": "BaIC09d1YJyp",
        "outputId": "237ba941-6c89-4eea-d789-7f8d6349cb10"
      },
      "source": [
        "tsne2 = tsne_analysis(2)\n",
        "\n",
        "tsne2_df = tsne_dataframe(tsne2, 2)\n",
        "# print(tsne2_df.head)\n",
        "# plotting(tsne2_df, 1, 1)\n",
        "\n",
        "for target, color in zip(targets,colors):\n",
        "    indicesToKeep = df.Class == target\n",
        "    plt.scatter(tsne2_df.loc[indicesToKeep, 'tsne1']\n",
        "               , tsne2_df.loc[indicesToKeep, 'tsne2'], c = color, s = 50)"
      ],
      "execution_count": null,
      "outputs": [
        {
          "output_type": "display_data",
          "data": {
            "image/png": "[encoded data removed]",
            "text/plain": [
              "<Figure size 432x288 with 1 Axes>"
            ]
          },
          "metadata": {
            "tags": [],
            "needs_background": "light"
          }
        }
      ]
    },
    {
      "cell_type": "code",
      "metadata": {
        "colab": {
          "base_uri": "https://localhost:8080/",
          "height": 510
        },
        "id": "qKnrjJTzYh63",
        "outputId": "d8263a8f-454b-47dc-e94d-6a016fd1153e"
      },
      "source": [
        "tsne3 = tsne_analysis(3)\n",
        "\n",
        "tsne3_df = tsne_dataframe(tsne3, 3)\n",
        "# print(tsne2_df.head)\n",
        "tsne_plotting(tsne3_df, 3)\n"
      ],
      "execution_count": null,
      "outputs": [
        {
          "output_type": "display_data",
          "data": {
            "image/png": "[encoded data removed]",
            "text/plain": [
              "<Figure size 1440x576 with 8 Axes>"
            ]
          },
          "metadata": {
            "tags": [],
            "needs_background": "light"
          }
        }
      ]
    },
    {
      "cell_type": "code",
      "metadata": {
        "id": "P-BRS2vwvm8x"
      },
      "source": [
        "# tsne2_df.to_csv('tsne2.csv')"
      ],
      "execution_count": null,
      "outputs": []
    },
    {
      "cell_type": "markdown",
      "metadata": {
        "id": "O5YQ-9mOzz0x"
      },
      "source": [
        "# Models"
      ]
    },
    {
      "cell_type": "code",
      "metadata": {
        "id": "sLVgPz17wu7w"
      },
      "source": [
        "# !pip install lazypredict"
      ],
      "execution_count": null,
      "outputs": []
    },
    {
      "cell_type": "code",
      "metadata": {
        "colab": {
          "base_uri": "https://localhost:8080/"
        },
        "id": "SV4dW4amy-lK",
        "outputId": "b81c93cc-92c6-49c8-d672-4c35765441c4"
      },
      "source": [
        "X = pca20_df.drop('Class', axis=1)\n",
        "y = pca20_df['Class'].copy()\n",
        "y = y.map({\"control\": 1, \"disease\": 0})\n",
        "\n",
        "X.shape, y.shape"
      ],
      "execution_count": null,
      "outputs": [
        {
          "output_type": "execute_result",
          "data": {
            "text/plain": [
              "((82, 20), (82,))"
            ]
          },
          "metadata": {
            "tags": []
          },
          "execution_count": 403
        }
      ]
    },
    {
      "cell_type": "code",
      "metadata": {
        "colab": {
          "base_uri": "https://localhost:8080/"
        },
        "id": "GU_pgs6L9DH6",
        "outputId": "10cdffe3-58a2-4b82-cd73-b01e213a4477"
      },
      "source": [
        "y.head()"
      ],
      "execution_count": null,
      "outputs": [
        {
          "output_type": "execute_result",
          "data": {
            "text/plain": [
              "0    0\n",
              "1    0\n",
              "2    0\n",
              "3    0\n",
              "4    0\n",
              "Name: Class, dtype: int64"
            ]
          },
          "metadata": {
            "tags": []
          },
          "execution_count": 404
        }
      ]
    },
    {
      "cell_type": "code",
      "metadata": {
        "colab": {
          "base_uri": "https://localhost:8080/"
        },
        "id": "fu0qvA4o20ZG",
        "outputId": "cc2d6b12-6877-44d4-9b1a-1a285cbf1e31"
      },
      "source": [
        "y.value_counts()"
      ],
      "execution_count": null,
      "outputs": [
        {
          "output_type": "execute_result",
          "data": {
            "text/plain": [
              "1    41\n",
              "0    41\n",
              "Name: Class, dtype: int64"
            ]
          },
          "metadata": {
            "tags": []
          },
          "execution_count": 405
        }
      ]
    },
    {
      "cell_type": "code",
      "metadata": {
        "id": "wofvYf1N0sEL"
      },
      "source": [
        "import lazypredict\n",
        "from lazypredict.Supervised import LazyClassifier\n",
        "\n",
        "from sklearn.metrics import accuracy_score\n",
        "from sklearn.metrics import confusion_matrix\n",
        "from sklearn.metrics import matthews_corrcoef\n",
        "from sklearn.metrics import classification_report\n",
        "\n",
        "from sklearn.model_selection import train_test_split, StratifiedKFold"
      ],
      "execution_count": null,
      "outputs": []
    },
    {
      "cell_type": "code",
      "metadata": {
        "id": "_rTuJYNZ0s1z"
      },
      "source": [
        "result = []\n",
        "# for i in range(10):\n",
        "clf = LazyClassifier(verbose=0, ignore_warnings=True, custom_metric=matthews_corrcoef, predictions=True)\n",
        "X_train, X_test, y_train, y_test = train_test_split(X, y, test_size=0.3, random_state=42)"
      ],
      "execution_count": null,
      "outputs": []
    },
    {
      "cell_type": "code",
      "metadata": {
        "colab": {
          "base_uri": "https://localhost:8080/"
        },
        "id": "SpbEnMnjAdU1",
        "outputId": "9e589445-1c7c-429c-80a4-0c319654ffeb"
      },
      "source": [
        "X.head"
      ],
      "execution_count": null,
      "outputs": [
        {
          "output_type": "execute_result",
          "data": {
            "text/plain": [
              "<bound method NDFrame.head of           pc1       pc2       pc3  ...     pc18     pc19      pc20\n",
              "0    11332.53   4098.77 -56439.81  ... -4031.37  4373.10   6807.37\n",
              "1  -132611.62 -31954.64 -23372.07  ...  1859.60  8482.01  -5703.61\n",
              "2  -102831.61  62820.20  -4142.31  ...  3883.32 -3383.34    -28.50\n",
              "3      925.50 -41072.42  -3271.30  ...  6733.92  -840.68  -7569.87\n",
              "4   113919.31  61849.36 -95822.00  ... -3634.09 -2311.85  -8630.51\n",
              "..        ...       ...       ...  ...      ...      ...       ...\n",
              "77   52214.34 -47499.41 -64773.06  ...  9078.57  1467.56   3843.21\n",
              "78   79846.58  58143.49 -72671.76  ... -1360.54 -2509.33  -3203.35\n",
              "79   85498.10 -52927.35 -61290.67  ...  1431.79  -790.00 -12631.30\n",
              "80   70242.53  59060.97  43750.75  ...  5366.32 -7063.66   4263.91\n",
              "81  -19389.15 -56670.29  72379.58  ...   690.60 -1292.52  -6887.77\n",
              "\n",
              "[82 rows x 20 columns]>"
            ]
          },
          "metadata": {
            "tags": []
          },
          "execution_count": 409
        }
      ]
    },
    {
      "cell_type": "code",
      "metadata": {
        "id": "ELhXw0em9PIX",
        "colab": {
          "base_uri": "https://localhost:8080/",
          "height": 94
        },
        "outputId": "bea843c4-21a8-431b-b3ca-2e6b316c4d41"
      },
      "source": [
        "models, predictions = clf.fit(X_train, X_test, y_train, y_test)\n",
        "# model_dictionary = clf.provide_models(X, X_test, y, y_test)\n",
        "# print(models.shape)\n",
        "# result.append(models.iloc[:, :])\n",
        "# print(i, X_train.shape, X_test.shape, y_train.shape, y_test.shape)\n",
        "# print(predictions)\n",
        "\n",
        "models"
      ],
      "execution_count": null,
      "outputs": [
        {
          "output_type": "stream",
          "text": [
            "100%|██████████| 29/29 [00:00<00:00, 34.57it/s]\n"
          ],
          "name": "stderr"
        },
        {
          "output_type": "execute_result",
          "data": {
            "text/html": [
              "<div>\n",
              "<style scoped>\n",
              "    .dataframe tbody tr th:only-of-type {\n",
              "        vertical-align: middle;\n",
              "    }\n",
              "\n",
              "    .dataframe tbody tr th {\n",
              "        vertical-align: top;\n",
              "    }\n",
              "\n",
              "    .dataframe thead th {\n",
              "        text-align: right;\n",
              "    }\n",
              "</style>\n",
              "<table border=\"1\" class=\"dataframe\">\n",
              "  <thead>\n",
              "    <tr style=\"text-align: right;\">\n",
              "      <th></th>\n",
              "      <th>Accuracy</th>\n",
              "      <th>Balanced Accuracy</th>\n",
              "      <th>ROC AUC</th>\n",
              "      <th>F1 Score</th>\n",
              "      <th>matthews_corrcoef</th>\n",
              "      <th>Time Taken</th>\n",
              "    </tr>\n",
              "    <tr>\n",
              "      <th>Model</th>\n",
              "      <th></th>\n",
              "      <th></th>\n",
              "      <th></th>\n",
              "      <th></th>\n",
              "      <th></th>\n",
              "      <th></th>\n",
              "    </tr>\n",
              "  </thead>\n",
              "  <tbody>\n",
              "  </tbody>\n",
              "</table>\n",
              "</div>"
            ],
            "text/plain": [
              "Empty DataFrame\n",
              "Columns: [Accuracy, Balanced Accuracy, ROC AUC, F1 Score, matthews_corrcoef, Time Taken]\n",
              "Index: []"
            ]
          },
          "metadata": {
            "tags": []
          },
          "execution_count": 410
        }
      ]
    },
    {
      "cell_type": "markdown",
      "metadata": {
        "id": "hndZf7kwE3du"
      },
      "source": [
        "No result coming using:\n",
        "\n",
        "```\n",
        "clf.fit(X_train, X_test, y_train, y_test)\n",
        "```\n",
        "\n",
        "Accuracy comes 100% using:\n",
        "\n",
        "```\n",
        "clf.fit(X, X_test, y, y_test)\n",
        "```\n",
        "\n"
      ]
    },
    {
      "cell_type": "markdown",
      "metadata": {
        "id": "eTf5yxFn_-_i"
      },
      "source": [
        "## Review (Fuad)"
      ]
    },
    {
      "cell_type": "code",
      "metadata": {
        "id": "B_G4zqqRA6gl",
        "colab": {
          "base_uri": "https://localhost:8080/",
          "height": 1000
        },
        "outputId": "ca1065a2-5feb-49f7-e5ff-3a31fb48e0b7"
      },
      "source": [
        "!pip install lazypredict"
      ],
      "execution_count": null,
      "outputs": [
        {
          "output_type": "stream",
          "text": [
            "Collecting lazypredict\n",
            "  Downloading https://files.pythonhosted.org/packages/97/38/cadb2b79268c7f82f6b027bf0b2f68750aafc5c70b6e1bc46b357386e07b/lazypredict-0.2.9-py2.py3-none-any.whl\n",
            "Collecting lightgbm==2.3.1\n",
            "\u001b[?25l  Downloading https://files.pythonhosted.org/packages/0b/9d/ddcb2f43aca194987f1a99e27edf41cf9bc39ea750c3371c2a62698c509a/lightgbm-2.3.1-py2.py3-none-manylinux1_x86_64.whl (1.2MB)\n",
            "\u001b[K     |████████████████████████████████| 1.2MB 5.1MB/s \n",
            "\u001b[?25hRequirement already satisfied: click==7.1.2 in /usr/local/lib/python3.7/dist-packages (from lazypredict) (7.1.2)\n",
            "Collecting tqdm==4.56.0\n",
            "\u001b[?25l  Downloading https://files.pythonhosted.org/packages/80/02/8f8880a4fd6625461833abcf679d4c12a44c76f9925f92bf212bb6cefaad/tqdm-4.56.0-py2.py3-none-any.whl (72kB)\n",
            "\u001b[K     |████████████████████████████████| 81kB 5.8MB/s \n",
            "\u001b[?25hCollecting scikit-learn==0.23.1\n",
            "\u001b[?25l  Downloading https://files.pythonhosted.org/packages/b8/7e/74e707b66490d4eb05f702966ad0990881127acecf9d5cdcef3c95ec6c16/scikit_learn-0.23.1-cp37-cp37m-manylinux1_x86_64.whl (6.8MB)\n",
            "\u001b[K     |████████████████████████████████| 6.8MB 13.9MB/s \n",
            "\u001b[?25hCollecting numpy==1.19.1\n",
            "\u001b[?25l  Downloading https://files.pythonhosted.org/packages/50/8f/29d5688614f9bba59931683d5d353d738d4a3007833219ee19c455732753/numpy-1.19.1-cp37-cp37m-manylinux2010_x86_64.whl (14.5MB)\n",
            "\u001b[K     |████████████████████████████████| 14.5MB 281kB/s \n",
            "\u001b[?25hCollecting PyYAML==5.3.1\n",
            "\u001b[?25l  Downloading https://files.pythonhosted.org/packages/64/c2/b80047c7ac2478f9501676c988a5411ed5572f35d1beff9cae07d321512c/PyYAML-5.3.1.tar.gz (269kB)\n",
            "\u001b[K     |████████████████████████████████| 276kB 38.2MB/s \n",
            "\u001b[?25hCollecting xgboost==1.1.1\n",
            "\u001b[?25l  Downloading https://files.pythonhosted.org/packages/7c/32/a11befbb003e0e6b7e062a77f010dfcec0ec3589be537b02d2eb2ff93b9a/xgboost-1.1.1-py3-none-manylinux2010_x86_64.whl (127.6MB)\n",
            "\u001b[K     |████████████████████████████████| 127.6MB 62kB/s \n",
            "\u001b[?25hCollecting scipy==1.5.4\n",
            "\u001b[?25l  Downloading https://files.pythonhosted.org/packages/dc/7e/8f6a79b102ca1ea928bae8998b05bf5dc24a90571db13cd119f275ba6252/scipy-1.5.4-cp37-cp37m-manylinux1_x86_64.whl (25.9MB)\n",
            "\u001b[K     |████████████████████████████████| 25.9MB 1.6MB/s \n",
            "\u001b[?25hCollecting pandas==1.0.5\n",
            "\u001b[?25l  Downloading https://files.pythonhosted.org/packages/af/f3/683bf2547a3eaeec15b39cef86f61e921b3b187f250fcd2b5c5fb4386369/pandas-1.0.5-cp37-cp37m-manylinux1_x86_64.whl (10.1MB)\n",
            "\u001b[K     |████████████████████████████████| 10.1MB 37.7MB/s \n",
            "\u001b[?25hRequirement already satisfied: six==1.15.0 in /usr/local/lib/python3.7/dist-packages (from lazypredict) (1.15.0)\n",
            "Collecting joblib==1.0.0\n",
            "\u001b[?25l  Downloading https://files.pythonhosted.org/packages/34/5b/bd0f0fb5564183884d8e35b81d06d7ec06a20d1a0c8b4c407f1554691dce/joblib-1.0.0-py3-none-any.whl (302kB)\n",
            "\u001b[K     |████████████████████████████████| 307kB 49.0MB/s \n",
            "\u001b[?25hCollecting pytest==5.4.3\n",
            "\u001b[?25l  Downloading https://files.pythonhosted.org/packages/9f/f3/0a83558da436a081344aa6c8b85ea5b5f05071214106036ce341b7769b0b/pytest-5.4.3-py3-none-any.whl (248kB)\n",
            "\u001b[K     |████████████████████████████████| 256kB 38.0MB/s \n",
            "\u001b[?25hCollecting threadpoolctl>=2.0.0\n",
            "  Downloading https://files.pythonhosted.org/packages/f7/12/ec3f2e203afa394a149911729357aa48affc59c20e2c1c8297a60f33f133/threadpoolctl-2.1.0-py3-none-any.whl\n",
            "Requirement already satisfied: pytz>=2017.2 in /usr/local/lib/python3.7/dist-packages (from pandas==1.0.5->lazypredict) (2018.9)\n",
            "Requirement already satisfied: python-dateutil>=2.6.1 in /usr/local/lib/python3.7/dist-packages (from pandas==1.0.5->lazypredict) (2.8.1)\n",
            "Requirement already satisfied: packaging in /usr/local/lib/python3.7/dist-packages (from pytest==5.4.3->lazypredict) (20.9)\n",
            "Collecting pluggy<1.0,>=0.12\n",
            "  Downloading https://files.pythonhosted.org/packages/a0/28/85c7aa31b80d150b772fbe4a229487bc6644da9ccb7e427dd8cc60cb8a62/pluggy-0.13.1-py2.py3-none-any.whl\n",
            "Requirement already satisfied: wcwidth in /usr/local/lib/python3.7/dist-packages (from pytest==5.4.3->lazypredict) (0.2.5)\n",
            "Requirement already satisfied: attrs>=17.4.0 in /usr/local/lib/python3.7/dist-packages (from pytest==5.4.3->lazypredict) (20.3.0)\n",
            "Requirement already satisfied: importlib-metadata>=0.12; python_version < \"3.8\" in /usr/local/lib/python3.7/dist-packages (from pytest==5.4.3->lazypredict) (3.10.1)\n",
            "Requirement already satisfied: more-itertools>=4.0.0 in /usr/local/lib/python3.7/dist-packages (from pytest==5.4.3->lazypredict) (8.7.0)\n",
            "Requirement already satisfied: py>=1.5.0 in /usr/local/lib/python3.7/dist-packages (from pytest==5.4.3->lazypredict) (1.10.0)\n",
            "Requirement already satisfied: pyparsing>=2.0.2 in /usr/local/lib/python3.7/dist-packages (from packaging->pytest==5.4.3->lazypredict) (2.4.7)\n",
            "Requirement already satisfied: zipp>=0.5 in /usr/local/lib/python3.7/dist-packages (from importlib-metadata>=0.12; python_version < \"3.8\"->pytest==5.4.3->lazypredict) (3.4.1)\n",
            "Requirement already satisfied: typing-extensions>=3.6.4; python_version < \"3.8\" in /usr/local/lib/python3.7/dist-packages (from importlib-metadata>=0.12; python_version < \"3.8\"->pytest==5.4.3->lazypredict) (3.7.4.3)\n",
            "Building wheels for collected packages: PyYAML\n",
            "  Building wheel for PyYAML (setup.py) ... \u001b[?25l\u001b[?25hdone\n",
            "  Created wheel for PyYAML: filename=PyYAML-5.3.1-cp37-cp37m-linux_x86_64.whl size=44620 sha256=29bea8bde06e8cb7cda6b234b00a38fb09f67a1a00513c838e2f5093dbc40d16\n",
            "  Stored in directory: /root/.cache/pip/wheels/a7/c1/ea/cf5bd31012e735dc1dfea3131a2d5eae7978b251083d6247bd\n",
            "Successfully built PyYAML\n",
            "\u001b[31mERROR: tensorflow 2.4.1 has requirement numpy~=1.19.2, but you'll have numpy 1.19.1 which is incompatible.\u001b[0m\n",
            "\u001b[31mERROR: google-colab 1.0.0 has requirement pandas~=1.1.0; python_version >= \"3.0\", but you'll have pandas 1.0.5 which is incompatible.\u001b[0m\n",
            "\u001b[31mERROR: datascience 0.10.6 has requirement folium==0.2.1, but you'll have folium 0.8.3 which is incompatible.\u001b[0m\n",
            "\u001b[31mERROR: albumentations 0.1.12 has requirement imgaug<0.2.7,>=0.2.5, but you'll have imgaug 0.2.9 which is incompatible.\u001b[0m\n",
            "Installing collected packages: joblib, numpy, scipy, threadpoolctl, scikit-learn, lightgbm, tqdm, PyYAML, xgboost, pandas, pluggy, pytest, lazypredict\n",
            "  Found existing installation: joblib 1.0.1\n",
            "    Uninstalling joblib-1.0.1:\n",
            "      Successfully uninstalled joblib-1.0.1\n",
            "  Found existing installation: numpy 1.19.5\n",
            "    Uninstalling numpy-1.19.5:\n",
            "      Successfully uninstalled numpy-1.19.5\n",
            "  Found existing installation: scipy 1.4.1\n",
            "    Uninstalling scipy-1.4.1:\n",
            "      Successfully uninstalled scipy-1.4.1\n",
            "  Found existing installation: scikit-learn 0.22.2.post1\n",
            "    Uninstalling scikit-learn-0.22.2.post1:\n",
            "      Successfully uninstalled scikit-learn-0.22.2.post1\n",
            "  Found existing installation: lightgbm 2.2.3\n",
            "    Uninstalling lightgbm-2.2.3:\n",
            "      Successfully uninstalled lightgbm-2.2.3\n",
            "  Found existing installation: tqdm 4.41.1\n",
            "    Uninstalling tqdm-4.41.1:\n",
            "      Successfully uninstalled tqdm-4.41.1\n",
            "  Found existing installation: PyYAML 3.13\n",
            "    Uninstalling PyYAML-3.13:\n",
            "      Successfully uninstalled PyYAML-3.13\n",
            "  Found existing installation: xgboost 0.90\n",
            "    Uninstalling xgboost-0.90:\n",
            "      Successfully uninstalled xgboost-0.90\n",
            "  Found existing installation: pandas 1.1.5\n",
            "    Uninstalling pandas-1.1.5:\n",
            "      Successfully uninstalled pandas-1.1.5\n",
            "  Found existing installation: pluggy 0.7.1\n",
            "    Uninstalling pluggy-0.7.1:\n",
            "      Successfully uninstalled pluggy-0.7.1\n",
            "  Found existing installation: pytest 3.6.4\n",
            "    Uninstalling pytest-3.6.4:\n",
            "      Successfully uninstalled pytest-3.6.4\n",
            "Successfully installed PyYAML-5.3.1 joblib-1.0.0 lazypredict-0.2.9 lightgbm-2.3.1 numpy-1.19.1 pandas-1.0.5 pluggy-0.13.1 pytest-5.4.3 scikit-learn-0.23.1 scipy-1.5.4 threadpoolctl-2.1.0 tqdm-4.56.0 xgboost-1.1.1\n"
          ],
          "name": "stdout"
        },
        {
          "output_type": "display_data",
          "data": {
            "application/vnd.colab-display-data+json": {
              "pip_warning": {
                "packages": [
                  "numpy",
                  "pandas"
                ]
              }
            }
          },
          "metadata": {
            "tags": []
          }
        }
      ]
    },
    {
      "cell_type": "code",
      "metadata": {
        "colab": {
          "base_uri": "https://localhost:8080/"
        },
        "id": "XGrH8llNk2Yt",
        "outputId": "2fcc698d-feac-4219-a122-93f7909ee751"
      },
      "source": [
        "!gdown --id 1GRpLNpEz5_B0B6Afecrl5JcbsHr1G5uc\n",
        "!gdown --id 1WJ5Xkij0jpTARakBAvGGBX9pZVWVwVdN\n",
        "!gdown --id 1Ee4pPuUJDZY36bnEQoBhJVTYyk-FXIRC\n",
        "!gdown --id 166sbcZChiwBPF_n7bRscJu1HYOffuGW4"
      ],
      "execution_count": null,
      "outputs": [
        {
          "output_type": "stream",
          "text": [
            "Downloading...\n",
            "From: https://drive.google.com/uc?id=1GRpLNpEz5_B0B6Afecrl5JcbsHr1G5uc\n",
            "To: /content/serum_processed.csv\n",
            "100% 61.4k/61.4k [00:00<00:00, 52.9MB/s]\n",
            "Downloading...\n",
            "From: https://drive.google.com/uc?id=1WJ5Xkij0jpTARakBAvGGBX9pZVWVwVdN\n",
            "To: /content/plusmaLC.csv\n",
            "100% 62.4k/62.4k [00:00<00:00, 47.9MB/s]\n",
            "Downloading...\n",
            "From: https://drive.google.com/uc?id=1Ee4pPuUJDZY36bnEQoBhJVTYyk-FXIRC\n",
            "To: /content/serumLC.csv\n",
            "100% 61.9k/61.9k [00:00<00:00, 21.4MB/s]\n",
            "Downloading...\n",
            "From: https://drive.google.com/uc?id=166sbcZChiwBPF_n7bRscJu1HYOffuGW4\n",
            "To: /content/plasma_processed.csv\n",
            "100% 88.5k/88.5k [00:00<00:00, 52.3MB/s]\n"
          ],
          "name": "stdout"
        }
      ]
    },
    {
      "cell_type": "code",
      "metadata": {
        "id": "Mr6WIKzDAysz",
        "colab": {
          "base_uri": "https://localhost:8080/"
        },
        "outputId": "63f95ebd-4931-4bae-fba3-20579c305d82"
      },
      "source": [
        "import pandas as pd\n",
        "import numpy as np\n",
        "import matplotlib.pyplot as plt\n",
        "%matplotlib inline\n",
        "\n",
        "import lazypredict\n",
        "from lazypredict.Supervised import LazyClassifier\n",
        "\n",
        "from sklearn.metrics import accuracy_score\n",
        "from sklearn.metrics import confusion_matrix\n",
        "from sklearn.metrics import matthews_corrcoef\n",
        "from sklearn.metrics import classification_report\n",
        "\n",
        "from sklearn.model_selection import ShuffleSplit, train_test_split, StratifiedKFold"
      ],
      "execution_count": null,
      "outputs": [
        {
          "output_type": "stream",
          "text": [
            "/usr/local/lib/python3.7/dist-packages/sklearn/utils/deprecation.py:143: FutureWarning: The sklearn.utils.testing module is  deprecated in version 0.22 and will be removed in version 0.24. The corresponding classes / functions should instead be imported from sklearn.utils. Anything that cannot be imported from sklearn.utils is now part of the private API.\n",
            "  warnings.warn(message, FutureWarning)\n"
          ],
          "name": "stderr"
        }
      ]
    },
    {
      "cell_type": "code",
      "metadata": {
        "id": "8Fgk_Kqr8hIB",
        "colab": {
          "base_uri": "https://localhost:8080/"
        },
        "outputId": "80f07711-c599-47a1-b358-79aa01a67029"
      },
      "source": [
        "serumLC_df = pd.read_csv('/content/serumLC.csv')\n",
        "plasmaLC_df = pd.read_csv('/content/plusmaLC.csv')\n",
        "serum_processed_df = pd.read_csv('/content/serum_processed.csv')\n",
        "plasma_processed_df = pd.read_csv('/content/plasma_processed.csv')\n",
        "\n",
        "serumLC_df.shape, plasmaLC_df.shape, serum_processed_df.shape, plasma_processed_df.shape"
      ],
      "execution_count": null,
      "outputs": [
        {
          "output_type": "execute_result",
          "data": {
            "text/plain": [
              "((158, 83), (158, 83), (82, 160), (82, 160))"
            ]
          },
          "metadata": {
            "tags": []
          },
          "execution_count": 3
        }
      ]
    },
    {
      "cell_type": "code",
      "metadata": {
        "id": "A3PDaO8i91Jb",
        "colab": {
          "base_uri": "https://localhost:8080/"
        },
        "outputId": "9d35c2c3-2bcd-4446-b2aa-42efd3fffada"
      },
      "source": [
        "serumLC_df = serumLC_df.T\n",
        "col = {}\n",
        "for i in range(serumLC_df.shape[1]):\n",
        "    col[i] = serumLC_df.iloc[0, i]\n",
        "serumLC_df = serumLC_df.rename(columns = col, inplace = False)\n",
        "serumLC_df = serumLC_df.iloc[1:, :]\n",
        "\n",
        "plasmaLC_df = plasmaLC_df.T\n",
        "col = {}\n",
        "for i in range(plasmaLC_df.shape[1]):\n",
        "    col[i] = plasmaLC_df.iloc[0, i]\n",
        "plasmaLC_df = plasmaLC_df.rename(columns = col, inplace = False)\n",
        "plasmaLC_df = plasmaLC_df.iloc[1:, :]\n",
        "\n",
        "serum_processed_df = serum_processed_df.drop('Unnamed: 0', axis=1)\n",
        "plasma_processed_df = plasma_processed_df.drop('Unnamed: 0', axis=1)\n",
        "serumLC_df.shape, plasmaLC_df.shape, serum_processed_df.shape, plasma_processed_df.shape"
      ],
      "execution_count": null,
      "outputs": [
        {
          "output_type": "execute_result",
          "data": {
            "text/plain": [
              "((82, 158), (82, 158), (82, 159), (82, 159))"
            ]
          },
          "metadata": {
            "tags": []
          },
          "execution_count": 4
        }
      ]
    },
    {
      "cell_type": "code",
      "metadata": {
        "id": "8luVPTZFTSpQ",
        "colab": {
          "base_uri": "https://localhost:8080/"
        },
        "outputId": "1155c51e-a96a-4cbf-c8b9-64b778a7a3d9"
      },
      "source": [
        "plasma_processed_df.Class.value_counts()"
      ],
      "execution_count": null,
      "outputs": [
        {
          "output_type": "execute_result",
          "data": {
            "text/plain": [
              "control    41\n",
              "disease    41\n",
              "Name: Class, dtype: int64"
            ]
          },
          "metadata": {
            "tags": []
          },
          "execution_count": 5
        }
      ]
    },
    {
      "cell_type": "code",
      "metadata": {
        "id": "gTRz8wlN-Zio",
        "colab": {
          "base_uri": "https://localhost:8080/"
        },
        "outputId": "dd65896e-6df2-4ee4-f7e4-f3c5fccb1ffd"
      },
      "source": [
        "serum_processed_df.isnull().values.any(), plasma_processed_df.isnull().values.any()"
      ],
      "execution_count": null,
      "outputs": [
        {
          "output_type": "execute_result",
          "data": {
            "text/plain": [
              "(False, False)"
            ]
          },
          "metadata": {
            "tags": []
          },
          "execution_count": 6
        }
      ]
    },
    {
      "cell_type": "code",
      "metadata": {
        "id": "mFGBwSwYBpsx"
      },
      "source": [
        "def get_xy(df):\n",
        "  X = df.drop('Class', axis=1)\n",
        "  y = df['Class'].copy()\n",
        "  y = y.map({\"control\": 0, \"disease\": 1})\n",
        "  return X, y"
      ],
      "execution_count": null,
      "outputs": []
    },
    {
      "cell_type": "code",
      "metadata": {
        "id": "eKoAzi2-XCzq"
      },
      "source": [
        "from sklearn.preprocessing import StandardScaler, MinMaxScaler, RobustScaler, LabelEncoder"
      ],
      "execution_count": null,
      "outputs": []
    },
    {
      "cell_type": "code",
      "metadata": {
        "colab": {
          "base_uri": "https://localhost:8080/"
        },
        "id": "or5h3YFslXGj",
        "outputId": "47d00867-deaf-48ef-fd2b-98d91a421e76"
      },
      "source": [
        "name = ['serum', 'plasma']\n",
        "dfs = [serum_processed_df, plasma_processed_df]\n",
        "random_state = 42\n",
        "\n",
        "for idx, data in enumerate(dfs):\n",
        "  result = []\n",
        "  X, y = get_xy(data)\n",
        "  rs = ShuffleSplit(n_splits=10, test_size=.2, random_state=random_state)\n",
        "  raw_x = X\n",
        "  for train_index, test_index in rs.split(X):\n",
        "    clf = LazyClassifier(verbose=0, ignore_warnings=True, custom_metric=matthews_corrcoef, predictions=True)\n",
        "    X_train, X_test = X.iloc[train_index], X.iloc[test_index]\n",
        "    y_train, y_test = y.iloc[train_index], y.iloc[test_index]\n",
        "\n",
        "    models, predictions = clf.fit(X_train, X_test, y_train, y_test)\n",
        "    result.append(models)\n",
        "\n",
        "  acc = []\n",
        "  for i in range(10):\n",
        "    acc.append(result[i].iloc[0]['Balanced Accuracy'])\n",
        "  print(f'\\n{name[idx]}: {sum(acc)/len(acc)}')"
      ],
      "execution_count": null,
      "outputs": [
        {
          "output_type": "stream",
          "text": [
            "100%|██████████| 29/29 [00:01<00:00, 19.95it/s]\n",
            "100%|██████████| 29/29 [00:01<00:00, 20.84it/s]\n",
            "100%|██████████| 29/29 [00:01<00:00, 21.63it/s]\n",
            "100%|██████████| 29/29 [00:01<00:00, 20.32it/s]\n",
            "100%|██████████| 29/29 [00:01<00:00, 21.08it/s]\n",
            "100%|██████████| 29/29 [00:01<00:00, 19.45it/s]\n",
            "100%|██████████| 29/29 [00:01<00:00, 20.73it/s]\n",
            "100%|██████████| 29/29 [00:01<00:00, 20.69it/s]\n",
            "100%|██████████| 29/29 [00:01<00:00, 20.21it/s]\n",
            "100%|██████████| 29/29 [00:01<00:00, 21.29it/s]\n",
            "  3%|▎         | 1/29 [00:00<00:04,  6.69it/s]"
          ],
          "name": "stderr"
        },
        {
          "output_type": "stream",
          "text": [
            "\n",
            "serum: 0.8472465034965035\n"
          ],
          "name": "stdout"
        },
        {
          "output_type": "stream",
          "text": [
            "100%|██████████| 29/29 [00:01<00:00, 21.89it/s]\n",
            "100%|██████████| 29/29 [00:01<00:00, 22.21it/s]\n",
            "100%|██████████| 29/29 [00:01<00:00, 21.25it/s]\n",
            "100%|██████████| 29/29 [00:01<00:00, 21.72it/s]\n",
            "100%|██████████| 29/29 [00:01<00:00, 21.36it/s]\n",
            "100%|██████████| 29/29 [00:01<00:00, 21.18it/s]\n",
            "100%|██████████| 29/29 [00:01<00:00, 20.14it/s]\n",
            "100%|██████████| 29/29 [00:01<00:00, 22.00it/s]\n",
            "100%|██████████| 29/29 [00:01<00:00, 22.21it/s]\n",
            "100%|██████████| 29/29 [00:01<00:00, 19.77it/s]"
          ],
          "name": "stderr"
        },
        {
          "output_type": "stream",
          "text": [
            "\n",
            "plasme: 0.8716054778554779\n"
          ],
          "name": "stdout"
        },
        {
          "output_type": "stream",
          "text": [
            "\n"
          ],
          "name": "stderr"
        }
      ]
    },
    {
      "cell_type": "markdown",
      "metadata": {
        "id": "qAOeA-daECke"
      },
      "source": [
        "    plasma :: 87.16%\n",
        "    serum :: 84.72%"
      ]
    }
  ]
}