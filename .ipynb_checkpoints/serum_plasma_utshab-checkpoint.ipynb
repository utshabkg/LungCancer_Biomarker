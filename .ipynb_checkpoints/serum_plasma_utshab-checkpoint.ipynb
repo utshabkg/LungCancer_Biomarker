{
 "cells": [
  {
   "cell_type": "markdown",
   "metadata": {
    "id": "OktzdLyrDm34"
   },
   "source": [
    "[Download DATASETS from here](https://drive.google.com/drive/folders/1cBv9fiBQE2PedVPvTu56tOMIOtJTjTj1?usp=sharing)"
   ]
  },
  {
   "cell_type": "code",
   "execution_count": 1,
   "metadata": {
    "id": "_2KKqfz-5Ioi"
   },
   "outputs": [],
   "source": [
    "import pandas as pd\n",
    "import numpy as np\n",
    "import matplotlib.pyplot as plt\n",
    "%matplotlib inline"
   ]
  },
  {
   "cell_type": "code",
   "execution_count": 2,
   "metadata": {
    "colab": {
     "base_uri": "https://localhost:8080/",
     "height": 294
    },
    "id": "mbm_F-i_bhGw",
    "outputId": "b85d04af-5016-462f-b31f-9724615b3765"
   },
   "outputs": [
    {
     "ename": "FileNotFoundError",
     "evalue": "[Errno 2] No such file or directory: '/content/drive/Shareddrives/utshabkg/Dataset/serumLC.csv'",
     "output_type": "error",
     "traceback": [
      "\u001b[1;31m---------------------------------------------------------------------------\u001b[0m",
      "\u001b[1;31mFileNotFoundError\u001b[0m                         Traceback (most recent call last)",
      "\u001b[1;32m<ipython-input-2-7fd409df558c>\u001b[0m in \u001b[0;36m<module>\u001b[1;34m()\u001b[0m\n\u001b[1;32m----> 1\u001b[1;33m \u001b[0mdf\u001b[0m \u001b[1;33m=\u001b[0m \u001b[0mpd\u001b[0m\u001b[1;33m.\u001b[0m\u001b[0mread_csv\u001b[0m\u001b[1;33m(\u001b[0m\u001b[1;34m'/content/drive/Shareddrives/utshabkg/Dataset/serumLC.csv'\u001b[0m\u001b[1;33m)\u001b[0m\u001b[1;33m\u001b[0m\u001b[1;33m\u001b[0m\u001b[0m\n\u001b[0m\u001b[0;32m      2\u001b[0m \u001b[0mdf1\u001b[0m \u001b[1;33m=\u001b[0m \u001b[0mpd\u001b[0m\u001b[1;33m.\u001b[0m\u001b[0mread_csv\u001b[0m\u001b[1;33m(\u001b[0m\u001b[1;34m'/content/drive/Shareddrives/utshabkg/Dataset/plasma_processed.csv'\u001b[0m\u001b[1;33m)\u001b[0m\u001b[1;33m\u001b[0m\u001b[1;33m\u001b[0m\u001b[0m\n\u001b[0;32m      3\u001b[0m \u001b[0mdf\u001b[0m \u001b[1;33m=\u001b[0m \u001b[0mdf\u001b[0m\u001b[1;33m.\u001b[0m\u001b[0mT\u001b[0m\u001b[1;33m\u001b[0m\u001b[1;33m\u001b[0m\u001b[0m\n\u001b[0;32m      4\u001b[0m \u001b[0mcol\u001b[0m \u001b[1;33m=\u001b[0m \u001b[1;33m{\u001b[0m\u001b[1;33m}\u001b[0m\u001b[1;33m\u001b[0m\u001b[1;33m\u001b[0m\u001b[0m\n\u001b[0;32m      5\u001b[0m \u001b[1;32mfor\u001b[0m \u001b[0mi\u001b[0m \u001b[1;32min\u001b[0m \u001b[0mrange\u001b[0m\u001b[1;33m(\u001b[0m\u001b[0mdf\u001b[0m\u001b[1;33m.\u001b[0m\u001b[0mshape\u001b[0m\u001b[1;33m[\u001b[0m\u001b[1;36m1\u001b[0m\u001b[1;33m]\u001b[0m\u001b[1;33m)\u001b[0m\u001b[1;33m:\u001b[0m\u001b[1;33m\u001b[0m\u001b[1;33m\u001b[0m\u001b[0m\n",
      "\u001b[1;32mc:\\users\\utshab\\appdata\\local\\programs\\python\\python37\\lib\\site-packages\\pandas\\io\\parsers.py\u001b[0m in \u001b[0;36mread_csv\u001b[1;34m(filepath_or_buffer, sep, delimiter, header, names, index_col, usecols, squeeze, prefix, mangle_dupe_cols, dtype, engine, converters, true_values, false_values, skipinitialspace, skiprows, skipfooter, nrows, na_values, keep_default_na, na_filter, verbose, skip_blank_lines, parse_dates, infer_datetime_format, keep_date_col, date_parser, dayfirst, cache_dates, iterator, chunksize, compression, thousands, decimal, lineterminator, quotechar, quoting, doublequote, escapechar, comment, encoding, dialect, error_bad_lines, warn_bad_lines, delim_whitespace, low_memory, memory_map, float_precision, storage_options)\u001b[0m\n\u001b[0;32m    608\u001b[0m     \u001b[0mkwds\u001b[0m\u001b[1;33m.\u001b[0m\u001b[0mupdate\u001b[0m\u001b[1;33m(\u001b[0m\u001b[0mkwds_defaults\u001b[0m\u001b[1;33m)\u001b[0m\u001b[1;33m\u001b[0m\u001b[1;33m\u001b[0m\u001b[0m\n\u001b[0;32m    609\u001b[0m \u001b[1;33m\u001b[0m\u001b[0m\n\u001b[1;32m--> 610\u001b[1;33m     \u001b[1;32mreturn\u001b[0m \u001b[0m_read\u001b[0m\u001b[1;33m(\u001b[0m\u001b[0mfilepath_or_buffer\u001b[0m\u001b[1;33m,\u001b[0m \u001b[0mkwds\u001b[0m\u001b[1;33m)\u001b[0m\u001b[1;33m\u001b[0m\u001b[1;33m\u001b[0m\u001b[0m\n\u001b[0m\u001b[0;32m    611\u001b[0m \u001b[1;33m\u001b[0m\u001b[0m\n\u001b[0;32m    612\u001b[0m \u001b[1;33m\u001b[0m\u001b[0m\n",
      "\u001b[1;32mc:\\users\\utshab\\appdata\\local\\programs\\python\\python37\\lib\\site-packages\\pandas\\io\\parsers.py\u001b[0m in \u001b[0;36m_read\u001b[1;34m(filepath_or_buffer, kwds)\u001b[0m\n\u001b[0;32m    460\u001b[0m \u001b[1;33m\u001b[0m\u001b[0m\n\u001b[0;32m    461\u001b[0m     \u001b[1;31m# Create the parser.\u001b[0m\u001b[1;33m\u001b[0m\u001b[1;33m\u001b[0m\u001b[1;33m\u001b[0m\u001b[0m\n\u001b[1;32m--> 462\u001b[1;33m     \u001b[0mparser\u001b[0m \u001b[1;33m=\u001b[0m \u001b[0mTextFileReader\u001b[0m\u001b[1;33m(\u001b[0m\u001b[0mfilepath_or_buffer\u001b[0m\u001b[1;33m,\u001b[0m \u001b[1;33m**\u001b[0m\u001b[0mkwds\u001b[0m\u001b[1;33m)\u001b[0m\u001b[1;33m\u001b[0m\u001b[1;33m\u001b[0m\u001b[0m\n\u001b[0m\u001b[0;32m    463\u001b[0m \u001b[1;33m\u001b[0m\u001b[0m\n\u001b[0;32m    464\u001b[0m     \u001b[1;32mif\u001b[0m \u001b[0mchunksize\u001b[0m \u001b[1;32mor\u001b[0m \u001b[0miterator\u001b[0m\u001b[1;33m:\u001b[0m\u001b[1;33m\u001b[0m\u001b[1;33m\u001b[0m\u001b[0m\n",
      "\u001b[1;32mc:\\users\\utshab\\appdata\\local\\programs\\python\\python37\\lib\\site-packages\\pandas\\io\\parsers.py\u001b[0m in \u001b[0;36m__init__\u001b[1;34m(self, f, engine, **kwds)\u001b[0m\n\u001b[0;32m    817\u001b[0m             \u001b[0mself\u001b[0m\u001b[1;33m.\u001b[0m\u001b[0moptions\u001b[0m\u001b[1;33m[\u001b[0m\u001b[1;34m\"has_index_names\"\u001b[0m\u001b[1;33m]\u001b[0m \u001b[1;33m=\u001b[0m \u001b[0mkwds\u001b[0m\u001b[1;33m[\u001b[0m\u001b[1;34m\"has_index_names\"\u001b[0m\u001b[1;33m]\u001b[0m\u001b[1;33m\u001b[0m\u001b[1;33m\u001b[0m\u001b[0m\n\u001b[0;32m    818\u001b[0m \u001b[1;33m\u001b[0m\u001b[0m\n\u001b[1;32m--> 819\u001b[1;33m         \u001b[0mself\u001b[0m\u001b[1;33m.\u001b[0m\u001b[0m_engine\u001b[0m \u001b[1;33m=\u001b[0m \u001b[0mself\u001b[0m\u001b[1;33m.\u001b[0m\u001b[0m_make_engine\u001b[0m\u001b[1;33m(\u001b[0m\u001b[0mself\u001b[0m\u001b[1;33m.\u001b[0m\u001b[0mengine\u001b[0m\u001b[1;33m)\u001b[0m\u001b[1;33m\u001b[0m\u001b[1;33m\u001b[0m\u001b[0m\n\u001b[0m\u001b[0;32m    820\u001b[0m \u001b[1;33m\u001b[0m\u001b[0m\n\u001b[0;32m    821\u001b[0m     \u001b[1;32mdef\u001b[0m \u001b[0mclose\u001b[0m\u001b[1;33m(\u001b[0m\u001b[0mself\u001b[0m\u001b[1;33m)\u001b[0m\u001b[1;33m:\u001b[0m\u001b[1;33m\u001b[0m\u001b[1;33m\u001b[0m\u001b[0m\n",
      "\u001b[1;32mc:\\users\\utshab\\appdata\\local\\programs\\python\\python37\\lib\\site-packages\\pandas\\io\\parsers.py\u001b[0m in \u001b[0;36m_make_engine\u001b[1;34m(self, engine)\u001b[0m\n\u001b[0;32m   1048\u001b[0m             )\n\u001b[0;32m   1049\u001b[0m         \u001b[1;31m# error: Too many arguments for \"ParserBase\"\u001b[0m\u001b[1;33m\u001b[0m\u001b[1;33m\u001b[0m\u001b[1;33m\u001b[0m\u001b[0m\n\u001b[1;32m-> 1050\u001b[1;33m         \u001b[1;32mreturn\u001b[0m \u001b[0mmapping\u001b[0m\u001b[1;33m[\u001b[0m\u001b[0mengine\u001b[0m\u001b[1;33m]\u001b[0m\u001b[1;33m(\u001b[0m\u001b[0mself\u001b[0m\u001b[1;33m.\u001b[0m\u001b[0mf\u001b[0m\u001b[1;33m,\u001b[0m \u001b[1;33m**\u001b[0m\u001b[0mself\u001b[0m\u001b[1;33m.\u001b[0m\u001b[0moptions\u001b[0m\u001b[1;33m)\u001b[0m  \u001b[1;31m# type: ignore[call-arg]\u001b[0m\u001b[1;33m\u001b[0m\u001b[1;33m\u001b[0m\u001b[0m\n\u001b[0m\u001b[0;32m   1051\u001b[0m \u001b[1;33m\u001b[0m\u001b[0m\n\u001b[0;32m   1052\u001b[0m     \u001b[1;32mdef\u001b[0m \u001b[0m_failover_to_python\u001b[0m\u001b[1;33m(\u001b[0m\u001b[0mself\u001b[0m\u001b[1;33m)\u001b[0m\u001b[1;33m:\u001b[0m\u001b[1;33m\u001b[0m\u001b[1;33m\u001b[0m\u001b[0m\n",
      "\u001b[1;32mc:\\users\\utshab\\appdata\\local\\programs\\python\\python37\\lib\\site-packages\\pandas\\io\\parsers.py\u001b[0m in \u001b[0;36m__init__\u001b[1;34m(self, src, **kwds)\u001b[0m\n\u001b[0;32m   1865\u001b[0m \u001b[1;33m\u001b[0m\u001b[0m\n\u001b[0;32m   1866\u001b[0m         \u001b[1;31m# open handles\u001b[0m\u001b[1;33m\u001b[0m\u001b[1;33m\u001b[0m\u001b[1;33m\u001b[0m\u001b[0m\n\u001b[1;32m-> 1867\u001b[1;33m         \u001b[0mself\u001b[0m\u001b[1;33m.\u001b[0m\u001b[0m_open_handles\u001b[0m\u001b[1;33m(\u001b[0m\u001b[0msrc\u001b[0m\u001b[1;33m,\u001b[0m \u001b[0mkwds\u001b[0m\u001b[1;33m)\u001b[0m\u001b[1;33m\u001b[0m\u001b[1;33m\u001b[0m\u001b[0m\n\u001b[0m\u001b[0;32m   1868\u001b[0m         \u001b[1;32massert\u001b[0m \u001b[0mself\u001b[0m\u001b[1;33m.\u001b[0m\u001b[0mhandles\u001b[0m \u001b[1;32mis\u001b[0m \u001b[1;32mnot\u001b[0m \u001b[1;32mNone\u001b[0m\u001b[1;33m\u001b[0m\u001b[1;33m\u001b[0m\u001b[0m\n\u001b[0;32m   1869\u001b[0m         \u001b[1;32mfor\u001b[0m \u001b[0mkey\u001b[0m \u001b[1;32min\u001b[0m \u001b[1;33m(\u001b[0m\u001b[1;34m\"storage_options\"\u001b[0m\u001b[1;33m,\u001b[0m \u001b[1;34m\"encoding\"\u001b[0m\u001b[1;33m,\u001b[0m \u001b[1;34m\"memory_map\"\u001b[0m\u001b[1;33m,\u001b[0m \u001b[1;34m\"compression\"\u001b[0m\u001b[1;33m)\u001b[0m\u001b[1;33m:\u001b[0m\u001b[1;33m\u001b[0m\u001b[1;33m\u001b[0m\u001b[0m\n",
      "\u001b[1;32mc:\\users\\utshab\\appdata\\local\\programs\\python\\python37\\lib\\site-packages\\pandas\\io\\parsers.py\u001b[0m in \u001b[0;36m_open_handles\u001b[1;34m(self, src, kwds)\u001b[0m\n\u001b[0;32m   1366\u001b[0m             \u001b[0mcompression\u001b[0m\u001b[1;33m=\u001b[0m\u001b[0mkwds\u001b[0m\u001b[1;33m.\u001b[0m\u001b[0mget\u001b[0m\u001b[1;33m(\u001b[0m\u001b[1;34m\"compression\"\u001b[0m\u001b[1;33m,\u001b[0m \u001b[1;32mNone\u001b[0m\u001b[1;33m)\u001b[0m\u001b[1;33m,\u001b[0m\u001b[1;33m\u001b[0m\u001b[1;33m\u001b[0m\u001b[0m\n\u001b[0;32m   1367\u001b[0m             \u001b[0mmemory_map\u001b[0m\u001b[1;33m=\u001b[0m\u001b[0mkwds\u001b[0m\u001b[1;33m.\u001b[0m\u001b[0mget\u001b[0m\u001b[1;33m(\u001b[0m\u001b[1;34m\"memory_map\"\u001b[0m\u001b[1;33m,\u001b[0m \u001b[1;32mFalse\u001b[0m\u001b[1;33m)\u001b[0m\u001b[1;33m,\u001b[0m\u001b[1;33m\u001b[0m\u001b[1;33m\u001b[0m\u001b[0m\n\u001b[1;32m-> 1368\u001b[1;33m             \u001b[0mstorage_options\u001b[0m\u001b[1;33m=\u001b[0m\u001b[0mkwds\u001b[0m\u001b[1;33m.\u001b[0m\u001b[0mget\u001b[0m\u001b[1;33m(\u001b[0m\u001b[1;34m\"storage_options\"\u001b[0m\u001b[1;33m,\u001b[0m \u001b[1;32mNone\u001b[0m\u001b[1;33m)\u001b[0m\u001b[1;33m,\u001b[0m\u001b[1;33m\u001b[0m\u001b[1;33m\u001b[0m\u001b[0m\n\u001b[0m\u001b[0;32m   1369\u001b[0m         )\n\u001b[0;32m   1370\u001b[0m \u001b[1;33m\u001b[0m\u001b[0m\n",
      "\u001b[1;32mc:\\users\\utshab\\appdata\\local\\programs\\python\\python37\\lib\\site-packages\\pandas\\io\\common.py\u001b[0m in \u001b[0;36mget_handle\u001b[1;34m(path_or_buf, mode, encoding, compression, memory_map, is_text, errors, storage_options)\u001b[0m\n\u001b[0;32m    645\u001b[0m                 \u001b[0mencoding\u001b[0m\u001b[1;33m=\u001b[0m\u001b[0mioargs\u001b[0m\u001b[1;33m.\u001b[0m\u001b[0mencoding\u001b[0m\u001b[1;33m,\u001b[0m\u001b[1;33m\u001b[0m\u001b[1;33m\u001b[0m\u001b[0m\n\u001b[0;32m    646\u001b[0m                 \u001b[0merrors\u001b[0m\u001b[1;33m=\u001b[0m\u001b[0merrors\u001b[0m\u001b[1;33m,\u001b[0m\u001b[1;33m\u001b[0m\u001b[1;33m\u001b[0m\u001b[0m\n\u001b[1;32m--> 647\u001b[1;33m                 \u001b[0mnewline\u001b[0m\u001b[1;33m=\u001b[0m\u001b[1;34m\"\"\u001b[0m\u001b[1;33m,\u001b[0m\u001b[1;33m\u001b[0m\u001b[1;33m\u001b[0m\u001b[0m\n\u001b[0m\u001b[0;32m    648\u001b[0m             )\n\u001b[0;32m    649\u001b[0m         \u001b[1;32melse\u001b[0m\u001b[1;33m:\u001b[0m\u001b[1;33m\u001b[0m\u001b[1;33m\u001b[0m\u001b[0m\n",
      "\u001b[1;31mFileNotFoundError\u001b[0m: [Errno 2] No such file or directory: '/content/drive/Shareddrives/utshabkg/Dataset/serumLC.csv'"
     ]
    }
   ],
   "source": [
    "df = pd.read_csv('/content/drive/Shareddrives/utshabkg/Dataset/serumLC.csv')\n",
    "df1 = pd.read_csv('/content/drive/Shareddrives/utshabkg/Dataset/plasma_processed.csv')\n",
    "df = df.T\n",
    "col = {}\n",
    "for i in range(df.shape[1]):\n",
    "    col[i] = df.iloc[0, i]\n",
    "# print(col)\n",
    "df = df.rename(columns = col, inplace = False)\n",
    "df = df.iloc[1:, :]\n",
    "df.head()"
   ]
  },
  {
   "cell_type": "code",
   "execution_count": null,
   "metadata": {
    "colab": {
     "base_uri": "https://localhost:8080/"
    },
    "id": "ZpyEj3hNJtl8",
    "outputId": "505f451e-b9a9-45be-e8ca-9c7b64e7f68f"
   },
   "outputs": [],
   "source": [
    "df.shape"
   ]
  },
  {
   "cell_type": "code",
   "execution_count": null,
   "metadata": {
    "id": "W4n1qdSUeHlh"
   },
   "outputs": [],
   "source": [
    "# from sklearn.cluster import KMeans\n",
    "# kmeans = KMeans(n_clusters=2, random_state=0).fit(df)\n",
    "# kmeans.labels_"
   ]
  },
  {
   "cell_type": "code",
   "execution_count": null,
   "metadata": {
    "colab": {
     "base_uri": "https://localhost:8080/"
    },
    "id": "5spEqmqpd7Ld",
    "outputId": "f8efa641-01e5-41a6-ae76-3b8d2f99fc3c"
   },
   "outputs": [],
   "source": [
    "df.isnull().sum()/len(df) * 100"
   ]
  },
  {
   "cell_type": "code",
   "execution_count": null,
   "metadata": {
    "id": "jmgP6AChQcGd"
   },
   "outputs": [],
   "source": [
    "labels = np.reshape(df1.Class.to_numpy(), (82,1))\n",
    "# labels = np.reshape(kmeans.labels_, (82,1))\n",
    "# labels"
   ]
  },
  {
   "cell_type": "code",
   "execution_count": null,
   "metadata": {
    "id": "3OYDp2eEMvWM"
   },
   "outputs": [],
   "source": [
    "col = []\n",
    "for i in range(len(df.columns)):\n",
    "    col.append(df.columns[i])\n",
    "col.append('Class')\n",
    "df = np.concatenate([df, labels], axis=1)\n",
    "df = pd.DataFrame(df, columns = col)\n",
    "# df.to_csv('serum_preocessed.csv')"
   ]
  },
  {
   "cell_type": "code",
   "execution_count": null,
   "metadata": {
    "colab": {
     "base_uri": "https://localhost:8080/",
     "height": 294
    },
    "id": "dQoz6rac88GN",
    "outputId": "13bb6f60-d5f4-483a-c904-205f3a6082cf"
   },
   "outputs": [],
   "source": [
    "df.head()"
   ]
  },
  {
   "cell_type": "markdown",
   "metadata": {
    "id": "hHIN4cpOUseh"
   },
   "source": [
    "# PCA"
   ]
  },
  {
   "cell_type": "code",
   "execution_count": null,
   "metadata": {
    "id": "hPeZ-YigP1aJ"
   },
   "outputs": [],
   "source": [
    "from sklearn.decomposition import PCA\n",
    "def pca_analysis(n_components):\n",
    "    pca = PCA(n_components=n_components)\n",
    "    pca_result = pca.fit_transform(df.iloc[:, :-1].values)\n",
    "\n",
    "    pca_concatenate = np.concatenate([pca_result, labels], axis=1)\n",
    "\n",
    "    return pca_concatenate"
   ]
  },
  {
   "cell_type": "code",
   "execution_count": null,
   "metadata": {
    "id": "WV9uX0vFQDyE"
   },
   "outputs": [],
   "source": [
    "def make_dataframe(array, n_features):\n",
    "    col = []\n",
    "    for i in range(1, n_features+1):\n",
    "        col.append(f'pc{i}')\n",
    "    col.append('Class')\n",
    "    return pd.DataFrame(array, columns = col)"
   ]
  },
  {
   "cell_type": "code",
   "execution_count": null,
   "metadata": {
    "colab": {
     "base_uri": "https://localhost:8080/"
    },
    "id": "8mJbTitszFRG",
    "outputId": "e2269dc1-ef0d-456b-c8ed-7e874a3380cd"
   },
   "outputs": [],
   "source": [
    "pca2 = pca_analysis(2)\n",
    "\n",
    "pca2_df = make_dataframe(pca2, 2)\n",
    "print(pca2_df.head)"
   ]
  },
  {
   "cell_type": "code",
   "execution_count": null,
   "metadata": {
    "colab": {
     "base_uri": "https://localhost:8080/",
     "height": 341
    },
    "id": "--HrgVwLB0wH",
    "outputId": "d5522eca-81a4-47d1-c11b-38a85fb38205"
   },
   "outputs": [],
   "source": [
    "plt.figure()\n",
    "plt.figure(figsize=(4, 4))\n",
    "plt.xticks(fontsize=12)\n",
    "plt.yticks(fontsize=14)\n",
    "plt.xlabel('PC1',fontsize=20)\n",
    "plt.ylabel('PC2',fontsize=20)\n",
    "plt.title(\"Principal Component Analysis=\",fontsize=12)\n",
    "targets = ['disease', 'control']\n",
    "colors = ['r', 'g']\n",
    "for target, color in zip(targets,colors):\n",
    "    indicesToKeep = df.Class == target\n",
    "    plt.scatter(pca2_df.loc[indicesToKeep, 'pc1']\n",
    "               , pca2_df.loc[indicesToKeep, 'pc2'], c = color, s = 50)\n",
    "\n",
    "plt.legend(targets,prop={'size': 15})"
   ]
  },
  {
   "cell_type": "code",
   "execution_count": null,
   "metadata": {
    "id": "1-8uMYFWTBSG"
   },
   "outputs": [],
   "source": [
    "def plotting(pca_df, n_components):\n",
    "    fig, axes = plt.subplots(nrows=n_components-1, ncols=4, figsize=(20, 8))\n",
    "\n",
    "    for i in range(n_components):\n",
    "        for j in range(i+1, n_components):\n",
    "            if j==n_components:\n",
    "                break\n",
    "            axes[i, j-1].set_xlabel(f'PC{i+1}',fontsize=20)\n",
    "            axes[i, j-1].set_ylabel(f'PC{j+1}',fontsize=20)\n",
    "            for target, color in zip(targets,colors):\n",
    "                indicesToKeep = df.Class == target\n",
    "                axes[i, j-1].scatter(pca_df.loc[indicesToKeep, f'pc{i+1}']\n",
    "                                , pca_df.loc[indicesToKeep, f'pc{j+1}'], c = color, s = 50)"
   ]
  },
  {
   "cell_type": "code",
   "execution_count": null,
   "metadata": {
    "id": "sXliCThzzpBO"
   },
   "outputs": [],
   "source": [
    "pca3 = pca_analysis(3)\n",
    "\n",
    "pca3_df = make_dataframe(pca3, 3)\n",
    "# print(pca3_df.head)"
   ]
  },
  {
   "cell_type": "code",
   "execution_count": null,
   "metadata": {
    "colab": {
     "base_uri": "https://localhost:8080/",
     "height": 510
    },
    "id": "Z0U0vdvJCmSj",
    "outputId": "4b1b710e-3bba-4d5c-f628-eb401315a9ec"
   },
   "outputs": [],
   "source": [
    "plotting(pca3_df, 3)"
   ]
  },
  {
   "cell_type": "code",
   "execution_count": null,
   "metadata": {
    "id": "EYPgDQ9A0gx8"
   },
   "outputs": [],
   "source": [
    "pca4 = pca_analysis(4)\n",
    "\n",
    "pca4_df = make_dataframe(pca4, 4)\n",
    "# print(pca4_df.head)"
   ]
  },
  {
   "cell_type": "code",
   "execution_count": null,
   "metadata": {
    "colab": {
     "base_uri": "https://localhost:8080/",
     "height": 510
    },
    "id": "k9JGmoWDH-iP",
    "outputId": "292d2af0-d150-417c-e3d5-24c86db26581"
   },
   "outputs": [],
   "source": [
    "plotting(pca4_df, 4)"
   ]
  },
  {
   "cell_type": "code",
   "execution_count": null,
   "metadata": {
    "id": "vZ16An_m-3TG"
   },
   "outputs": [],
   "source": [
    "pca5 = pca_analysis(5)\n",
    "\n",
    "pca5_df = make_dataframe(pca5, 5)\n",
    "# print(pca5_df.head)"
   ]
  },
  {
   "cell_type": "code",
   "execution_count": null,
   "metadata": {
    "colab": {
     "base_uri": "https://localhost:8080/",
     "height": 506
    },
    "id": "7tAZAD4o_Lwv",
    "outputId": "77199232-ad1c-42db-bce4-39bc4c8e32c4"
   },
   "outputs": [],
   "source": [
    "plotting(pca5_df, 5)"
   ]
  },
  {
   "cell_type": "code",
   "execution_count": null,
   "metadata": {
    "id": "1nMBpd5JIy3s"
   },
   "outputs": [],
   "source": [
    "# now do PCA for 10, 15, 20\n",
    "pca10 = pca_analysis(10)\n",
    "pca10_df = make_dataframe(pca10, 10)\n",
    "\n",
    "pca15 = pca_analysis(15)\n",
    "pca15_df = make_dataframe(pca15, 15)\n",
    "\n",
    "pca20 = pca_analysis(20)\n",
    "pca20_df = make_dataframe(pca20, 20)\n",
    "# print(pca20_df.head)"
   ]
  },
  {
   "cell_type": "code",
   "execution_count": null,
   "metadata": {
    "id": "OJ4K_kNKNqWP"
   },
   "outputs": [],
   "source": [
    "# pca15_df.to_csv(\"pca15.csv\")"
   ]
  },
  {
   "cell_type": "markdown",
   "metadata": {
    "id": "W4-0mzTTXRvT"
   },
   "source": [
    "#t-SNE"
   ]
  },
  {
   "cell_type": "code",
   "execution_count": null,
   "metadata": {
    "id": "d5FexA5TVUMe"
   },
   "outputs": [],
   "source": [
    "from sklearn.manifold import TSNE\n",
    "def tsne_analysis(n_components):\n",
    "    tsne = TSNE(n_components=n_components)\n",
    "    tsne_result = tsne.fit_transform(df.iloc[:, :-1].values)\n",
    "\n",
    "    tsne_concatenate = np.concatenate([tsne_result, labels], axis=1)\n",
    "\n",
    "    return tsne_concatenate"
   ]
  },
  {
   "cell_type": "code",
   "execution_count": null,
   "metadata": {
    "id": "I_R9XARdt-V0"
   },
   "outputs": [],
   "source": [
    "def tsne_dataframe(array, n_features):\n",
    "    col = []\n",
    "    for i in range(1, n_features+1):\n",
    "        col.append(f'tsne{i}')\n",
    "    col.append('Class')\n",
    "    return pd.DataFrame(array, columns = col)"
   ]
  },
  {
   "cell_type": "code",
   "execution_count": null,
   "metadata": {
    "id": "RROhs0r4uigO"
   },
   "outputs": [],
   "source": [
    "def tsne_plotting(tsne_df, n_components):\n",
    "    fig, axes = plt.subplots(nrows=n_components-1, ncols=4, figsize=(20, 8))\n",
    "\n",
    "    for i in range(n_components):\n",
    "        for j in range(i+1, n_components):\n",
    "            if j==n_components:\n",
    "                break\n",
    "            axes[i, j-1].set_xlabel(f'TSNE{i+1}',fontsize=20)\n",
    "            axes[i, j-1].set_ylabel(f'TSNE{j+1}',fontsize=20)\n",
    "            for target, color in zip(targets,colors):\n",
    "                indicesToKeep = df.Class == target\n",
    "                axes[i, j-1].scatter(tsne_df.loc[indicesToKeep, f'tsne{i+1}']\n",
    "                                , tsne_df.loc[indicesToKeep, f'tsne{j+1}'], c = color, s = 50)"
   ]
  },
  {
   "cell_type": "code",
   "execution_count": null,
   "metadata": {
    "colab": {
     "base_uri": "https://localhost:8080/",
     "height": 265
    },
    "id": "BaIC09d1YJyp",
    "outputId": "237ba941-6c89-4eea-d789-7f8d6349cb10"
   },
   "outputs": [],
   "source": [
    "tsne2 = tsne_analysis(2)\n",
    "\n",
    "tsne2_df = tsne_dataframe(tsne2, 2)\n",
    "# print(tsne2_df.head)\n",
    "# plotting(tsne2_df, 1, 1)\n",
    "\n",
    "for target, color in zip(targets,colors):\n",
    "    indicesToKeep = df.Class == target\n",
    "    plt.scatter(tsne2_df.loc[indicesToKeep, 'tsne1']\n",
    "               , tsne2_df.loc[indicesToKeep, 'tsne2'], c = color, s = 50)"
   ]
  },
  {
   "cell_type": "code",
   "execution_count": null,
   "metadata": {
    "colab": {
     "base_uri": "https://localhost:8080/",
     "height": 510
    },
    "id": "qKnrjJTzYh63",
    "outputId": "d8263a8f-454b-47dc-e94d-6a016fd1153e"
   },
   "outputs": [],
   "source": [
    "tsne3 = tsne_analysis(3)\n",
    "\n",
    "tsne3_df = tsne_dataframe(tsne3, 3)\n",
    "# print(tsne2_df.head)\n",
    "tsne_plotting(tsne3_df, 3)\n"
   ]
  },
  {
   "cell_type": "code",
   "execution_count": null,
   "metadata": {
    "id": "P-BRS2vwvm8x"
   },
   "outputs": [],
   "source": [
    "# tsne2_df.to_csv('tsne2.csv')"
   ]
  },
  {
   "cell_type": "markdown",
   "metadata": {
    "id": "O5YQ-9mOzz0x"
   },
   "source": [
    "# Models"
   ]
  },
  {
   "cell_type": "code",
   "execution_count": null,
   "metadata": {
    "id": "sLVgPz17wu7w"
   },
   "outputs": [],
   "source": [
    "# !pip install lazypredict"
   ]
  },
  {
   "cell_type": "code",
   "execution_count": null,
   "metadata": {
    "colab": {
     "base_uri": "https://localhost:8080/"
    },
    "id": "SV4dW4amy-lK",
    "outputId": "b81c93cc-92c6-49c8-d672-4c35765441c4"
   },
   "outputs": [],
   "source": [
    "X = pca20_df.drop('Class', axis=1)\n",
    "y = pca20_df['Class'].copy()\n",
    "y = y.map({\"control\": 1, \"disease\": 0})\n",
    "\n",
    "X.shape, y.shape"
   ]
  },
  {
   "cell_type": "code",
   "execution_count": null,
   "metadata": {
    "colab": {
     "base_uri": "https://localhost:8080/"
    },
    "id": "GU_pgs6L9DH6",
    "outputId": "10cdffe3-58a2-4b82-cd73-b01e213a4477"
   },
   "outputs": [],
   "source": [
    "y.head()"
   ]
  },
  {
   "cell_type": "code",
   "execution_count": null,
   "metadata": {
    "colab": {
     "base_uri": "https://localhost:8080/"
    },
    "id": "fu0qvA4o20ZG",
    "outputId": "cc2d6b12-6877-44d4-9b1a-1a285cbf1e31"
   },
   "outputs": [],
   "source": [
    "y.value_counts()"
   ]
  },
  {
   "cell_type": "code",
   "execution_count": null,
   "metadata": {
    "id": "wofvYf1N0sEL"
   },
   "outputs": [],
   "source": [
    "import lazypredict\n",
    "from lazypredict.Supervised import LazyClassifier\n",
    "\n",
    "from sklearn.metrics import accuracy_score\n",
    "from sklearn.metrics import confusion_matrix\n",
    "from sklearn.metrics import matthews_corrcoef\n",
    "from sklearn.metrics import classification_report\n",
    "\n",
    "from sklearn.model_selection import train_test_split, StratifiedKFold"
   ]
  },
  {
   "cell_type": "code",
   "execution_count": null,
   "metadata": {
    "id": "_rTuJYNZ0s1z"
   },
   "outputs": [],
   "source": [
    "result = []\n",
    "# for i in range(10):\n",
    "clf = LazyClassifier(verbose=0, ignore_warnings=True, custom_metric=matthews_corrcoef, predictions=True)\n",
    "X_train, X_test, y_train, y_test = train_test_split(X, y, test_size=0.3, random_state=42)"
   ]
  },
  {
   "cell_type": "code",
   "execution_count": null,
   "metadata": {
    "colab": {
     "base_uri": "https://localhost:8080/"
    },
    "id": "SpbEnMnjAdU1",
    "outputId": "9e589445-1c7c-429c-80a4-0c319654ffeb"
   },
   "outputs": [],
   "source": [
    "X.head"
   ]
  },
  {
   "cell_type": "code",
   "execution_count": null,
   "metadata": {
    "colab": {
     "base_uri": "https://localhost:8080/",
     "height": 94
    },
    "id": "ELhXw0em9PIX",
    "outputId": "bea843c4-21a8-431b-b3ca-2e6b316c4d41"
   },
   "outputs": [],
   "source": [
    "models, predictions = clf.fit(X_train, X_test, y_train, y_test)\n",
    "# model_dictionary = clf.provide_models(X, X_test, y, y_test)\n",
    "# print(models.shape)\n",
    "# result.append(models.iloc[:, :])\n",
    "# print(i, X_train.shape, X_test.shape, y_train.shape, y_test.shape)\n",
    "# print(predictions)\n",
    "\n",
    "models"
   ]
  },
  {
   "cell_type": "markdown",
   "metadata": {
    "id": "hndZf7kwE3du"
   },
   "source": [
    "No result coming using:\n",
    "\n",
    "```\n",
    "clf.fit(X_train, X_test, y_train, y_test)\n",
    "```\n",
    "\n",
    "Accuracy comes 100% using:\n",
    "\n",
    "```\n",
    "clf.fit(X, X_test, y, y_test)\n",
    "```\n",
    "\n"
   ]
  },
  {
   "cell_type": "markdown",
   "metadata": {
    "id": "eTf5yxFn_-_i"
   },
   "source": [
    "## Review (Fuad)"
   ]
  },
  {
   "cell_type": "code",
   "execution_count": null,
   "metadata": {
    "colab": {
     "base_uri": "https://localhost:8080/",
     "height": 1000
    },
    "id": "B_G4zqqRA6gl",
    "outputId": "ca1065a2-5feb-49f7-e5ff-3a31fb48e0b7"
   },
   "outputs": [],
   "source": [
    "!pip install lazypredict"
   ]
  },
  {
   "cell_type": "code",
   "execution_count": null,
   "metadata": {
    "colab": {
     "base_uri": "https://localhost:8080/"
    },
    "id": "XGrH8llNk2Yt",
    "outputId": "2fcc698d-feac-4219-a122-93f7909ee751"
   },
   "outputs": [],
   "source": [
    "!gdown --id 1GRpLNpEz5_B0B6Afecrl5JcbsHr1G5uc\n",
    "!gdown --id 1WJ5Xkij0jpTARakBAvGGBX9pZVWVwVdN\n",
    "!gdown --id 1Ee4pPuUJDZY36bnEQoBhJVTYyk-FXIRC\n",
    "!gdown --id 166sbcZChiwBPF_n7bRscJu1HYOffuGW4"
   ]
  },
  {
   "cell_type": "code",
   "execution_count": null,
   "metadata": {
    "colab": {
     "base_uri": "https://localhost:8080/"
    },
    "id": "Mr6WIKzDAysz",
    "outputId": "63f95ebd-4931-4bae-fba3-20579c305d82"
   },
   "outputs": [],
   "source": [
    "import pandas as pd\n",
    "import numpy as np\n",
    "import matplotlib.pyplot as plt\n",
    "%matplotlib inline\n",
    "\n",
    "import lazypredict\n",
    "from lazypredict.Supervised import LazyClassifier\n",
    "\n",
    "from sklearn.metrics import accuracy_score\n",
    "from sklearn.metrics import confusion_matrix\n",
    "from sklearn.metrics import matthews_corrcoef\n",
    "from sklearn.metrics import classification_report\n",
    "\n",
    "from sklearn.model_selection import ShuffleSplit, train_test_split, StratifiedKFold"
   ]
  },
  {
   "cell_type": "code",
   "execution_count": null,
   "metadata": {
    "colab": {
     "base_uri": "https://localhost:8080/"
    },
    "id": "8Fgk_Kqr8hIB",
    "outputId": "80f07711-c599-47a1-b358-79aa01a67029"
   },
   "outputs": [],
   "source": [
    "serumLC_df = pd.read_csv('/content/serumLC.csv')\n",
    "plasmaLC_df = pd.read_csv('/content/plusmaLC.csv')\n",
    "serum_processed_df = pd.read_csv('/content/serum_processed.csv')\n",
    "plasma_processed_df = pd.read_csv('/content/plasma_processed.csv')\n",
    "\n",
    "serumLC_df.shape, plasmaLC_df.shape, serum_processed_df.shape, plasma_processed_df.shape"
   ]
  },
  {
   "cell_type": "code",
   "execution_count": null,
   "metadata": {
    "colab": {
     "base_uri": "https://localhost:8080/"
    },
    "id": "A3PDaO8i91Jb",
    "outputId": "9d35c2c3-2bcd-4446-b2aa-42efd3fffada"
   },
   "outputs": [],
   "source": [
    "serumLC_df = serumLC_df.T\n",
    "col = {}\n",
    "for i in range(serumLC_df.shape[1]):\n",
    "    col[i] = serumLC_df.iloc[0, i]\n",
    "serumLC_df = serumLC_df.rename(columns = col, inplace = False)\n",
    "serumLC_df = serumLC_df.iloc[1:, :]\n",
    "\n",
    "plasmaLC_df = plasmaLC_df.T\n",
    "col = {}\n",
    "for i in range(plasmaLC_df.shape[1]):\n",
    "    col[i] = plasmaLC_df.iloc[0, i]\n",
    "plasmaLC_df = plasmaLC_df.rename(columns = col, inplace = False)\n",
    "plasmaLC_df = plasmaLC_df.iloc[1:, :]\n",
    "\n",
    "serum_processed_df = serum_processed_df.drop('Unnamed: 0', axis=1)\n",
    "plasma_processed_df = plasma_processed_df.drop('Unnamed: 0', axis=1)\n",
    "serumLC_df.shape, plasmaLC_df.shape, serum_processed_df.shape, plasma_processed_df.shape"
   ]
  },
  {
   "cell_type": "code",
   "execution_count": null,
   "metadata": {
    "colab": {
     "base_uri": "https://localhost:8080/"
    },
    "id": "8luVPTZFTSpQ",
    "outputId": "1155c51e-a96a-4cbf-c8b9-64b778a7a3d9"
   },
   "outputs": [],
   "source": [
    "plasma_processed_df.Class.value_counts()"
   ]
  },
  {
   "cell_type": "code",
   "execution_count": null,
   "metadata": {
    "colab": {
     "base_uri": "https://localhost:8080/"
    },
    "id": "gTRz8wlN-Zio",
    "outputId": "dd65896e-6df2-4ee4-f7e4-f3c5fccb1ffd"
   },
   "outputs": [],
   "source": [
    "serum_processed_df.isnull().values.any(), plasma_processed_df.isnull().values.any()"
   ]
  },
  {
   "cell_type": "code",
   "execution_count": null,
   "metadata": {
    "id": "mFGBwSwYBpsx"
   },
   "outputs": [],
   "source": [
    "def get_xy(df):\n",
    "  X = df.drop('Class', axis=1)\n",
    "  y = df['Class'].copy()\n",
    "  y = y.map({\"control\": 0, \"disease\": 1})\n",
    "  return X, y"
   ]
  },
  {
   "cell_type": "code",
   "execution_count": null,
   "metadata": {
    "id": "eKoAzi2-XCzq"
   },
   "outputs": [],
   "source": [
    "from sklearn.preprocessing import StandardScaler, MinMaxScaler, RobustScaler, LabelEncoder"
   ]
  },
  {
   "cell_type": "code",
   "execution_count": null,
   "metadata": {
    "colab": {
     "base_uri": "https://localhost:8080/"
    },
    "id": "or5h3YFslXGj",
    "outputId": "47d00867-deaf-48ef-fd2b-98d91a421e76"
   },
   "outputs": [],
   "source": [
    "name = ['serum', 'plasma']\n",
    "dfs = [serum_processed_df, plasma_processed_df]\n",
    "random_state = 42\n",
    "\n",
    "for idx, data in enumerate(dfs):\n",
    "  result = []\n",
    "  X, y = get_xy(data)\n",
    "  rs = ShuffleSplit(n_splits=10, test_size=.2, random_state=random_state)\n",
    "  raw_x = X\n",
    "  for train_index, test_index in rs.split(X):\n",
    "    clf = LazyClassifier(verbose=0, ignore_warnings=True, custom_metric=matthews_corrcoef, predictions=True)\n",
    "    X_train, X_test = X.iloc[train_index], X.iloc[test_index]\n",
    "    y_train, y_test = y.iloc[train_index], y.iloc[test_index]\n",
    "\n",
    "    models, predictions = clf.fit(X_train, X_test, y_train, y_test)\n",
    "    result.append(models)\n",
    "\n",
    "  acc = []\n",
    "  for i in range(10):\n",
    "    acc.append(result[i].iloc[0]['Balanced Accuracy'])\n",
    "  print(f'\\n{name[idx]}: {sum(acc)/len(acc)}')"
   ]
  },
  {
   "cell_type": "markdown",
   "metadata": {
    "id": "qAOeA-daECke"
   },
   "source": [
    "    plasma :: 87.16%\n",
    "    serum :: 84.72%"
   ]
  }
 ],
 "metadata": {
  "colab": {
   "collapsed_sections": [],
   "name": "serum-plasma-utshab.ipynb",
   "provenance": []
  },
  "kernelspec": {
   "display_name": "Python 3",
   "language": "python",
   "name": "python3"
  },
  "language_info": {
   "codemirror_mode": {
    "name": "ipython",
    "version": 3
   },
   "file_extension": ".py",
   "mimetype": "text/x-python",
   "name": "python",
   "nbconvert_exporter": "python",
   "pygments_lexer": "ipython3",
   "version": "3.7.9"
  }
 },
 "nbformat": 4,
 "nbformat_minor": 1
}
