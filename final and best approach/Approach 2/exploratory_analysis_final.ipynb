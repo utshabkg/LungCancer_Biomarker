{
 "cells": [
  {
   "cell_type": "markdown",
   "id": "diverse-freeze",
   "metadata": {},
   "source": [
    "<h1 style=\"background-color:#ff5200;font-family:newtimeroman;font-size:350%;text-align:center;border-radius: 15px 50px;\">Table Of Content</h1>\n",
    "\n",
    "\n",
    "\n",
    "[1. Libraries And Utilities](#1)\n",
    "\n",
    "[2 Dataset & Preprocessing](#2)\n",
    "\n",
    "[3 Pearson's Correlation Coefficient](#3)\n",
    "\n",
    "- [3.1 Plasma](#3.1)\n",
    "- [3.2 Serum](#3.2)\n",
    "    \n",
    "[4 PCA & t-SNE](#4)\n",
    "\n",
    "[5 Lazypredict](#5)\n",
    "\n",
    "[6. Prediction](#6)\n",
    "\n",
    "[7. Visualization](#7)\n"
   ]
  },
  {
   "cell_type": "markdown",
   "id": "square-annual",
   "metadata": {},
   "source": [
    "<a id=\"1\"></a>\n",
    "\n",
    "<h1 style=\"background-color:#d8f8b7;font-family:newtimeroman;font-size:250%;text-align:center;border-radius: 15px 50px;\">Libraries And Utilities</h1>\n",
    "\n",
    "[Download DATASETS from here](https://github.com/utshabkg/LungCancer_Biomarker/tree/main/dataset)"
   ]
  },
  {
   "cell_type": "code",
   "execution_count": 9,
   "id": "heavy-conducting",
   "metadata": {},
   "outputs": [],
   "source": [
    "import pandas as pd\n",
    "import numpy as np\n",
    "import matplotlib.pyplot as plt\n",
    "%matplotlib inline\n",
    "\n",
    "from sklearn.decomposition import PCA\n",
    "from sklearn.manifold import TSNE\n",
    "import lazypredict\n",
    "from lazypredict.Supervised import LazyClassifier\n",
    "\n",
    "from sklearn.metrics import accuracy_score\n",
    "from sklearn.metrics import confusion_matrix\n",
    "from sklearn.metrics import matthews_corrcoef\n",
    "from sklearn.metrics import classification_report\n",
    "\n",
    "from sklearn.model_selection import ShuffleSplit, train_test_split, StratifiedKFold\n",
    "from sklearn.preprocessing import StandardScaler, MinMaxScaler, RobustScaler, LabelEncoder\n",
    "from scipy import stats\n",
    "\n",
    "import seaborn as sns\n",
    "from sklearn.ensemble import RandomForestClassifier\n",
    "from sklearn.linear_model import RidgeClassifierCV\n",
    "from yellowbrick.model_selection import FeatureImportances"
   ]
  },
  {
   "cell_type": "markdown",
   "id": "amino-endorsement",
   "metadata": {},
   "source": [
    "<a id=\"2\"></a>\n",
    "\n",
    "<h1 style=\"background-color:#d8f8b7;font-family:newtimeroman;font-size:250%;text-align:center;border-radius: 15px 50px;\">Dataset & Preprocessing</h1>\n",
    "\n",
    "[Download DATASETS from here](https://github.com/utshabkg/LungCancer_Biomarker/tree/main/dataset)"
   ]
  },
  {
   "cell_type": "code",
   "execution_count": 10,
   "id": "advisory-brave",
   "metadata": {},
   "outputs": [
    {
     "data": {
      "text/html": [
       "<div>\n",
       "<style scoped>\n",
       "    .dataframe tbody tr th:only-of-type {\n",
       "        vertical-align: middle;\n",
       "    }\n",
       "\n",
       "    .dataframe tbody tr th {\n",
       "        vertical-align: top;\n",
       "    }\n",
       "\n",
       "    .dataframe thead th {\n",
       "        text-align: right;\n",
       "    }\n",
       "</style>\n",
       "<table border=\"1\" class=\"dataframe\">\n",
       "  <thead>\n",
       "    <tr style=\"text-align: right;\">\n",
       "      <th></th>\n",
       "      <th>1_5-anhydroglucitol</th>\n",
       "      <th>1-monostearin</th>\n",
       "      <th>2_3-dihydroxybutanoic acid NIST</th>\n",
       "      <th>2_4-diaminobutyric acid</th>\n",
       "      <th>2-deoxyerythritol</th>\n",
       "      <th>2-deoxytetronic acid</th>\n",
       "      <th>2-hydroxybutanoic acid</th>\n",
       "      <th>2-hydroxyglutaric acid</th>\n",
       "      <th>2-hydroxyhippuric acid</th>\n",
       "      <th>2-hydroxyvaleric acid</th>\n",
       "      <th>...</th>\n",
       "      <th>tryptophan</th>\n",
       "      <th>tyrosine</th>\n",
       "      <th>UDP-glucuronic acid</th>\n",
       "      <th>urea</th>\n",
       "      <th>uric acid</th>\n",
       "      <th>uridine</th>\n",
       "      <th>valine</th>\n",
       "      <th>xylitol</th>\n",
       "      <th>xylose</th>\n",
       "      <th>Class</th>\n",
       "    </tr>\n",
       "  </thead>\n",
       "  <tbody>\n",
       "    <tr>\n",
       "      <th>0</th>\n",
       "      <td>9582</td>\n",
       "      <td>279</td>\n",
       "      <td>82</td>\n",
       "      <td>61</td>\n",
       "      <td>357</td>\n",
       "      <td>122</td>\n",
       "      <td>24944</td>\n",
       "      <td>56</td>\n",
       "      <td>32</td>\n",
       "      <td>966</td>\n",
       "      <td>...</td>\n",
       "      <td>34239</td>\n",
       "      <td>54924</td>\n",
       "      <td>43</td>\n",
       "      <td>226295</td>\n",
       "      <td>11606</td>\n",
       "      <td>68</td>\n",
       "      <td>153849</td>\n",
       "      <td>194</td>\n",
       "      <td>811</td>\n",
       "      <td>disease</td>\n",
       "    </tr>\n",
       "    <tr>\n",
       "      <th>1</th>\n",
       "      <td>28847</td>\n",
       "      <td>161</td>\n",
       "      <td>78</td>\n",
       "      <td>84</td>\n",
       "      <td>205</td>\n",
       "      <td>258</td>\n",
       "      <td>10680</td>\n",
       "      <td>104</td>\n",
       "      <td>49</td>\n",
       "      <td>1076</td>\n",
       "      <td>...</td>\n",
       "      <td>20080</td>\n",
       "      <td>37597</td>\n",
       "      <td>203</td>\n",
       "      <td>96226</td>\n",
       "      <td>10188</td>\n",
       "      <td>71</td>\n",
       "      <td>110735</td>\n",
       "      <td>294</td>\n",
       "      <td>910</td>\n",
       "      <td>disease</td>\n",
       "    </tr>\n",
       "    <tr>\n",
       "      <th>2</th>\n",
       "      <td>13627</td>\n",
       "      <td>162</td>\n",
       "      <td>53</td>\n",
       "      <td>133</td>\n",
       "      <td>139</td>\n",
       "      <td>159</td>\n",
       "      <td>27201</td>\n",
       "      <td>160</td>\n",
       "      <td>80</td>\n",
       "      <td>1117</td>\n",
       "      <td>...</td>\n",
       "      <td>29191</td>\n",
       "      <td>28707</td>\n",
       "      <td>211</td>\n",
       "      <td>155596</td>\n",
       "      <td>16617</td>\n",
       "      <td>123</td>\n",
       "      <td>95509</td>\n",
       "      <td>253</td>\n",
       "      <td>804</td>\n",
       "      <td>disease</td>\n",
       "    </tr>\n",
       "    <tr>\n",
       "      <th>3</th>\n",
       "      <td>20758</td>\n",
       "      <td>6671</td>\n",
       "      <td>93</td>\n",
       "      <td>78</td>\n",
       "      <td>335</td>\n",
       "      <td>225</td>\n",
       "      <td>32347</td>\n",
       "      <td>242</td>\n",
       "      <td>59</td>\n",
       "      <td>304</td>\n",
       "      <td>...</td>\n",
       "      <td>16637</td>\n",
       "      <td>27873</td>\n",
       "      <td>71</td>\n",
       "      <td>191671</td>\n",
       "      <td>15214</td>\n",
       "      <td>84</td>\n",
       "      <td>96219</td>\n",
       "      <td>157</td>\n",
       "      <td>806</td>\n",
       "      <td>disease</td>\n",
       "    </tr>\n",
       "    <tr>\n",
       "      <th>4</th>\n",
       "      <td>15692</td>\n",
       "      <td>108</td>\n",
       "      <td>98</td>\n",
       "      <td>69</td>\n",
       "      <td>250</td>\n",
       "      <td>120</td>\n",
       "      <td>18357</td>\n",
       "      <td>60</td>\n",
       "      <td>25</td>\n",
       "      <td>1220</td>\n",
       "      <td>...</td>\n",
       "      <td>29820</td>\n",
       "      <td>30132</td>\n",
       "      <td>200</td>\n",
       "      <td>333019</td>\n",
       "      <td>20281</td>\n",
       "      <td>62</td>\n",
       "      <td>159853</td>\n",
       "      <td>188</td>\n",
       "      <td>1226</td>\n",
       "      <td>disease</td>\n",
       "    </tr>\n",
       "    <tr>\n",
       "      <th>...</th>\n",
       "      <td>...</td>\n",
       "      <td>...</td>\n",
       "      <td>...</td>\n",
       "      <td>...</td>\n",
       "      <td>...</td>\n",
       "      <td>...</td>\n",
       "      <td>...</td>\n",
       "      <td>...</td>\n",
       "      <td>...</td>\n",
       "      <td>...</td>\n",
       "      <td>...</td>\n",
       "      <td>...</td>\n",
       "      <td>...</td>\n",
       "      <td>...</td>\n",
       "      <td>...</td>\n",
       "      <td>...</td>\n",
       "      <td>...</td>\n",
       "      <td>...</td>\n",
       "      <td>...</td>\n",
       "      <td>...</td>\n",
       "      <td>...</td>\n",
       "    </tr>\n",
       "    <tr>\n",
       "      <th>77</th>\n",
       "      <td>25194</td>\n",
       "      <td>108</td>\n",
       "      <td>106</td>\n",
       "      <td>32</td>\n",
       "      <td>127</td>\n",
       "      <td>185</td>\n",
       "      <td>23821</td>\n",
       "      <td>53</td>\n",
       "      <td>103</td>\n",
       "      <td>1334</td>\n",
       "      <td>...</td>\n",
       "      <td>34521</td>\n",
       "      <td>35970</td>\n",
       "      <td>92</td>\n",
       "      <td>262448</td>\n",
       "      <td>18757</td>\n",
       "      <td>54</td>\n",
       "      <td>108092</td>\n",
       "      <td>180</td>\n",
       "      <td>748</td>\n",
       "      <td>control</td>\n",
       "    </tr>\n",
       "    <tr>\n",
       "      <th>78</th>\n",
       "      <td>23525</td>\n",
       "      <td>83</td>\n",
       "      <td>140</td>\n",
       "      <td>261</td>\n",
       "      <td>167</td>\n",
       "      <td>181</td>\n",
       "      <td>12396</td>\n",
       "      <td>65</td>\n",
       "      <td>39</td>\n",
       "      <td>1408</td>\n",
       "      <td>...</td>\n",
       "      <td>28112</td>\n",
       "      <td>28014</td>\n",
       "      <td>104</td>\n",
       "      <td>310051</td>\n",
       "      <td>26134</td>\n",
       "      <td>50</td>\n",
       "      <td>134469</td>\n",
       "      <td>211</td>\n",
       "      <td>651</td>\n",
       "      <td>control</td>\n",
       "    </tr>\n",
       "    <tr>\n",
       "      <th>79</th>\n",
       "      <td>25154</td>\n",
       "      <td>418</td>\n",
       "      <td>90</td>\n",
       "      <td>307</td>\n",
       "      <td>284</td>\n",
       "      <td>100</td>\n",
       "      <td>11788</td>\n",
       "      <td>124</td>\n",
       "      <td>106</td>\n",
       "      <td>997</td>\n",
       "      <td>...</td>\n",
       "      <td>39591</td>\n",
       "      <td>37287</td>\n",
       "      <td>166</td>\n",
       "      <td>295930</td>\n",
       "      <td>21733</td>\n",
       "      <td>69</td>\n",
       "      <td>82547</td>\n",
       "      <td>457</td>\n",
       "      <td>749</td>\n",
       "      <td>control</td>\n",
       "    </tr>\n",
       "    <tr>\n",
       "      <th>80</th>\n",
       "      <td>12397</td>\n",
       "      <td>110</td>\n",
       "      <td>104</td>\n",
       "      <td>56</td>\n",
       "      <td>342</td>\n",
       "      <td>186</td>\n",
       "      <td>15214</td>\n",
       "      <td>47</td>\n",
       "      <td>129</td>\n",
       "      <td>924</td>\n",
       "      <td>...</td>\n",
       "      <td>29273</td>\n",
       "      <td>23742</td>\n",
       "      <td>1903</td>\n",
       "      <td>276190</td>\n",
       "      <td>17275</td>\n",
       "      <td>68</td>\n",
       "      <td>112921</td>\n",
       "      <td>1256</td>\n",
       "      <td>526</td>\n",
       "      <td>control</td>\n",
       "    </tr>\n",
       "    <tr>\n",
       "      <th>81</th>\n",
       "      <td>18350</td>\n",
       "      <td>73</td>\n",
       "      <td>179</td>\n",
       "      <td>86</td>\n",
       "      <td>279</td>\n",
       "      <td>197</td>\n",
       "      <td>16085</td>\n",
       "      <td>60</td>\n",
       "      <td>198</td>\n",
       "      <td>899</td>\n",
       "      <td>...</td>\n",
       "      <td>23651</td>\n",
       "      <td>32068</td>\n",
       "      <td>69</td>\n",
       "      <td>152978</td>\n",
       "      <td>24358</td>\n",
       "      <td>61</td>\n",
       "      <td>134869</td>\n",
       "      <td>144</td>\n",
       "      <td>1823</td>\n",
       "      <td>control</td>\n",
       "    </tr>\n",
       "  </tbody>\n",
       "</table>\n",
       "<p>82 rows × 159 columns</p>\n",
       "</div>"
      ],
      "text/plain": [
       "    1_5-anhydroglucitol  1-monostearin  2_3-dihydroxybutanoic acid NIST  \\\n",
       "0                  9582            279                               82   \n",
       "1                 28847            161                               78   \n",
       "2                 13627            162                               53   \n",
       "3                 20758           6671                               93   \n",
       "4                 15692            108                               98   \n",
       "..                  ...            ...                              ...   \n",
       "77                25194            108                              106   \n",
       "78                23525             83                              140   \n",
       "79                25154            418                               90   \n",
       "80                12397            110                              104   \n",
       "81                18350             73                              179   \n",
       "\n",
       "    2_4-diaminobutyric acid  2-deoxyerythritol  2-deoxytetronic acid  \\\n",
       "0                        61                357                   122   \n",
       "1                        84                205                   258   \n",
       "2                       133                139                   159   \n",
       "3                        78                335                   225   \n",
       "4                        69                250                   120   \n",
       "..                      ...                ...                   ...   \n",
       "77                       32                127                   185   \n",
       "78                      261                167                   181   \n",
       "79                      307                284                   100   \n",
       "80                       56                342                   186   \n",
       "81                       86                279                   197   \n",
       "\n",
       "    2-hydroxybutanoic acid  2-hydroxyglutaric acid  2-hydroxyhippuric acid  \\\n",
       "0                    24944                      56                      32   \n",
       "1                    10680                     104                      49   \n",
       "2                    27201                     160                      80   \n",
       "3                    32347                     242                      59   \n",
       "4                    18357                      60                      25   \n",
       "..                     ...                     ...                     ...   \n",
       "77                   23821                      53                     103   \n",
       "78                   12396                      65                      39   \n",
       "79                   11788                     124                     106   \n",
       "80                   15214                      47                     129   \n",
       "81                   16085                      60                     198   \n",
       "\n",
       "    2-hydroxyvaleric acid  ...  tryptophan  tyrosine  UDP-glucuronic acid  \\\n",
       "0                     966  ...       34239     54924                   43   \n",
       "1                    1076  ...       20080     37597                  203   \n",
       "2                    1117  ...       29191     28707                  211   \n",
       "3                     304  ...       16637     27873                   71   \n",
       "4                    1220  ...       29820     30132                  200   \n",
       "..                    ...  ...         ...       ...                  ...   \n",
       "77                   1334  ...       34521     35970                   92   \n",
       "78                   1408  ...       28112     28014                  104   \n",
       "79                    997  ...       39591     37287                  166   \n",
       "80                    924  ...       29273     23742                 1903   \n",
       "81                    899  ...       23651     32068                   69   \n",
       "\n",
       "      urea  uric acid  uridine  valine  xylitol  xylose    Class  \n",
       "0   226295      11606       68  153849      194     811  disease  \n",
       "1    96226      10188       71  110735      294     910  disease  \n",
       "2   155596      16617      123   95509      253     804  disease  \n",
       "3   191671      15214       84   96219      157     806  disease  \n",
       "4   333019      20281       62  159853      188    1226  disease  \n",
       "..     ...        ...      ...     ...      ...     ...      ...  \n",
       "77  262448      18757       54  108092      180     748  control  \n",
       "78  310051      26134       50  134469      211     651  control  \n",
       "79  295930      21733       69   82547      457     749  control  \n",
       "80  276190      17275       68  112921     1256     526  control  \n",
       "81  152978      24358       61  134869      144    1823  control  \n",
       "\n",
       "[82 rows x 159 columns]"
      ]
     },
     "execution_count": 10,
     "metadata": {},
     "output_type": "execute_result"
    }
   ],
   "source": [
    "plasma = pd.read_csv('G:\\Research\\SM Sir\\LungCancer_Biomarker\\dataset\\plasma_processed.csv')\n",
    "serum = pd.read_csv('G:\\Research\\SM Sir\\LungCancer_Biomarker\\dataset\\serum_processed.csv')\n",
    "plasma0 = plasma.drop(['Unnamed: 0'], axis=1)\n",
    "serum0 = serum.drop(['Unnamed: 0'], axis=1)\n",
    "serum0"
   ]
  },
  {
   "cell_type": "code",
   "execution_count": 11,
   "id": "rocky-newfoundland",
   "metadata": {},
   "outputs": [
    {
     "data": {
      "text/html": [
       "<div>\n",
       "<style scoped>\n",
       "    .dataframe tbody tr th:only-of-type {\n",
       "        vertical-align: middle;\n",
       "    }\n",
       "\n",
       "    .dataframe tbody tr th {\n",
       "        vertical-align: top;\n",
       "    }\n",
       "\n",
       "    .dataframe thead th {\n",
       "        text-align: right;\n",
       "    }\n",
       "</style>\n",
       "<table border=\"1\" class=\"dataframe\">\n",
       "  <thead>\n",
       "    <tr style=\"text-align: right;\">\n",
       "      <th></th>\n",
       "      <th>1_5-anhydroglucitol</th>\n",
       "      <th>1-monostearin</th>\n",
       "      <th>2_3-dihydroxybutanoic acid NIST</th>\n",
       "      <th>2_4-diaminobutyric acid</th>\n",
       "      <th>2-deoxyerythritol</th>\n",
       "      <th>2-deoxytetronic acid</th>\n",
       "      <th>2-hydroxybutanoic acid</th>\n",
       "      <th>2-hydroxyglutaric acid</th>\n",
       "      <th>2-hydroxyhippuric acid</th>\n",
       "      <th>2-hydroxyvaleric acid</th>\n",
       "      <th>...</th>\n",
       "      <th>tryptophan</th>\n",
       "      <th>tyrosine</th>\n",
       "      <th>UDP-glucuronic acid</th>\n",
       "      <th>urea</th>\n",
       "      <th>uric acid</th>\n",
       "      <th>uridine</th>\n",
       "      <th>valine</th>\n",
       "      <th>xylitol</th>\n",
       "      <th>xylose</th>\n",
       "      <th>Class</th>\n",
       "    </tr>\n",
       "  </thead>\n",
       "  <tbody>\n",
       "    <tr>\n",
       "      <th>0</th>\n",
       "      <td>-1.32</td>\n",
       "      <td>-0.19</td>\n",
       "      <td>-0.31</td>\n",
       "      <td>0.90</td>\n",
       "      <td>0.21</td>\n",
       "      <td>-0.67</td>\n",
       "      <td>0.73</td>\n",
       "      <td>-0.14</td>\n",
       "      <td>-0.40</td>\n",
       "      <td>-0.06</td>\n",
       "      <td>...</td>\n",
       "      <td>0.52</td>\n",
       "      <td>1.94</td>\n",
       "      <td>-0.42</td>\n",
       "      <td>0.38</td>\n",
       "      <td>-1.02</td>\n",
       "      <td>-0.69</td>\n",
       "      <td>1.88</td>\n",
       "      <td>-0.53</td>\n",
       "      <td>0.63</td>\n",
       "      <td>disease</td>\n",
       "    </tr>\n",
       "    <tr>\n",
       "      <th>1</th>\n",
       "      <td>0.70</td>\n",
       "      <td>-0.17</td>\n",
       "      <td>1.11</td>\n",
       "      <td>-0.83</td>\n",
       "      <td>-0.53</td>\n",
       "      <td>-0.19</td>\n",
       "      <td>-0.95</td>\n",
       "      <td>-0.22</td>\n",
       "      <td>-0.17</td>\n",
       "      <td>-1.30</td>\n",
       "      <td>...</td>\n",
       "      <td>-0.90</td>\n",
       "      <td>0.31</td>\n",
       "      <td>-0.18</td>\n",
       "      <td>-0.53</td>\n",
       "      <td>-1.24</td>\n",
       "      <td>0.99</td>\n",
       "      <td>-0.34</td>\n",
       "      <td>-0.08</td>\n",
       "      <td>-0.25</td>\n",
       "      <td>disease</td>\n",
       "    </tr>\n",
       "    <tr>\n",
       "      <th>2</th>\n",
       "      <td>-0.81</td>\n",
       "      <td>-0.20</td>\n",
       "      <td>-0.92</td>\n",
       "      <td>-1.27</td>\n",
       "      <td>-0.88</td>\n",
       "      <td>-1.01</td>\n",
       "      <td>1.01</td>\n",
       "      <td>-0.20</td>\n",
       "      <td>-0.14</td>\n",
       "      <td>0.02</td>\n",
       "      <td>...</td>\n",
       "      <td>0.83</td>\n",
       "      <td>-0.38</td>\n",
       "      <td>-0.03</td>\n",
       "      <td>-1.03</td>\n",
       "      <td>-0.23</td>\n",
       "      <td>1.02</td>\n",
       "      <td>-0.80</td>\n",
       "      <td>-0.27</td>\n",
       "      <td>-0.88</td>\n",
       "      <td>disease</td>\n",
       "    </tr>\n",
       "    <tr>\n",
       "      <th>3</th>\n",
       "      <td>-0.20</td>\n",
       "      <td>-0.17</td>\n",
       "      <td>-0.24</td>\n",
       "      <td>-0.47</td>\n",
       "      <td>-0.34</td>\n",
       "      <td>-0.37</td>\n",
       "      <td>1.93</td>\n",
       "      <td>-0.16</td>\n",
       "      <td>-0.16</td>\n",
       "      <td>-1.02</td>\n",
       "      <td>...</td>\n",
       "      <td>-1.11</td>\n",
       "      <td>-0.71</td>\n",
       "      <td>-0.42</td>\n",
       "      <td>-0.48</td>\n",
       "      <td>-0.48</td>\n",
       "      <td>0.50</td>\n",
       "      <td>-0.58</td>\n",
       "      <td>-0.35</td>\n",
       "      <td>-0.62</td>\n",
       "      <td>disease</td>\n",
       "    </tr>\n",
       "    <tr>\n",
       "      <th>4</th>\n",
       "      <td>-0.45</td>\n",
       "      <td>-0.15</td>\n",
       "      <td>-0.26</td>\n",
       "      <td>0.94</td>\n",
       "      <td>-0.14</td>\n",
       "      <td>0.10</td>\n",
       "      <td>0.17</td>\n",
       "      <td>-0.23</td>\n",
       "      <td>-0.37</td>\n",
       "      <td>0.19</td>\n",
       "      <td>...</td>\n",
       "      <td>0.01</td>\n",
       "      <td>-0.44</td>\n",
       "      <td>0.00</td>\n",
       "      <td>0.38</td>\n",
       "      <td>0.76</td>\n",
       "      <td>-0.85</td>\n",
       "      <td>1.97</td>\n",
       "      <td>-0.44</td>\n",
       "      <td>1.90</td>\n",
       "      <td>disease</td>\n",
       "    </tr>\n",
       "  </tbody>\n",
       "</table>\n",
       "<p>5 rows × 159 columns</p>\n",
       "</div>"
      ],
      "text/plain": [
       "   1_5-anhydroglucitol  1-monostearin  2_3-dihydroxybutanoic acid NIST  \\\n",
       "0                -1.32          -0.19                            -0.31   \n",
       "1                 0.70          -0.17                             1.11   \n",
       "2                -0.81          -0.20                            -0.92   \n",
       "3                -0.20          -0.17                            -0.24   \n",
       "4                -0.45          -0.15                            -0.26   \n",
       "\n",
       "   2_4-diaminobutyric acid  2-deoxyerythritol  2-deoxytetronic acid  \\\n",
       "0                     0.90               0.21                 -0.67   \n",
       "1                    -0.83              -0.53                 -0.19   \n",
       "2                    -1.27              -0.88                 -1.01   \n",
       "3                    -0.47              -0.34                 -0.37   \n",
       "4                     0.94              -0.14                  0.10   \n",
       "\n",
       "   2-hydroxybutanoic acid  2-hydroxyglutaric acid  2-hydroxyhippuric acid  \\\n",
       "0                    0.73                   -0.14                   -0.40   \n",
       "1                   -0.95                   -0.22                   -0.17   \n",
       "2                    1.01                   -0.20                   -0.14   \n",
       "3                    1.93                   -0.16                   -0.16   \n",
       "4                    0.17                   -0.23                   -0.37   \n",
       "\n",
       "   2-hydroxyvaleric acid  ...  tryptophan  tyrosine  UDP-glucuronic acid  \\\n",
       "0                  -0.06  ...        0.52      1.94                -0.42   \n",
       "1                  -1.30  ...       -0.90      0.31                -0.18   \n",
       "2                   0.02  ...        0.83     -0.38                -0.03   \n",
       "3                  -1.02  ...       -1.11     -0.71                -0.42   \n",
       "4                   0.19  ...        0.01     -0.44                 0.00   \n",
       "\n",
       "   urea  uric acid  uridine  valine  xylitol  xylose    Class  \n",
       "0  0.38      -1.02    -0.69    1.88    -0.53    0.63  disease  \n",
       "1 -0.53      -1.24     0.99   -0.34    -0.08   -0.25  disease  \n",
       "2 -1.03      -0.23     1.02   -0.80    -0.27   -0.88  disease  \n",
       "3 -0.48      -0.48     0.50   -0.58    -0.35   -0.62  disease  \n",
       "4  0.38       0.76    -0.85    1.97    -0.44    1.90  disease  \n",
       "\n",
       "[5 rows x 159 columns]"
      ]
     },
     "execution_count": 11,
     "metadata": {},
     "output_type": "execute_result"
    }
   ],
   "source": [
    "# standardize\n",
    "for i in ['plasma', 'serum']:\n",
    "    scl = StandardScaler().fit(vars()[i+'0'].iloc[:, :-1])\n",
    "    stand = scl.transform(vars()[i+'0'].iloc[:, :-1])\n",
    "    vars()[i] = pd.DataFrame(stand, columns = vars()[i+'0'].columns[:-1])\n",
    "    vars()[i] = pd.concat([vars()[i], vars()[i+'0'].iloc[:, -1]], axis=1)\n",
    "\n",
    "plasma.head()"
   ]
  },
  {
   "cell_type": "code",
   "execution_count": 12,
   "id": "moving-shower",
   "metadata": {},
   "outputs": [
    {
     "data": {
      "text/plain": [
       "1_5-anhydroglucitol                float64\n",
       "1-monostearin                      float64\n",
       "2_3-dihydroxybutanoic acid NIST    float64\n",
       "2_4-diaminobutyric acid            float64\n",
       "2-deoxyerythritol                  float64\n",
       "                                    ...   \n",
       "uridine                            float64\n",
       "valine                             float64\n",
       "xylitol                            float64\n",
       "xylose                             float64\n",
       "Class                               object\n",
       "Length: 159, dtype: object"
      ]
     },
     "execution_count": 12,
     "metadata": {},
     "output_type": "execute_result"
    }
   ],
   "source": [
    "plasma.dtypes"
   ]
  },
  {
   "cell_type": "markdown",
   "id": "daily-aaron",
   "metadata": {},
   "source": [
    "<a id=\"3\"></a>\n",
    "\n",
    "<h1 style=\"background-color:#d8f8b7;font-family:newtimeroman;font-size:250%;text-align:center;border-radius: 15px 50px;\">Pearson's Correlation Coefficient\n",
    "</h1>"
   ]
  },
  {
   "cell_type": "markdown",
   "id": "downtown-restaurant",
   "metadata": {},
   "source": [
    "<a id=\"3.1\"></a>\n",
    "\n",
    "<h1 style=\"background-color:#d8f8b7;font-family:newtimeroman;font-size:180%;text-align:center;border-radius: 15px 50px;\">Plasma\n",
    "</h1>\n"
   ]
  },
  {
   "cell_type": "code",
   "execution_count": 13,
   "id": "split-advocacy",
   "metadata": {},
   "outputs": [
    {
     "data": {
      "text/html": [
       "<div>\n",
       "<style scoped>\n",
       "    .dataframe tbody tr th:only-of-type {\n",
       "        vertical-align: middle;\n",
       "    }\n",
       "\n",
       "    .dataframe tbody tr th {\n",
       "        vertical-align: top;\n",
       "    }\n",
       "\n",
       "    .dataframe thead th {\n",
       "        text-align: right;\n",
       "    }\n",
       "</style>\n",
       "<table border=\"1\" class=\"dataframe\">\n",
       "  <thead>\n",
       "    <tr style=\"text-align: right;\">\n",
       "      <th></th>\n",
       "      <th>Features</th>\n",
       "      <th>Pearson Coefficient</th>\n",
       "      <th>p-Value</th>\n",
       "    </tr>\n",
       "  </thead>\n",
       "  <tbody>\n",
       "    <tr>\n",
       "      <th>0</th>\n",
       "      <td>1_5-anhydroglucitol</td>\n",
       "      <td>-0.05</td>\n",
       "      <td>0.65</td>\n",
       "    </tr>\n",
       "    <tr>\n",
       "      <th>1</th>\n",
       "      <td>1-monostearin</td>\n",
       "      <td>0.18</td>\n",
       "      <td>0.11</td>\n",
       "    </tr>\n",
       "    <tr>\n",
       "      <th>2</th>\n",
       "      <td>2_3-dihydroxybutanoic acid NIST</td>\n",
       "      <td>0.08</td>\n",
       "      <td>0.49</td>\n",
       "    </tr>\n",
       "    <tr>\n",
       "      <th>3</th>\n",
       "      <td>2_4-diaminobutyric acid</td>\n",
       "      <td>0.08</td>\n",
       "      <td>0.50</td>\n",
       "    </tr>\n",
       "    <tr>\n",
       "      <th>4</th>\n",
       "      <td>2-deoxyerythritol</td>\n",
       "      <td>0.06</td>\n",
       "      <td>0.59</td>\n",
       "    </tr>\n",
       "    <tr>\n",
       "      <th>...</th>\n",
       "      <td>...</td>\n",
       "      <td>...</td>\n",
       "      <td>...</td>\n",
       "    </tr>\n",
       "    <tr>\n",
       "      <th>153</th>\n",
       "      <td>uric acid</td>\n",
       "      <td>-0.31</td>\n",
       "      <td>0.00</td>\n",
       "    </tr>\n",
       "    <tr>\n",
       "      <th>154</th>\n",
       "      <td>uridine</td>\n",
       "      <td>-0.00</td>\n",
       "      <td>0.99</td>\n",
       "    </tr>\n",
       "    <tr>\n",
       "      <th>155</th>\n",
       "      <td>valine</td>\n",
       "      <td>-0.09</td>\n",
       "      <td>0.40</td>\n",
       "    </tr>\n",
       "    <tr>\n",
       "      <th>156</th>\n",
       "      <td>xylitol</td>\n",
       "      <td>-0.07</td>\n",
       "      <td>0.54</td>\n",
       "    </tr>\n",
       "    <tr>\n",
       "      <th>157</th>\n",
       "      <td>xylose</td>\n",
       "      <td>0.05</td>\n",
       "      <td>0.67</td>\n",
       "    </tr>\n",
       "  </tbody>\n",
       "</table>\n",
       "<p>158 rows × 3 columns</p>\n",
       "</div>"
      ],
      "text/plain": [
       "                            Features  Pearson Coefficient  p-Value\n",
       "0                1_5-anhydroglucitol                -0.05     0.65\n",
       "1                      1-monostearin                 0.18     0.11\n",
       "2    2_3-dihydroxybutanoic acid NIST                 0.08     0.49\n",
       "3            2_4-diaminobutyric acid                 0.08     0.50\n",
       "4                  2-deoxyerythritol                 0.06     0.59\n",
       "..                               ...                  ...      ...\n",
       "153                        uric acid                -0.31     0.00\n",
       "154                          uridine                -0.00     0.99\n",
       "155                           valine                -0.09     0.40\n",
       "156                          xylitol                -0.07     0.54\n",
       "157                           xylose                 0.05     0.67\n",
       "\n",
       "[158 rows x 3 columns]"
      ]
     },
     "execution_count": 13,
     "metadata": {},
     "output_type": "execute_result"
    }
   ],
   "source": [
    "pearson_p = []\n",
    "for i in plasma.columns:\n",
    "    if plasma[i].dtypes!='O':\n",
    "        pearson_coef, p_value = stats.pearsonr(plasma[i], plasma['Class'].map({\"control\": 0, \"disease\": 1}))\n",
    "        pearson_p.append([i, pearson_coef, p_value])\n",
    "pearson_p_df = pd.DataFrame(pearson_p, columns=['Features', 'Pearson Coefficient', 'p-Value'])\n",
    "pearson_p_df"
   ]
  },
  {
   "cell_type": "code",
   "execution_count": 14,
   "id": "promising-paint",
   "metadata": {},
   "outputs": [
    {
     "data": {
      "text/plain": [
       "38"
      ]
     },
     "execution_count": 14,
     "metadata": {},
     "output_type": "execute_result"
    }
   ],
   "source": [
    "pearson_p_final = []\n",
    "for i in range(158):\n",
    "    if pearson_p_df.loc[i, 'p-Value'] < 0.05:\n",
    "        pearson_p_final.append(pearson_p_df.loc[i, 'Features'])\n",
    "len(pearson_p_final)"
   ]
  },
  {
   "cell_type": "markdown",
   "id": "changed-seminar",
   "metadata": {},
   "source": [
    "<a id=\"3.2\"></a>\n",
    "\n",
    "<h1 style=\"background-color:#d8f8b7;font-family:newtimeroman;font-size:180%;text-align:center;border-radius: 15px 50px;\">Serum\n",
    "</h1>\n"
   ]
  },
  {
   "cell_type": "code",
   "execution_count": 15,
   "id": "sporting-morning",
   "metadata": {},
   "outputs": [
    {
     "data": {
      "text/html": [
       "<div>\n",
       "<style scoped>\n",
       "    .dataframe tbody tr th:only-of-type {\n",
       "        vertical-align: middle;\n",
       "    }\n",
       "\n",
       "    .dataframe tbody tr th {\n",
       "        vertical-align: top;\n",
       "    }\n",
       "\n",
       "    .dataframe thead th {\n",
       "        text-align: right;\n",
       "    }\n",
       "</style>\n",
       "<table border=\"1\" class=\"dataframe\">\n",
       "  <thead>\n",
       "    <tr style=\"text-align: right;\">\n",
       "      <th></th>\n",
       "      <th>Features</th>\n",
       "      <th>Pearson Coefficient</th>\n",
       "      <th>p-Value</th>\n",
       "    </tr>\n",
       "  </thead>\n",
       "  <tbody>\n",
       "    <tr>\n",
       "      <th>0</th>\n",
       "      <td>1_5-anhydroglucitol</td>\n",
       "      <td>-0.07</td>\n",
       "      <td>0.50</td>\n",
       "    </tr>\n",
       "    <tr>\n",
       "      <th>1</th>\n",
       "      <td>1-monostearin</td>\n",
       "      <td>-0.05</td>\n",
       "      <td>0.67</td>\n",
       "    </tr>\n",
       "    <tr>\n",
       "      <th>2</th>\n",
       "      <td>2_3-dihydroxybutanoic acid NIST</td>\n",
       "      <td>-0.18</td>\n",
       "      <td>0.11</td>\n",
       "    </tr>\n",
       "    <tr>\n",
       "      <th>3</th>\n",
       "      <td>2_4-diaminobutyric acid</td>\n",
       "      <td>-0.14</td>\n",
       "      <td>0.21</td>\n",
       "    </tr>\n",
       "    <tr>\n",
       "      <th>4</th>\n",
       "      <td>2-deoxyerythritol</td>\n",
       "      <td>0.02</td>\n",
       "      <td>0.88</td>\n",
       "    </tr>\n",
       "    <tr>\n",
       "      <th>...</th>\n",
       "      <td>...</td>\n",
       "      <td>...</td>\n",
       "      <td>...</td>\n",
       "    </tr>\n",
       "    <tr>\n",
       "      <th>153</th>\n",
       "      <td>uric acid</td>\n",
       "      <td>-0.28</td>\n",
       "      <td>0.01</td>\n",
       "    </tr>\n",
       "    <tr>\n",
       "      <th>154</th>\n",
       "      <td>uridine</td>\n",
       "      <td>0.07</td>\n",
       "      <td>0.52</td>\n",
       "    </tr>\n",
       "    <tr>\n",
       "      <th>155</th>\n",
       "      <td>valine</td>\n",
       "      <td>-0.10</td>\n",
       "      <td>0.39</td>\n",
       "    </tr>\n",
       "    <tr>\n",
       "      <th>156</th>\n",
       "      <td>xylitol</td>\n",
       "      <td>-0.13</td>\n",
       "      <td>0.24</td>\n",
       "    </tr>\n",
       "    <tr>\n",
       "      <th>157</th>\n",
       "      <td>xylose</td>\n",
       "      <td>0.01</td>\n",
       "      <td>0.94</td>\n",
       "    </tr>\n",
       "  </tbody>\n",
       "</table>\n",
       "<p>158 rows × 3 columns</p>\n",
       "</div>"
      ],
      "text/plain": [
       "                            Features  Pearson Coefficient  p-Value\n",
       "0                1_5-anhydroglucitol                -0.07     0.50\n",
       "1                      1-monostearin                -0.05     0.67\n",
       "2    2_3-dihydroxybutanoic acid NIST                -0.18     0.11\n",
       "3            2_4-diaminobutyric acid                -0.14     0.21\n",
       "4                  2-deoxyerythritol                 0.02     0.88\n",
       "..                               ...                  ...      ...\n",
       "153                        uric acid                -0.28     0.01\n",
       "154                          uridine                 0.07     0.52\n",
       "155                           valine                -0.10     0.39\n",
       "156                          xylitol                -0.13     0.24\n",
       "157                           xylose                 0.01     0.94\n",
       "\n",
       "[158 rows x 3 columns]"
      ]
     },
     "execution_count": 15,
     "metadata": {},
     "output_type": "execute_result"
    }
   ],
   "source": [
    "pearson_p_serum = []\n",
    "for i in serum.columns:\n",
    "    if serum[i].dtypes!='O':\n",
    "        pearson_coef, p_value = stats.pearsonr(serum[i], serum['Class'].map({\"control\": 0, \"disease\": 1}))\n",
    "        pearson_p_serum.append([i, pearson_coef, p_value])\n",
    "pearson_p_df_serum = pd.DataFrame(pearson_p_serum, columns=['Features', 'Pearson Coefficient', 'p-Value'])\n",
    "pearson_p_df_serum"
   ]
  },
  {
   "cell_type": "code",
   "execution_count": 16,
   "id": "reduced-thailand",
   "metadata": {},
   "outputs": [
    {
     "data": {
      "text/plain": [
       "29"
      ]
     },
     "execution_count": 16,
     "metadata": {},
     "output_type": "execute_result"
    }
   ],
   "source": [
    "pearson_p_final_serum = []\n",
    "for i in range(158):\n",
    "    if pearson_p_df_serum.loc[i, 'p-Value'] < 0.06:\n",
    "        pearson_p_final_serum.append(pearson_p_df_serum.loc[i, 'Features'])\n",
    "len(pearson_p_final_serum)"
   ]
  },
  {
   "cell_type": "markdown",
   "id": "fuzzy-result",
   "metadata": {},
   "source": [
    "### So important variables we derived:\n",
    "\n",
    "'3-phosphoglycerate',\n",
    " '5-methoxytryptamine',\n",
    " 'adenosine-5-monophosphate',\n",
    " 'asparagine',\n",
    " 'aspartic acid',\n",
    " 'lactic acid',\n",
    " 'phenol',\n",
    " 'pyrophosphate',\n",
    " 'pyruvic acid',\n",
    " 'taurine'"
   ]
  },
  {
   "cell_type": "markdown",
   "id": "durable-colors",
   "metadata": {},
   "source": [
    "<a id=\"4\"></a>\n",
    "\n",
    "<h1 style=\"background-color:#d8f8b7;font-family:newtimeroman;font-size:250%;text-align:center;border-radius: 15px 50px;\">PCA & t-SNE\n",
    "</h1>"
   ]
  },
  {
   "cell_type": "code",
   "execution_count": 17,
   "id": "floating-exception",
   "metadata": {},
   "outputs": [],
   "source": [
    "# necessary functions\n",
    "labels = np.reshape(plasma['Class'].to_numpy(), (82,1))\n",
    "\n",
    "def pca_analysis(df, n_components):\n",
    "    pca = PCA(n_components=n_components)\n",
    "    pca_result = pca.fit_transform(df.iloc[:, :-1].values)\n",
    "\n",
    "    pca_concatenate = np.concatenate([pca_result, labels], axis=1)\n",
    "    return pca_concatenate\n",
    "\n",
    "def make_dataframe(array, n_features):\n",
    "    col = []\n",
    "    for i in range(1, n_features+1):\n",
    "        col.append(f'pc{i}')\n",
    "    col.append('Class')\n",
    "    return pd.DataFrame(array, columns = col)\n",
    "\n",
    "def tsne_analysis(df, n_components):\n",
    "    tsne = TSNE(n_components=n_components)\n",
    "    tsne_result = tsne.fit_transform(df.iloc[:, :-1].values)\n",
    "\n",
    "    tsne_concatenate = np.concatenate([tsne_result, labels], axis=1)\n",
    "    return tsne_concatenate\n",
    "def tsne_dataframe(array, n_features):\n",
    "    col = []\n",
    "    for i in range(1, n_features+1):\n",
    "        col.append(f'tsne{i}')\n",
    "    col.append('Class')\n",
    "    return pd.DataFrame(array, columns = col)\n",
    "\n",
    "def get_xy(df):\n",
    "  X = df.drop('Class', axis=1)\n",
    "  X = X.apply(pd.to_numeric)\n",
    "  y = df['Class'].copy()\n",
    "  y = y.map({\"control\": 0, \"disease\": 1})\n",
    "  return X, y"
   ]
  },
  {
   "cell_type": "markdown",
   "id": "fluid-shoot",
   "metadata": {},
   "source": [
    "<a id=\"5\"></a>\n",
    "\n",
    "<h1 style=\"background-color:#d8f8b7;font-family:newtimeroman;font-size:250%;text-align:center;border-radius: 15px 50px;\">Lazypredict\n",
    "</h1>"
   ]
  },
  {
   "cell_type": "code",
   "execution_count": 18,
   "id": "effective-cemetery",
   "metadata": {},
   "outputs": [],
   "source": [
    "imp0 = pearson_p_final\n",
    "imp1 = pearson_p_final_serum"
   ]
  },
  {
   "cell_type": "code",
   "execution_count": 19,
   "id": "atomic-medicaid",
   "metadata": {},
   "outputs": [],
   "source": [
    "model_names = ['ExtraTreeClassifier', 'DecisionTreeClassifier', 'XGBClassifier',\n",
    "       'RandomForestClassifier', 'NearestCentroid', 'KNeighborsClassifier',\n",
    "       'QuadraticDiscriminantAnalysis', 'LinearSVC', 'BaggingClassifier',\n",
    "       'SGDClassifier', 'LogisticRegression', 'LGBMClassifier',\n",
    "       'CalibratedClassifierCV', 'GaussianNB', 'BernoulliNB',\n",
    "       'PassiveAggressiveClassifier', 'LabelSpreading', 'LabelPropagation',\n",
    "       'ExtraTreesClassifier', 'Perceptron', 'LinearDiscriminantAnalysis',\n",
    "       'RidgeClassifier', 'AdaBoostClassifier', 'NuSVC', 'SVC',\n",
    "       'RidgeClassifierCV', 'DummyClassifier']"
   ]
  },
  {
   "cell_type": "code",
   "execution_count": 20,
   "id": "individual-letters",
   "metadata": {},
   "outputs": [
    {
     "name": "stderr",
     "output_type": "stream",
     "text": [
      "100%|██████████| 29/29 [00:00<00:00, 34.07it/s]\n"
     ]
    }
   ],
   "source": [
    "full_result = []\n",
    "accuracy = []\n",
    "for k in [0]:\n",
    "    if k==0:\n",
    "        name = ['Serum(Specific Metabolics)']\n",
    "        dfs = [serum]\n",
    "    elif k==22 or k==23:\n",
    "        name = [f'tsne{k-20}_plasma(Specific Metabolics)', f'tsne{k-20}_serum(Specific Metabolics)']\n",
    "        dfs = [vars()[f'tsne{k-20}_plasma_df'], vars()[f'tsne{k-20}_serum_df']]\n",
    "    else:\n",
    "        if k>10:\n",
    "            name = [f'pca{k}_plasma(Specific Metabolics)']\n",
    "            dfs = [vars()[f'pca{k}_plasma_df']]\n",
    "        else:\n",
    "            name = [f'pca{k}_plasma(Specific Metabolics)', f'pca{k}_serum(Specific Metabolics)']\n",
    "            dfs = [vars()[f'pca{k}_plasma_df'], vars()[f'pca{k}_serum_df']]\n",
    "    \n",
    "    random_state = 42\n",
    "\n",
    "    for idx, data in enumerate(dfs):\n",
    "      result = []\n",
    "      X, y = get_xy(data)\n",
    "      rs = ShuffleSplit(n_splits=1, test_size=.2, random_state=random_state)\n",
    "      \n",
    "      for train_index, test_index in rs.split(X):\n",
    "        clf = LazyClassifier(verbose=0, ignore_warnings=True, custom_metric=matthews_corrcoef, predictions=True)\n",
    "        X_train, X_test = X.iloc[train_index], X.iloc[test_index]\n",
    "        y_train, y_test = y.iloc[train_index], y.iloc[test_index]\n",
    "\n",
    "        models, predictions = clf.fit(X_train, X_test, y_train, y_test)\n",
    "        result.append(models)\n",
    "\n",
    "      acc = []\n",
    "      for i in range(1):\n",
    "        acc.append(result[i].iloc[0]['Balanced Accuracy'])\n",
    "\n",
    "#       print(f'\\n{name[idx]}: {sum(acc)/len(acc)}')\n",
    "#       accuracy.append([f'{name[idx]}', f'{sum(acc)/len(acc)}'])\n",
    "        \n",
    "      full_result.append(result)"
   ]
  },
  {
   "cell_type": "code",
   "execution_count": 21,
   "id": "painted-volume",
   "metadata": {},
   "outputs": [
    {
     "data": {
      "text/plain": [
       "{'AdaBoostClassifier': [0, 0.8636363636363636],\n",
       " 'BaggingClassifier': [0, 0.7348484848484849],\n",
       " 'BernoulliNB': [1, 0.9090909090909092],\n",
       " 'CalibratedClassifierCV': [0, 0.7348484848484849],\n",
       " 'DecisionTreeClassifier': [0, 0.6439393939393939],\n",
       " 'DummyClassifier': [0, 0.606060606060606],\n",
       " 'ExtraTreeClassifier': [0, 0.606060606060606],\n",
       " 'ExtraTreesClassifier': [0, 0.8181818181818181],\n",
       " 'GaussianNB': [0, 0.696969696969697],\n",
       " 'KNeighborsClassifier': [0, 0.6515151515151515],\n",
       " 'LGBMClassifier': [0, 0.696969696969697],\n",
       " 'LabelPropagation': [0, 0.5],\n",
       " 'LabelSpreading': [0, 0.5],\n",
       " 'LinearDiscriminantAnalysis': [0, 0.6136363636363636],\n",
       " 'LinearSVC': [0, 0.6515151515151515],\n",
       " 'LogisticRegression': [0, 0.6515151515151515],\n",
       " 'NearestCentroid': [0, 0.606060606060606],\n",
       " 'NuSVC': [0, 0.6893939393939394],\n",
       " 'PassiveAggressiveClassifier': [0, 0.6515151515151515],\n",
       " 'Perceptron': [0, 0.4772727272727273],\n",
       " 'QuadraticDiscriminantAnalysis': [0, 0.6136363636363636],\n",
       " 'RandomForestClassifier': [0, 0.8257575757575758],\n",
       " 'RidgeClassifier': [0, 0.7348484848484849],\n",
       " 'RidgeClassifierCV': [0, 0.6515151515151515],\n",
       " 'SGDClassifier': [0, 0.5606060606060606],\n",
       " 'SVC': [0, 0.6439393939393939],\n",
       " 'XGBClassifier': [0, 0.7803030303030303]}"
      ]
     },
     "execution_count": 21,
     "metadata": {},
     "output_type": "execute_result"
    }
   ],
   "source": [
    "model_topper = {}\n",
    "for i in model_names:\n",
    "    vars()[i] = [0, 0.0]\n",
    "    model_topper[i] = vars()[i]\n",
    "for i in range(1):\n",
    "    for j in range(len(model_names)):\n",
    "        if full_result[0][i].index[0] == model_names[j]:\n",
    "            vars()[model_names[j]][0] += 1\n",
    "        vars()[model_names[j]][1] += full_result[0][i].loc[model_names[j]]['Balanced Accuracy']\n",
    "        model_topper[model_names[j]] = vars()[model_names[j]]\n",
    "\n",
    "model_topper"
   ]
  },
  {
   "cell_type": "markdown",
   "id": "known-elder",
   "metadata": {},
   "source": [
    "<a id=\"6\"></a>\n",
    "\n",
    "<h1 style=\"background-color:#d8f8b7;font-family:newtimeroman;font-size:250%;text-align:center;border-radius: 15px 50px;\">Prediction\n",
    "</h1>"
   ]
  },
  {
   "cell_type": "code",
   "execution_count": 22,
   "id": "alternative-speed",
   "metadata": {},
   "outputs": [
    {
     "name": "stderr",
     "output_type": "stream",
     "text": [
      "100%|██████████| 29/29 [00:00<00:00, 40.52it/s]\n",
      "  7%|▋         | 2/29 [00:00<00:01, 16.26it/s]"
     ]
    },
    {
     "name": "stdout",
     "output_type": "stream",
     "text": [
      "\n",
      "Plasma(Raw): 0.8712121212121212\n"
     ]
    },
    {
     "name": "stderr",
     "output_type": "stream",
     "text": [
      "100%|██████████| 29/29 [00:00<00:00, 38.76it/s]\n",
      "  7%|▋         | 2/29 [00:00<00:01, 18.18it/s]"
     ]
    },
    {
     "name": "stdout",
     "output_type": "stream",
     "text": [
      "\n",
      "Serum(Raw): 0.9090909090909092\n"
     ]
    },
    {
     "name": "stderr",
     "output_type": "stream",
     "text": [
      "100%|██████████| 29/29 [00:00<00:00, 46.59it/s]\n",
      "  7%|▋         | 2/29 [00:00<00:01, 18.69it/s]"
     ]
    },
    {
     "name": "stdout",
     "output_type": "stream",
     "text": [
      "\n",
      "pca2_plasma(Exploratory): 0.7878787878787878\n"
     ]
    },
    {
     "name": "stderr",
     "output_type": "stream",
     "text": [
      "100%|██████████| 29/29 [00:00<00:00, 45.03it/s]\n",
      "  7%|▋         | 2/29 [00:00<00:01, 18.35it/s]"
     ]
    },
    {
     "name": "stdout",
     "output_type": "stream",
     "text": [
      "\n",
      "pca2_serum(Exploratory): 0.6515151515151515\n"
     ]
    },
    {
     "name": "stderr",
     "output_type": "stream",
     "text": [
      "100%|██████████| 29/29 [00:00<00:00, 44.48it/s]\n",
      "  7%|▋         | 2/29 [00:00<00:01, 17.54it/s]"
     ]
    },
    {
     "name": "stdout",
     "output_type": "stream",
     "text": [
      "\n",
      "pca3_plasma(Exploratory): 0.8257575757575758\n"
     ]
    },
    {
     "name": "stderr",
     "output_type": "stream",
     "text": [
      "100%|██████████| 29/29 [00:00<00:00, 46.93it/s]\n",
      "  7%|▋         | 2/29 [00:00<00:01, 18.18it/s]"
     ]
    },
    {
     "name": "stdout",
     "output_type": "stream",
     "text": [
      "\n",
      "pca3_serum(Exploratory): 0.7424242424242424\n"
     ]
    },
    {
     "name": "stderr",
     "output_type": "stream",
     "text": [
      "100%|██████████| 29/29 [00:00<00:00, 45.67it/s]\n",
      "  7%|▋         | 2/29 [00:00<00:01, 18.02it/s]"
     ]
    },
    {
     "name": "stdout",
     "output_type": "stream",
     "text": [
      "\n",
      "pca4_plasma(Exploratory): 0.8257575757575758\n"
     ]
    },
    {
     "name": "stderr",
     "output_type": "stream",
     "text": [
      "100%|██████████| 29/29 [00:00<00:00, 47.32it/s]\n",
      "  7%|▋         | 2/29 [00:00<00:01, 17.86it/s]"
     ]
    },
    {
     "name": "stdout",
     "output_type": "stream",
     "text": [
      "\n",
      "pca4_serum(Exploratory): 0.7424242424242424\n"
     ]
    },
    {
     "name": "stderr",
     "output_type": "stream",
     "text": [
      "100%|██████████| 29/29 [00:00<00:00, 45.74it/s]\n",
      "  7%|▋         | 2/29 [00:00<00:01, 17.86it/s]"
     ]
    },
    {
     "name": "stdout",
     "output_type": "stream",
     "text": [
      "\n",
      "pca5_plasma(Exploratory): 0.9090909090909092\n"
     ]
    },
    {
     "name": "stderr",
     "output_type": "stream",
     "text": [
      "100%|██████████| 29/29 [00:00<00:00, 46.47it/s]\n",
      "  7%|▋         | 2/29 [00:00<00:01, 18.52it/s]"
     ]
    },
    {
     "name": "stdout",
     "output_type": "stream",
     "text": [
      "\n",
      "pca5_serum(Exploratory): 0.7878787878787878\n"
     ]
    },
    {
     "name": "stderr",
     "output_type": "stream",
     "text": [
      "100%|██████████| 29/29 [00:00<00:00, 45.03it/s]\n",
      "  7%|▋         | 2/29 [00:00<00:01, 17.70it/s]"
     ]
    },
    {
     "name": "stdout",
     "output_type": "stream",
     "text": [
      "\n",
      "pca10_plasma(Exploratory): 0.8257575757575758\n"
     ]
    },
    {
     "name": "stderr",
     "output_type": "stream",
     "text": [
      "100%|██████████| 29/29 [00:00<00:00, 45.31it/s]\n",
      "  7%|▋         | 2/29 [00:00<00:01, 17.39it/s]"
     ]
    },
    {
     "name": "stdout",
     "output_type": "stream",
     "text": [
      "\n",
      "pca10_serum(Exploratory): 0.9090909090909092\n"
     ]
    },
    {
     "name": "stderr",
     "output_type": "stream",
     "text": [
      "100%|██████████| 29/29 [00:00<00:00, 44.96it/s]\n",
      "  7%|▋         | 2/29 [00:00<00:01, 17.09it/s]"
     ]
    },
    {
     "name": "stdout",
     "output_type": "stream",
     "text": [
      "\n",
      "pca15_plasma(Exploratory): 0.9090909090909092\n"
     ]
    },
    {
     "name": "stderr",
     "output_type": "stream",
     "text": [
      "100%|██████████| 29/29 [00:00<00:00, 45.67it/s]\n",
      "  7%|▋         | 2/29 [00:00<00:01, 17.70it/s]"
     ]
    },
    {
     "name": "stdout",
     "output_type": "stream",
     "text": [
      "\n",
      "pca15_serum(Exploratory): 0.9090909090909092\n"
     ]
    },
    {
     "name": "stderr",
     "output_type": "stream",
     "text": [
      "100%|██████████| 29/29 [00:00<00:00, 44.62it/s]\n",
      "  7%|▋         | 2/29 [00:00<00:01, 16.67it/s]"
     ]
    },
    {
     "name": "stdout",
     "output_type": "stream",
     "text": [
      "\n",
      "pca20_plasma(Exploratory): 0.9090909090909092\n"
     ]
    },
    {
     "name": "stderr",
     "output_type": "stream",
     "text": [
      "100%|██████████| 29/29 [00:00<00:00, 34.65it/s]\n"
     ]
    },
    {
     "name": "stdout",
     "output_type": "stream",
     "text": [
      "\n",
      "pca20_serum(Exploratory): 0.7424242424242424\n"
     ]
    },
    {
     "name": "stderr",
     "output_type": "stream",
     "text": [
      "100%|██████████| 29/29 [00:00<00:00, 35.07it/s]\n",
      "  3%|▎         | 1/29 [00:00<00:03,  8.06it/s]"
     ]
    },
    {
     "name": "stdout",
     "output_type": "stream",
     "text": [
      "\n",
      "tsne2_plasma(Exploratory): 0.9090909090909092\n"
     ]
    },
    {
     "name": "stderr",
     "output_type": "stream",
     "text": [
      "100%|██████████| 29/29 [00:00<00:00, 30.15it/s]\n"
     ]
    },
    {
     "name": "stdout",
     "output_type": "stream",
     "text": [
      "\n",
      "tsne2_serum(Exploratory): 0.6515151515151515\n"
     ]
    },
    {
     "name": "stderr",
     "output_type": "stream",
     "text": [
      "100%|██████████| 29/29 [00:00<00:00, 32.37it/s]\n",
      "  3%|▎         | 1/29 [00:00<00:03,  9.17it/s]"
     ]
    },
    {
     "name": "stdout",
     "output_type": "stream",
     "text": [
      "\n",
      "tsne3_plasma(Exploratory): 0.6439393939393939\n"
     ]
    },
    {
     "name": "stderr",
     "output_type": "stream",
     "text": [
      "100%|██████████| 29/29 [00:00<00:00, 29.47it/s]"
     ]
    },
    {
     "name": "stdout",
     "output_type": "stream",
     "text": [
      "\n",
      "tsne3_serum(Exploratory): 0.7424242424242424\n"
     ]
    },
    {
     "name": "stderr",
     "output_type": "stream",
     "text": [
      "\n"
     ]
    }
   ],
   "source": [
    "accuracy = []\n",
    "for k in [0, 2, 3, 4, 5, 10, 15, 20, 22, 23]:\n",
    "    \n",
    "    if k==0:\n",
    "        name = ['Plasma(Raw)', 'Serum(Raw)', 'Plasma(Exploratory)', 'Serum(Exploratory)']\n",
    "        dfs = [plasma[imp0], serum[imp1]]\n",
    "    \n",
    "    elif k==22 or k==23:\n",
    "        k -= 20\n",
    "        name = [f'tsne{k}_plasma(Exploratory)', f'tsne{k}_serum(Exploratory)']\n",
    "        vars()[f'tsne{k}_plasma'] = tsne_analysis(plasma[imp0], k)\n",
    "        vars()[f'tsne{k}_plasma_df'] = make_dataframe(vars()[f'tsne{k}_plasma'], k)\n",
    "        \n",
    "        vars()[f'tsne{k}_serum'] = pca_analysis(serum[imp1], k)\n",
    "        vars()[f'tsne{k}_serum_df'] = make_dataframe(vars()[f'tsne{k}_serum'], k)\n",
    "        \n",
    "        dfs = [vars()[f'tsne{k}_plasma_df'], vars()[f'tsne{k}_serum_df']]\n",
    "    \n",
    "    else:\n",
    "        name = [f'pca{k}_plasma(Exploratory)', f'pca{k}_serum(Exploratory)']\n",
    "        vars()[f'pca{k}_plasma'] = pca_analysis(plasma[imp0], k)\n",
    "        vars()[f'pca{k}_plasma_df'] = make_dataframe(vars()[f'pca{k}_plasma'], k)\n",
    "        \n",
    "        vars()[f'pca{k}_serum'] = pca_analysis(serum[imp1], k)\n",
    "        vars()[f'pca{k}_serum_df'] = make_dataframe(vars()[f'pca{k}_serum'], k)\n",
    "        \n",
    "        dfs = [vars()[f'pca{k}_plasma_df'], vars()[f'pca{k}_serum_df']]\n",
    "    \n",
    "    random_state = 42\n",
    "\n",
    "    for idx, data in enumerate(dfs):\n",
    "        result = []\n",
    "        if data.columns[-1]=='Class':\n",
    "            X = data.drop('Class', axis=1)\n",
    "        else:\n",
    "            X = data\n",
    "        y = plasma['Class'].copy()\n",
    "        y = y.map({\"control\": 0, \"disease\": 1})\n",
    "        rs = ShuffleSplit(n_splits=1, test_size=.2, random_state=random_state)\n",
    "\n",
    "        for train_index, test_index in rs.split(X):\n",
    "            clf = LazyClassifier(verbose=0, ignore_warnings=True, custom_metric=matthews_corrcoef, predictions=True)\n",
    "            X_train, X_test = X.iloc[train_index], X.iloc[test_index]\n",
    "            y_train, y_test = y.iloc[train_index], y.iloc[test_index]\n",
    "\n",
    "            scaler = RobustScaler()\n",
    "\n",
    "            cols = X_train.columns\n",
    "            X_train = scaler.fit_transform(X_train)\n",
    "            X_test = scaler.transform(X_test)\n",
    "\n",
    "            X_train = pd.DataFrame(X_train, columns=[cols])\n",
    "            X_test = pd.DataFrame(X_test, columns=[cols])\n",
    "\n",
    "            models, predictions = clf.fit(X_train, X_test, y_train, y_test)\n",
    "            result.append(models)\n",
    "        #     print(result)\n",
    "\n",
    "        acc = []\n",
    "        for i in range(1):\n",
    "            for j in range(len(model_names)):\n",
    "                if result[i].index[j] == 'RandomForestClassifier':\n",
    "                    acc.append(result[i].loc['RandomForestClassifier']['Balanced Accuracy'])\n",
    "#                     print(result[i].index[j], result[i].iloc[j]['Balanced Accuracy'])\n",
    "\n",
    "        print(f'\\n{name[idx]}: {sum(acc)/len(acc)}')\n",
    "        accuracy.append([f'{name[idx]}', f'{sum(acc)/len(acc)}'])"
   ]
  },
  {
   "cell_type": "code",
   "execution_count": 23,
   "id": "associate-ethernet",
   "metadata": {},
   "outputs": [
    {
     "data": {
      "text/html": [
       "<div>\n",
       "<style scoped>\n",
       "    .dataframe tbody tr th:only-of-type {\n",
       "        vertical-align: middle;\n",
       "    }\n",
       "\n",
       "    .dataframe tbody tr th {\n",
       "        vertical-align: top;\n",
       "    }\n",
       "\n",
       "    .dataframe thead th {\n",
       "        text-align: right;\n",
       "    }\n",
       "</style>\n",
       "<table border=\"1\" class=\"dataframe\">\n",
       "  <thead>\n",
       "    <tr style=\"text-align: right;\">\n",
       "      <th></th>\n",
       "      <th>Processed Dataset</th>\n",
       "      <th>Accuracy</th>\n",
       "    </tr>\n",
       "  </thead>\n",
       "  <tbody>\n",
       "    <tr>\n",
       "      <th>0</th>\n",
       "      <td>Plasma(Raw)</td>\n",
       "      <td>0.8712121212121212</td>\n",
       "    </tr>\n",
       "    <tr>\n",
       "      <th>1</th>\n",
       "      <td>Serum(Raw)</td>\n",
       "      <td>0.9090909090909092</td>\n",
       "    </tr>\n",
       "    <tr>\n",
       "      <th>2</th>\n",
       "      <td>pca2_plasma(Exploratory)</td>\n",
       "      <td>0.7878787878787878</td>\n",
       "    </tr>\n",
       "    <tr>\n",
       "      <th>3</th>\n",
       "      <td>pca2_serum(Exploratory)</td>\n",
       "      <td>0.6515151515151515</td>\n",
       "    </tr>\n",
       "    <tr>\n",
       "      <th>4</th>\n",
       "      <td>pca3_plasma(Exploratory)</td>\n",
       "      <td>0.8257575757575758</td>\n",
       "    </tr>\n",
       "    <tr>\n",
       "      <th>5</th>\n",
       "      <td>pca3_serum(Exploratory)</td>\n",
       "      <td>0.7424242424242424</td>\n",
       "    </tr>\n",
       "    <tr>\n",
       "      <th>6</th>\n",
       "      <td>pca4_plasma(Exploratory)</td>\n",
       "      <td>0.8257575757575758</td>\n",
       "    </tr>\n",
       "    <tr>\n",
       "      <th>7</th>\n",
       "      <td>pca4_serum(Exploratory)</td>\n",
       "      <td>0.7424242424242424</td>\n",
       "    </tr>\n",
       "    <tr>\n",
       "      <th>8</th>\n",
       "      <td>pca5_plasma(Exploratory)</td>\n",
       "      <td>0.9090909090909092</td>\n",
       "    </tr>\n",
       "    <tr>\n",
       "      <th>9</th>\n",
       "      <td>pca5_serum(Exploratory)</td>\n",
       "      <td>0.7878787878787878</td>\n",
       "    </tr>\n",
       "    <tr>\n",
       "      <th>10</th>\n",
       "      <td>pca10_plasma(Exploratory)</td>\n",
       "      <td>0.8257575757575758</td>\n",
       "    </tr>\n",
       "    <tr>\n",
       "      <th>11</th>\n",
       "      <td>pca10_serum(Exploratory)</td>\n",
       "      <td>0.9090909090909092</td>\n",
       "    </tr>\n",
       "    <tr>\n",
       "      <th>12</th>\n",
       "      <td>pca15_plasma(Exploratory)</td>\n",
       "      <td>0.9090909090909092</td>\n",
       "    </tr>\n",
       "    <tr>\n",
       "      <th>13</th>\n",
       "      <td>pca15_serum(Exploratory)</td>\n",
       "      <td>0.9090909090909092</td>\n",
       "    </tr>\n",
       "    <tr>\n",
       "      <th>14</th>\n",
       "      <td>pca20_plasma(Exploratory)</td>\n",
       "      <td>0.9090909090909092</td>\n",
       "    </tr>\n",
       "    <tr>\n",
       "      <th>15</th>\n",
       "      <td>pca20_serum(Exploratory)</td>\n",
       "      <td>0.7424242424242424</td>\n",
       "    </tr>\n",
       "    <tr>\n",
       "      <th>16</th>\n",
       "      <td>tsne2_plasma(Exploratory)</td>\n",
       "      <td>0.9090909090909092</td>\n",
       "    </tr>\n",
       "    <tr>\n",
       "      <th>17</th>\n",
       "      <td>tsne2_serum(Exploratory)</td>\n",
       "      <td>0.6515151515151515</td>\n",
       "    </tr>\n",
       "    <tr>\n",
       "      <th>18</th>\n",
       "      <td>tsne3_plasma(Exploratory)</td>\n",
       "      <td>0.6439393939393939</td>\n",
       "    </tr>\n",
       "    <tr>\n",
       "      <th>19</th>\n",
       "      <td>tsne3_serum(Exploratory)</td>\n",
       "      <td>0.7424242424242424</td>\n",
       "    </tr>\n",
       "  </tbody>\n",
       "</table>\n",
       "</div>"
      ],
      "text/plain": [
       "            Processed Dataset            Accuracy\n",
       "0                 Plasma(Raw)  0.8712121212121212\n",
       "1                  Serum(Raw)  0.9090909090909092\n",
       "2    pca2_plasma(Exploratory)  0.7878787878787878\n",
       "3     pca2_serum(Exploratory)  0.6515151515151515\n",
       "4    pca3_plasma(Exploratory)  0.8257575757575758\n",
       "5     pca3_serum(Exploratory)  0.7424242424242424\n",
       "6    pca4_plasma(Exploratory)  0.8257575757575758\n",
       "7     pca4_serum(Exploratory)  0.7424242424242424\n",
       "8    pca5_plasma(Exploratory)  0.9090909090909092\n",
       "9     pca5_serum(Exploratory)  0.7878787878787878\n",
       "10  pca10_plasma(Exploratory)  0.8257575757575758\n",
       "11   pca10_serum(Exploratory)  0.9090909090909092\n",
       "12  pca15_plasma(Exploratory)  0.9090909090909092\n",
       "13   pca15_serum(Exploratory)  0.9090909090909092\n",
       "14  pca20_plasma(Exploratory)  0.9090909090909092\n",
       "15   pca20_serum(Exploratory)  0.7424242424242424\n",
       "16  tsne2_plasma(Exploratory)  0.9090909090909092\n",
       "17   tsne2_serum(Exploratory)  0.6515151515151515\n",
       "18  tsne3_plasma(Exploratory)  0.6439393939393939\n",
       "19   tsne3_serum(Exploratory)  0.7424242424242424"
      ]
     },
     "execution_count": 23,
     "metadata": {},
     "output_type": "execute_result"
    }
   ],
   "source": [
    "accuracy_df = pd.DataFrame(accuracy, columns=['Processed Dataset', 'Accuracy'])\n",
    "accuracy_df"
   ]
  },
  {
   "cell_type": "code",
   "execution_count": 24,
   "id": "liquid-deposit",
   "metadata": {},
   "outputs": [],
   "source": [
    "# accuracy_df.to_csv('G:/Research/SM Sir/LungCancer_Biomarker/final and best approach/accuracy_exploratory.csv', index=False)"
   ]
  },
  {
   "cell_type": "markdown",
   "id": "stunning-tunisia",
   "metadata": {},
   "source": [
    "<a id=\"7\"></a>\n",
    "\n",
    "<h1 style=\"background-color:#d8f8b7;font-family:newtimeroman;font-size:250%;text-align:center;border-radius: 15px 50px;\">Visualization\n",
    "</h1>"
   ]
  },
  {
   "cell_type": "code",
   "execution_count": 25,
   "id": "speaking-shopping",
   "metadata": {},
   "outputs": [
    {
     "data": {
      "image/png": "[encoded data removed]",
      "text/plain": [
       "<Figure size 720x720 with 5 Axes>"
      ]
     },
     "metadata": {
      "needs_background": "light"
     },
     "output_type": "display_data"
    }
   ],
   "source": [
    "# Data set\n",
    "final_df1 = plasma.copy()\n",
    "Class = plasma.pop(\"Class\")\n",
    "# final_df = final_df.set_index('Metabolics')\n",
    "\n",
    "lut = dict(zip(Class.unique(), \"grb\"))\n",
    "row_colors = Class.map(lut)\n",
    "df_colors = pd.DataFrame(data={'DISEASE': row_colors[row_colors == 'r'], 'CONTROL': row_colors[row_colors == 'g']}) \n",
    "# Default plot\n",
    "g = sns.clustermap(plasma[imp0], cmap='YlGnBu', row_colors=df_colors, z_score=1)      #z_score->standardize; standard_cale->normalize\n",
    "g.fig.subplots_adjust(right=0.9)\n",
    "g.ax_cbar.set_position((0.7, .2, .03, .4), 'horizontal')\n",
    "plt.setp(g.ax_heatmap.get_yticklabels(), rotation=0)\n",
    "# Show the graph\n",
    "# Show the graph\n",
    "plt.savefig('plotting/clustermap_exploratory_plasma2.JPG')\n",
    "plt.show()"
   ]
  },
  {
   "cell_type": "code",
   "execution_count": 30,
   "id": "abroad-communications",
   "metadata": {},
   "outputs": [
    {
     "ename": "TypeError",
     "evalue": "'list' object is not callable",
     "output_type": "error",
     "traceback": [
      "\u001b[1;31m---------------------------------------------------------------------------\u001b[0m",
      "\u001b[1;31mTypeError\u001b[0m                                 Traceback (most recent call last)",
      "\u001b[1;32m<ipython-input-30-25f1cf28e9c1>\u001b[0m in \u001b[0;36m<module>\u001b[1;34m()\u001b[0m\n\u001b[0;32m      4\u001b[0m \u001b[0my\u001b[0m \u001b[1;33m=\u001b[0m \u001b[0my\u001b[0m\u001b[1;33m.\u001b[0m\u001b[0mmap\u001b[0m\u001b[1;33m(\u001b[0m\u001b[1;33m{\u001b[0m\u001b[1;34m\"control\"\u001b[0m\u001b[1;33m:\u001b[0m \u001b[1;36m1\u001b[0m\u001b[1;33m,\u001b[0m \u001b[1;34m\"disease\"\u001b[0m\u001b[1;33m:\u001b[0m \u001b[1;36m0\u001b[0m\u001b[1;33m}\u001b[0m\u001b[1;33m)\u001b[0m\u001b[1;33m\u001b[0m\u001b[1;33m\u001b[0m\u001b[0m\n\u001b[0;32m      5\u001b[0m \u001b[1;33m\u001b[0m\u001b[0m\n\u001b[1;32m----> 6\u001b[1;33m \u001b[0mmodel\u001b[0m \u001b[1;33m=\u001b[0m \u001b[0mRandomForestClassifier\u001b[0m\u001b[1;33m(\u001b[0m\u001b[0mn_estimators\u001b[0m\u001b[1;33m=\u001b[0m\u001b[1;36m17\u001b[0m\u001b[1;33m)\u001b[0m\u001b[1;33m\u001b[0m\u001b[1;33m\u001b[0m\u001b[0m\n\u001b[0m\u001b[0;32m      7\u001b[0m \u001b[0mviz\u001b[0m \u001b[1;33m=\u001b[0m \u001b[0mFeatureImportances\u001b[0m\u001b[1;33m(\u001b[0m\u001b[0mmodel\u001b[0m\u001b[1;33m)\u001b[0m\u001b[1;33m\u001b[0m\u001b[1;33m\u001b[0m\u001b[0m\n\u001b[0;32m      8\u001b[0m \u001b[0mviz\u001b[0m\u001b[1;33m.\u001b[0m\u001b[0mfit\u001b[0m\u001b[1;33m(\u001b[0m\u001b[0mX\u001b[0m\u001b[1;33m,\u001b[0m \u001b[0my\u001b[0m\u001b[1;33m)\u001b[0m\u001b[1;33m\u001b[0m\u001b[1;33m\u001b[0m\u001b[0m\n",
      "\u001b[1;31mTypeError\u001b[0m: 'list' object is not callable"
     ]
    }
   ],
   "source": [
    "# Load the classification data set\n",
    "X = final_df1[imp0]\n",
    "y = final_df1['Class'].copy()\n",
    "y = y.map({\"control\": 1, \"disease\": 0})\n",
    "\n",
    "model = RandomForestClassifier(n_estimators=17)\n",
    "viz = FeatureImportances(model)\n",
    "viz.fit(X, y)\n",
    "viz.show()"
   ]
  },
  {
   "cell_type": "code",
   "execution_count": 27,
   "id": "worse-attempt",
   "metadata": {},
   "outputs": [
    {
     "data": {
      "image/png": "[encoded data removed]",
      "text/plain": [
       "<Figure size 720x720 with 5 Axes>"
      ]
     },
     "metadata": {
      "needs_background": "light"
     },
     "output_type": "display_data"
    }
   ],
   "source": [
    "# Data set\n",
    "final_df1 = serum.copy()\n",
    "Class = y\n",
    "# final_df = final_df.set_index('Metabolics')\n",
    "\n",
    "lut = dict(zip(Class.unique(), \"grb\"))\n",
    "row_colors = Class.map(lut)\n",
    "df_colors = pd.DataFrame(data={'DISEASE': row_colors[row_colors == 'r'], 'CONTROL': row_colors[row_colors == 'g']}) \n",
    "# Default plot\n",
    "g = sns.clustermap(serum[imp1], cmap='YlGnBu', row_colors=df_colors, z_score=1)      #z_score->standardize; standard_cale->normalize\n",
    "g.fig.subplots_adjust(right=0.9)\n",
    "g.ax_cbar.set_position((0.7, .2, .03, .4), 'horizontal')\n",
    "plt.setp(g.ax_heatmap.get_yticklabels(), rotation=0)\n",
    "# Show the graph\n",
    "# Show the graph\n",
    "plt.savefig('plotting/clustermap_exploratory_serum.JPG')\n",
    "plt.show()"
   ]
  },
  {
   "cell_type": "code",
   "execution_count": 31,
   "id": "verbal-utility",
   "metadata": {},
   "outputs": [
    {
     "ename": "TypeError",
     "evalue": "'list' object is not callable",
     "output_type": "error",
     "traceback": [
      "\u001b[1;31m---------------------------------------------------------------------------\u001b[0m",
      "\u001b[1;31mTypeError\u001b[0m                                 Traceback (most recent call last)",
      "\u001b[1;32m<ipython-input-31-ac6c97d5ce2e>\u001b[0m in \u001b[0;36m<module>\u001b[1;34m()\u001b[0m\n\u001b[0;32m      3\u001b[0m \u001b[1;31m# y = final_df1['Class'].copy()\u001b[0m\u001b[1;33m\u001b[0m\u001b[1;33m\u001b[0m\u001b[1;33m\u001b[0m\u001b[0m\n\u001b[0;32m      4\u001b[0m \u001b[0my\u001b[0m \u001b[1;33m=\u001b[0m \u001b[0mClass\u001b[0m\u001b[1;33m\u001b[0m\u001b[1;33m\u001b[0m\u001b[0m\n\u001b[1;32m----> 5\u001b[1;33m \u001b[0mmodel\u001b[0m \u001b[1;33m=\u001b[0m \u001b[0mRandomForestClassifier\u001b[0m\u001b[1;33m(\u001b[0m\u001b[0mn_estimators\u001b[0m\u001b[1;33m=\u001b[0m\u001b[1;36m17\u001b[0m\u001b[1;33m)\u001b[0m\u001b[1;33m\u001b[0m\u001b[1;33m\u001b[0m\u001b[0m\n\u001b[0m\u001b[0;32m      6\u001b[0m \u001b[0mviz\u001b[0m \u001b[1;33m=\u001b[0m \u001b[0mFeatureImportances\u001b[0m\u001b[1;33m(\u001b[0m\u001b[0mmodel\u001b[0m\u001b[1;33m)\u001b[0m\u001b[1;33m\u001b[0m\u001b[1;33m\u001b[0m\u001b[0m\n\u001b[0;32m      7\u001b[0m \u001b[0mviz\u001b[0m\u001b[1;33m.\u001b[0m\u001b[0mfit\u001b[0m\u001b[1;33m(\u001b[0m\u001b[0mX\u001b[0m\u001b[1;33m,\u001b[0m \u001b[0my\u001b[0m\u001b[1;33m)\u001b[0m\u001b[1;33m\u001b[0m\u001b[1;33m\u001b[0m\u001b[0m\n",
      "\u001b[1;31mTypeError\u001b[0m: 'list' object is not callable"
     ]
    }
   ],
   "source": [
    "# Load the classification data set\n",
    "X = final_df1[imp1]\n",
    "# y = final_df1['Class'].copy()\n",
    "y = Class\n",
    "model = RandomForestClassifier(n_estimators=17)\n",
    "viz = FeatureImportances(model)\n",
    "viz.fit(X, y)\n",
    "viz.show()"
   ]
  },
  {
   "cell_type": "code",
   "execution_count": null,
   "id": "willing-heather",
   "metadata": {},
   "outputs": [],
   "source": []
  }
 ],
 "metadata": {
  "kernelspec": {
   "display_name": "Python 3",
   "language": "python",
   "name": "python3"
  },
  "language_info": {
   "codemirror_mode": {
    "name": "ipython",
    "version": 3
   },
   "file_extension": ".py",
   "mimetype": "text/x-python",
   "name": "python",
   "nbconvert_exporter": "python",
   "pygments_lexer": "ipython3",
   "version": "3.7.9"
  }
 },
 "nbformat": 4,
 "nbformat_minor": 5
}
