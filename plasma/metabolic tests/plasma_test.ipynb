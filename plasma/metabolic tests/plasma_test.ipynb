{
 "cells": [
  {
   "cell_type": "markdown",
   "metadata": {
    "id": "h5DK5J8m_7J9"
   },
   "source": [
    "[Download DATASETS from here](https://drive.google.com/drive/folders/1cBv9fiBQE2PedVPvTu56tOMIOtJTjTj1?usp=sharing)"
   ]
  },
  {
   "cell_type": "code",
   "execution_count": 1,
   "metadata": {
    "colab": {
     "base_uri": "https://localhost:8080/",
     "height": 304
    },
    "id": "mbm_F-i_bhGw",
    "outputId": "7f0f7990-7481-414f-faa1-313036df1adf"
   },
   "outputs": [
    {
     "data": {
      "text/html": [
       "<div>\n",
       "<style scoped>\n",
       "    .dataframe tbody tr th:only-of-type {\n",
       "        vertical-align: middle;\n",
       "    }\n",
       "\n",
       "    .dataframe tbody tr th {\n",
       "        vertical-align: top;\n",
       "    }\n",
       "\n",
       "    .dataframe thead th {\n",
       "        text-align: right;\n",
       "    }\n",
       "</style>\n",
       "<table border=\"1\" class=\"dataframe\">\n",
       "  <thead>\n",
       "    <tr style=\"text-align: right;\">\n",
       "      <th></th>\n",
       "      <th>1_5-anhydroglucitol</th>\n",
       "      <th>1-monostearin</th>\n",
       "      <th>2_3-dihydroxybutanoic acid NIST</th>\n",
       "      <th>2_4-diaminobutyric acid</th>\n",
       "      <th>2-deoxyerythritol</th>\n",
       "      <th>2-deoxytetronic acid</th>\n",
       "      <th>2-hydroxybutanoic acid</th>\n",
       "      <th>2-hydroxyglutaric acid</th>\n",
       "      <th>2-hydroxyhippuric acid</th>\n",
       "      <th>2-hydroxyvaleric acid</th>\n",
       "      <th>...</th>\n",
       "      <th>tryptophan</th>\n",
       "      <th>tyrosine</th>\n",
       "      <th>UDP-glucuronic acid</th>\n",
       "      <th>urea</th>\n",
       "      <th>uric acid</th>\n",
       "      <th>uridine</th>\n",
       "      <th>valine</th>\n",
       "      <th>xylitol</th>\n",
       "      <th>xylose</th>\n",
       "      <th>Class</th>\n",
       "    </tr>\n",
       "  </thead>\n",
       "  <tbody>\n",
       "    <tr>\n",
       "      <th>0</th>\n",
       "      <td>9483</td>\n",
       "      <td>103</td>\n",
       "      <td>101</td>\n",
       "      <td>963</td>\n",
       "      <td>389</td>\n",
       "      <td>123</td>\n",
       "      <td>20744</td>\n",
       "      <td>139</td>\n",
       "      <td>36</td>\n",
       "      <td>955</td>\n",
       "      <td>...</td>\n",
       "      <td>27450</td>\n",
       "      <td>52403</td>\n",
       "      <td>73</td>\n",
       "      <td>255067</td>\n",
       "      <td>10057</td>\n",
       "      <td>63</td>\n",
       "      <td>157332</td>\n",
       "      <td>154</td>\n",
       "      <td>1380</td>\n",
       "      <td>disease</td>\n",
       "    </tr>\n",
       "    <tr>\n",
       "      <th>1</th>\n",
       "      <td>27468</td>\n",
       "      <td>207</td>\n",
       "      <td>155</td>\n",
       "      <td>335</td>\n",
       "      <td>227</td>\n",
       "      <td>178</td>\n",
       "      <td>8611</td>\n",
       "      <td>78</td>\n",
       "      <td>91</td>\n",
       "      <td>103</td>\n",
       "      <td>...</td>\n",
       "      <td>17898</td>\n",
       "      <td>37179</td>\n",
       "      <td>157</td>\n",
       "      <td>180080</td>\n",
       "      <td>8386</td>\n",
       "      <td>118</td>\n",
       "      <td>103083</td>\n",
       "      <td>324</td>\n",
       "      <td>929</td>\n",
       "      <td>disease</td>\n",
       "    </tr>\n",
       "    <tr>\n",
       "      <th>2</th>\n",
       "      <td>13976</td>\n",
       "      <td>86</td>\n",
       "      <td>78</td>\n",
       "      <td>176</td>\n",
       "      <td>152</td>\n",
       "      <td>83</td>\n",
       "      <td>22792</td>\n",
       "      <td>92</td>\n",
       "      <td>97</td>\n",
       "      <td>1010</td>\n",
       "      <td>...</td>\n",
       "      <td>29503</td>\n",
       "      <td>30670</td>\n",
       "      <td>211</td>\n",
       "      <td>138861</td>\n",
       "      <td>15822</td>\n",
       "      <td>119</td>\n",
       "      <td>92045</td>\n",
       "      <td>253</td>\n",
       "      <td>610</td>\n",
       "      <td>disease</td>\n",
       "    </tr>\n",
       "    <tr>\n",
       "      <th>3</th>\n",
       "      <td>19449</td>\n",
       "      <td>178</td>\n",
       "      <td>104</td>\n",
       "      <td>467</td>\n",
       "      <td>270</td>\n",
       "      <td>157</td>\n",
       "      <td>29418</td>\n",
       "      <td>123</td>\n",
       "      <td>92</td>\n",
       "      <td>289</td>\n",
       "      <td>...</td>\n",
       "      <td>16501</td>\n",
       "      <td>27573</td>\n",
       "      <td>71</td>\n",
       "      <td>183633</td>\n",
       "      <td>14024</td>\n",
       "      <td>102</td>\n",
       "      <td>97349</td>\n",
       "      <td>223</td>\n",
       "      <td>746</td>\n",
       "      <td>disease</td>\n",
       "    </tr>\n",
       "    <tr>\n",
       "      <th>4</th>\n",
       "      <td>17209</td>\n",
       "      <td>258</td>\n",
       "      <td>103</td>\n",
       "      <td>979</td>\n",
       "      <td>314</td>\n",
       "      <td>211</td>\n",
       "      <td>16713</td>\n",
       "      <td>76</td>\n",
       "      <td>42</td>\n",
       "      <td>1126</td>\n",
       "      <td>...</td>\n",
       "      <td>24023</td>\n",
       "      <td>30096</td>\n",
       "      <td>222</td>\n",
       "      <td>255081</td>\n",
       "      <td>23154</td>\n",
       "      <td>58</td>\n",
       "      <td>159671</td>\n",
       "      <td>189</td>\n",
       "      <td>2022</td>\n",
       "      <td>disease</td>\n",
       "    </tr>\n",
       "  </tbody>\n",
       "</table>\n",
       "<p>5 rows × 159 columns</p>\n",
       "</div>"
      ],
      "text/plain": [
       "   1_5-anhydroglucitol  1-monostearin  2_3-dihydroxybutanoic acid NIST  \\\n",
       "0                 9483            103                              101   \n",
       "1                27468            207                              155   \n",
       "2                13976             86                               78   \n",
       "3                19449            178                              104   \n",
       "4                17209            258                              103   \n",
       "\n",
       "   2_4-diaminobutyric acid  2-deoxyerythritol  2-deoxytetronic acid  \\\n",
       "0                      963                389                   123   \n",
       "1                      335                227                   178   \n",
       "2                      176                152                    83   \n",
       "3                      467                270                   157   \n",
       "4                      979                314                   211   \n",
       "\n",
       "   2-hydroxybutanoic acid  2-hydroxyglutaric acid  2-hydroxyhippuric acid  \\\n",
       "0                   20744                     139                      36   \n",
       "1                    8611                      78                      91   \n",
       "2                   22792                      92                      97   \n",
       "3                   29418                     123                      92   \n",
       "4                   16713                      76                      42   \n",
       "\n",
       "   2-hydroxyvaleric acid  ...  tryptophan  tyrosine  UDP-glucuronic acid  \\\n",
       "0                    955  ...       27450     52403                   73   \n",
       "1                    103  ...       17898     37179                  157   \n",
       "2                   1010  ...       29503     30670                  211   \n",
       "3                    289  ...       16501     27573                   71   \n",
       "4                   1126  ...       24023     30096                  222   \n",
       "\n",
       "     urea  uric acid  uridine  valine  xylitol  xylose    Class  \n",
       "0  255067      10057       63  157332      154    1380  disease  \n",
       "1  180080       8386      118  103083      324     929  disease  \n",
       "2  138861      15822      119   92045      253     610  disease  \n",
       "3  183633      14024      102   97349      223     746  disease  \n",
       "4  255081      23154       58  159671      189    2022  disease  \n",
       "\n",
       "[5 rows x 159 columns]"
      ]
     },
     "execution_count": 1,
     "metadata": {},
     "output_type": "execute_result"
    }
   ],
   "source": [
    "import pandas as pd\n",
    "%matplotlib inline\n",
    "import numpy as np\n",
    "import matplotlib.pyplot as plt\n",
    "df0 = pd.read_csv('G:\\Research\\SM Sir\\LungCancer_Biomarker\\dataset\\plasma_processed.csv')\n",
    "df0 = df0.drop('Unnamed: 0', axis=1)\n",
    "df0.head()"
   ]
  },
  {
   "cell_type": "code",
   "execution_count": 2,
   "metadata": {
    "id": "jmgP6AChQcGd"
   },
   "outputs": [],
   "source": [
    "labels = np.reshape(df0.Class.to_numpy(), (82,1))\n",
    "# labels"
   ]
  },
  {
   "cell_type": "markdown",
   "metadata": {
    "id": "bWNBij8TxxCw"
   },
   "source": [
    "# Preprocessing"
   ]
  },
  {
   "cell_type": "code",
   "execution_count": 3,
   "metadata": {
    "colab": {
     "base_uri": "https://localhost:8080/",
     "height": 473
    },
    "id": "BRJWRVtsarKu",
    "outputId": "2cb6addf-db15-4493-ffd9-0fed9fca99f4"
   },
   "outputs": [
    {
     "data": {
      "text/html": [
       "<div>\n",
       "<style scoped>\n",
       "    .dataframe tbody tr th:only-of-type {\n",
       "        vertical-align: middle;\n",
       "    }\n",
       "\n",
       "    .dataframe tbody tr th {\n",
       "        vertical-align: top;\n",
       "    }\n",
       "\n",
       "    .dataframe thead th {\n",
       "        text-align: right;\n",
       "    }\n",
       "</style>\n",
       "<table border=\"1\" class=\"dataframe\">\n",
       "  <thead>\n",
       "    <tr style=\"text-align: right;\">\n",
       "      <th></th>\n",
       "      <th>1_5-anhydroglucitol</th>\n",
       "      <th>1-monostearin</th>\n",
       "      <th>2_3-dihydroxybutanoic acid NIST</th>\n",
       "      <th>2_4-diaminobutyric acid</th>\n",
       "      <th>2-deoxyerythritol</th>\n",
       "      <th>2-deoxytetronic acid</th>\n",
       "      <th>2-hydroxybutanoic acid</th>\n",
       "      <th>2-hydroxyglutaric acid</th>\n",
       "      <th>2-hydroxyhippuric acid</th>\n",
       "      <th>2-hydroxyvaleric acid</th>\n",
       "      <th>...</th>\n",
       "      <th>tryptophan</th>\n",
       "      <th>tyrosine</th>\n",
       "      <th>UDP-glucuronic acid</th>\n",
       "      <th>urea</th>\n",
       "      <th>uric acid</th>\n",
       "      <th>uridine</th>\n",
       "      <th>valine</th>\n",
       "      <th>xylitol</th>\n",
       "      <th>xylose</th>\n",
       "      <th>Class</th>\n",
       "    </tr>\n",
       "  </thead>\n",
       "  <tbody>\n",
       "    <tr>\n",
       "      <th>0</th>\n",
       "      <td>-1.315982</td>\n",
       "      <td>-0.191139</td>\n",
       "      <td>-0.314134</td>\n",
       "      <td>0.900240</td>\n",
       "      <td>0.209300</td>\n",
       "      <td>-0.666017</td>\n",
       "      <td>0.727863</td>\n",
       "      <td>-0.138580</td>\n",
       "      <td>-0.400194</td>\n",
       "      <td>-0.055432</td>\n",
       "      <td>...</td>\n",
       "      <td>0.523924</td>\n",
       "      <td>1.937765</td>\n",
       "      <td>-0.418593</td>\n",
       "      <td>0.378001</td>\n",
       "      <td>-1.016102</td>\n",
       "      <td>-0.694224</td>\n",
       "      <td>1.877948</td>\n",
       "      <td>-0.534297</td>\n",
       "      <td>0.632746</td>\n",
       "      <td>disease</td>\n",
       "    </tr>\n",
       "    <tr>\n",
       "      <th>1</th>\n",
       "      <td>0.702901</td>\n",
       "      <td>-0.166243</td>\n",
       "      <td>1.106687</td>\n",
       "      <td>-0.833770</td>\n",
       "      <td>-0.534704</td>\n",
       "      <td>-0.188475</td>\n",
       "      <td>-0.953771</td>\n",
       "      <td>-0.224592</td>\n",
       "      <td>-0.167457</td>\n",
       "      <td>-1.295085</td>\n",
       "      <td>...</td>\n",
       "      <td>-0.898525</td>\n",
       "      <td>0.312181</td>\n",
       "      <td>-0.180562</td>\n",
       "      <td>-0.527748</td>\n",
       "      <td>-1.243045</td>\n",
       "      <td>0.992711</td>\n",
       "      <td>-0.343225</td>\n",
       "      <td>-0.079396</td>\n",
       "      <td>-0.254870</td>\n",
       "      <td>disease</td>\n",
       "    </tr>\n",
       "    <tr>\n",
       "      <th>2</th>\n",
       "      <td>-0.811626</td>\n",
       "      <td>-0.195209</td>\n",
       "      <td>-0.919298</td>\n",
       "      <td>-1.272795</td>\n",
       "      <td>-0.879151</td>\n",
       "      <td>-1.013320</td>\n",
       "      <td>1.011716</td>\n",
       "      <td>-0.204851</td>\n",
       "      <td>-0.142067</td>\n",
       "      <td>0.024593</td>\n",
       "      <td>...</td>\n",
       "      <td>0.829649</td>\n",
       "      <td>-0.382834</td>\n",
       "      <td>-0.027542</td>\n",
       "      <td>-1.025622</td>\n",
       "      <td>-0.233142</td>\n",
       "      <td>1.023383</td>\n",
       "      <td>-0.795165</td>\n",
       "      <td>-0.269384</td>\n",
       "      <td>-0.882696</td>\n",
       "      <td>disease</td>\n",
       "    </tr>\n",
       "    <tr>\n",
       "      <th>3</th>\n",
       "      <td>-0.197261</td>\n",
       "      <td>-0.173185</td>\n",
       "      <td>-0.235199</td>\n",
       "      <td>-0.469297</td>\n",
       "      <td>-0.337221</td>\n",
       "      <td>-0.370810</td>\n",
       "      <td>1.930079</td>\n",
       "      <td>-0.161140</td>\n",
       "      <td>-0.163225</td>\n",
       "      <td>-1.024456</td>\n",
       "      <td>...</td>\n",
       "      <td>-1.106561</td>\n",
       "      <td>-0.713525</td>\n",
       "      <td>-0.424260</td>\n",
       "      <td>-0.484832</td>\n",
       "      <td>-0.477333</td>\n",
       "      <td>0.501966</td>\n",
       "      <td>-0.577998</td>\n",
       "      <td>-0.349661</td>\n",
       "      <td>-0.615033</td>\n",
       "      <td>disease</td>\n",
       "    </tr>\n",
       "    <tr>\n",
       "      <th>4</th>\n",
       "      <td>-0.448710</td>\n",
       "      <td>-0.154034</td>\n",
       "      <td>-0.261511</td>\n",
       "      <td>0.944419</td>\n",
       "      <td>-0.135146</td>\n",
       "      <td>0.098050</td>\n",
       "      <td>0.169166</td>\n",
       "      <td>-0.227412</td>\n",
       "      <td>-0.374804</td>\n",
       "      <td>0.193372</td>\n",
       "      <td>...</td>\n",
       "      <td>0.013588</td>\n",
       "      <td>-0.444125</td>\n",
       "      <td>0.003629</td>\n",
       "      <td>0.378170</td>\n",
       "      <td>0.762636</td>\n",
       "      <td>-0.847582</td>\n",
       "      <td>1.973716</td>\n",
       "      <td>-0.440641</td>\n",
       "      <td>1.896271</td>\n",
       "      <td>disease</td>\n",
       "    </tr>\n",
       "    <tr>\n",
       "      <th>...</th>\n",
       "      <td>...</td>\n",
       "      <td>...</td>\n",
       "      <td>...</td>\n",
       "      <td>...</td>\n",
       "      <td>...</td>\n",
       "      <td>...</td>\n",
       "      <td>...</td>\n",
       "      <td>...</td>\n",
       "      <td>...</td>\n",
       "      <td>...</td>\n",
       "      <td>...</td>\n",
       "      <td>...</td>\n",
       "      <td>...</td>\n",
       "      <td>...</td>\n",
       "      <td>...</td>\n",
       "      <td>...</td>\n",
       "      <td>...</td>\n",
       "      <td>...</td>\n",
       "      <td>...</td>\n",
       "      <td>...</td>\n",
       "      <td>...</td>\n",
       "    </tr>\n",
       "    <tr>\n",
       "      <th>77</th>\n",
       "      <td>0.442585</td>\n",
       "      <td>-0.171749</td>\n",
       "      <td>1.080375</td>\n",
       "      <td>-0.532803</td>\n",
       "      <td>-0.925077</td>\n",
       "      <td>0.384575</td>\n",
       "      <td>0.725645</td>\n",
       "      <td>-0.262663</td>\n",
       "      <td>-0.010889</td>\n",
       "      <td>-1.174321</td>\n",
       "      <td>...</td>\n",
       "      <td>0.980799</td>\n",
       "      <td>0.230176</td>\n",
       "      <td>-0.302411</td>\n",
       "      <td>0.036487</td>\n",
       "      <td>0.046360</td>\n",
       "      <td>-0.878254</td>\n",
       "      <td>0.141430</td>\n",
       "      <td>-0.272060</td>\n",
       "      <td>-0.398542</td>\n",
       "      <td>control</td>\n",
       "    </tr>\n",
       "    <tr>\n",
       "      <th>78</th>\n",
       "      <td>0.333923</td>\n",
       "      <td>-0.181803</td>\n",
       "      <td>0.580457</td>\n",
       "      <td>0.411514</td>\n",
       "      <td>-0.539297</td>\n",
       "      <td>-0.466318</td>\n",
       "      <td>-0.665899</td>\n",
       "      <td>-0.244333</td>\n",
       "      <td>-0.302867</td>\n",
       "      <td>-1.328550</td>\n",
       "      <td>...</td>\n",
       "      <td>-0.029896</td>\n",
       "      <td>-0.827457</td>\n",
       "      <td>-0.313746</td>\n",
       "      <td>1.706386</td>\n",
       "      <td>1.559041</td>\n",
       "      <td>-0.755568</td>\n",
       "      <td>0.646188</td>\n",
       "      <td>0.014261</td>\n",
       "      <td>-0.109230</td>\n",
       "      <td>control</td>\n",
       "    </tr>\n",
       "    <tr>\n",
       "      <th>79</th>\n",
       "      <td>0.296543</td>\n",
       "      <td>-0.187548</td>\n",
       "      <td>-1.261347</td>\n",
       "      <td>-1.394286</td>\n",
       "      <td>0.039373</td>\n",
       "      <td>0.818703</td>\n",
       "      <td>-0.750583</td>\n",
       "      <td>-0.275354</td>\n",
       "      <td>-0.315562</td>\n",
       "      <td>-0.183471</td>\n",
       "      <td>...</td>\n",
       "      <td>0.944910</td>\n",
       "      <td>0.161091</td>\n",
       "      <td>-0.177728</td>\n",
       "      <td>1.258252</td>\n",
       "      <td>0.298428</td>\n",
       "      <td>-0.295494</td>\n",
       "      <td>-1.364001</td>\n",
       "      <td>0.265794</td>\n",
       "      <td>0.433967</td>\n",
       "      <td>control</td>\n",
       "    </tr>\n",
       "    <tr>\n",
       "      <th>80</th>\n",
       "      <td>-0.825994</td>\n",
       "      <td>-0.192575</td>\n",
       "      <td>-1.261347</td>\n",
       "      <td>0.673825</td>\n",
       "      <td>0.461894</td>\n",
       "      <td>-0.674700</td>\n",
       "      <td>-0.086412</td>\n",
       "      <td>-0.228822</td>\n",
       "      <td>0.306480</td>\n",
       "      <td>0.161362</td>\n",
       "      <td>...</td>\n",
       "      <td>-1.340508</td>\n",
       "      <td>-1.637365</td>\n",
       "      <td>5.540680</td>\n",
       "      <td>1.202207</td>\n",
       "      <td>-0.008101</td>\n",
       "      <td>0.685996</td>\n",
       "      <td>-0.599248</td>\n",
       "      <td>2.933659</td>\n",
       "      <td>-0.026569</td>\n",
       "      <td>control</td>\n",
       "    </tr>\n",
       "    <tr>\n",
       "      <th>81</th>\n",
       "      <td>-0.172565</td>\n",
       "      <td>-0.171030</td>\n",
       "      <td>1.685540</td>\n",
       "      <td>-0.516236</td>\n",
       "      <td>-0.814854</td>\n",
       "      <td>-0.249253</td>\n",
       "      <td>-0.142545</td>\n",
       "      <td>-0.302144</td>\n",
       "      <td>0.539217</td>\n",
       "      <td>-0.013237</td>\n",
       "      <td>...</td>\n",
       "      <td>-0.901056</td>\n",
       "      <td>-0.620628</td>\n",
       "      <td>-0.463932</td>\n",
       "      <td>-0.407552</td>\n",
       "      <td>2.021212</td>\n",
       "      <td>-0.203480</td>\n",
       "      <td>0.448019</td>\n",
       "      <td>-0.344309</td>\n",
       "      <td>3.004314</td>\n",
       "      <td>control</td>\n",
       "    </tr>\n",
       "  </tbody>\n",
       "</table>\n",
       "<p>82 rows × 159 columns</p>\n",
       "</div>"
      ],
      "text/plain": [
       "    1_5-anhydroglucitol  1-monostearin  2_3-dihydroxybutanoic acid NIST  \\\n",
       "0             -1.315982      -0.191139                        -0.314134   \n",
       "1              0.702901      -0.166243                         1.106687   \n",
       "2             -0.811626      -0.195209                        -0.919298   \n",
       "3             -0.197261      -0.173185                        -0.235199   \n",
       "4             -0.448710      -0.154034                        -0.261511   \n",
       "..                  ...            ...                              ...   \n",
       "77             0.442585      -0.171749                         1.080375   \n",
       "78             0.333923      -0.181803                         0.580457   \n",
       "79             0.296543      -0.187548                        -1.261347   \n",
       "80            -0.825994      -0.192575                        -1.261347   \n",
       "81            -0.172565      -0.171030                         1.685540   \n",
       "\n",
       "    2_4-diaminobutyric acid  2-deoxyerythritol  2-deoxytetronic acid  \\\n",
       "0                  0.900240           0.209300             -0.666017   \n",
       "1                 -0.833770          -0.534704             -0.188475   \n",
       "2                 -1.272795          -0.879151             -1.013320   \n",
       "3                 -0.469297          -0.337221             -0.370810   \n",
       "4                  0.944419          -0.135146              0.098050   \n",
       "..                      ...                ...                   ...   \n",
       "77                -0.532803          -0.925077              0.384575   \n",
       "78                 0.411514          -0.539297             -0.466318   \n",
       "79                -1.394286           0.039373              0.818703   \n",
       "80                 0.673825           0.461894             -0.674700   \n",
       "81                -0.516236          -0.814854             -0.249253   \n",
       "\n",
       "    2-hydroxybutanoic acid  2-hydroxyglutaric acid  2-hydroxyhippuric acid  \\\n",
       "0                 0.727863               -0.138580               -0.400194   \n",
       "1                -0.953771               -0.224592               -0.167457   \n",
       "2                 1.011716               -0.204851               -0.142067   \n",
       "3                 1.930079               -0.161140               -0.163225   \n",
       "4                 0.169166               -0.227412               -0.374804   \n",
       "..                     ...                     ...                     ...   \n",
       "77                0.725645               -0.262663               -0.010889   \n",
       "78               -0.665899               -0.244333               -0.302867   \n",
       "79               -0.750583               -0.275354               -0.315562   \n",
       "80               -0.086412               -0.228822                0.306480   \n",
       "81               -0.142545               -0.302144                0.539217   \n",
       "\n",
       "    2-hydroxyvaleric acid  ...  tryptophan  tyrosine  UDP-glucuronic acid  \\\n",
       "0               -0.055432  ...    0.523924  1.937765            -0.418593   \n",
       "1               -1.295085  ...   -0.898525  0.312181            -0.180562   \n",
       "2                0.024593  ...    0.829649 -0.382834            -0.027542   \n",
       "3               -1.024456  ...   -1.106561 -0.713525            -0.424260   \n",
       "4                0.193372  ...    0.013588 -0.444125             0.003629   \n",
       "..                    ...  ...         ...       ...                  ...   \n",
       "77              -1.174321  ...    0.980799  0.230176            -0.302411   \n",
       "78              -1.328550  ...   -0.029896 -0.827457            -0.313746   \n",
       "79              -0.183471  ...    0.944910  0.161091            -0.177728   \n",
       "80               0.161362  ...   -1.340508 -1.637365             5.540680   \n",
       "81              -0.013237  ...   -0.901056 -0.620628            -0.463932   \n",
       "\n",
       "        urea  uric acid   uridine    valine   xylitol    xylose    Class  \n",
       "0   0.378001  -1.016102 -0.694224  1.877948 -0.534297  0.632746  disease  \n",
       "1  -0.527748  -1.243045  0.992711 -0.343225 -0.079396 -0.254870  disease  \n",
       "2  -1.025622  -0.233142  1.023383 -0.795165 -0.269384 -0.882696  disease  \n",
       "3  -0.484832  -0.477333  0.501966 -0.577998 -0.349661 -0.615033  disease  \n",
       "4   0.378170   0.762636 -0.847582  1.973716 -0.440641  1.896271  disease  \n",
       "..       ...        ...       ...       ...       ...       ...      ...  \n",
       "77  0.036487   0.046360 -0.878254  0.141430 -0.272060 -0.398542  control  \n",
       "78  1.706386   1.559041 -0.755568  0.646188  0.014261 -0.109230  control  \n",
       "79  1.258252   0.298428 -0.295494 -1.364001  0.265794  0.433967  control  \n",
       "80  1.202207  -0.008101  0.685996 -0.599248  2.933659 -0.026569  control  \n",
       "81 -0.407552   2.021212 -0.203480  0.448019 -0.344309  3.004314  control  \n",
       "\n",
       "[82 rows x 159 columns]"
      ]
     },
     "execution_count": 3,
     "metadata": {},
     "output_type": "execute_result"
    }
   ],
   "source": [
    "from sklearn.preprocessing import StandardScaler, Normalizer, MinMaxScaler\n",
    "\n",
    "scl = StandardScaler().fit(df0.iloc[:, :-1])\n",
    "stand = scl.transform(df0.iloc[:, :-1])\n",
    "# stand\n",
    "df = pd.DataFrame(stand, columns = df0.columns[:-1])\n",
    "df = pd.concat([df, df0.iloc[:, -1]], axis=1)\n",
    "df"
   ]
  },
  {
   "cell_type": "markdown",
   "metadata": {
    "id": "hHIN4cpOUseh"
   },
   "source": [
    "# Student's   t-Test"
   ]
  },
  {
   "cell_type": "code",
   "execution_count": 4,
   "metadata": {
    "id": "FYjW50hq1Z4e"
   },
   "outputs": [],
   "source": [
    "disease = df[(df['Class']=='disease')]\n",
    "control = df[(df['Class']=='control')]"
   ]
  },
  {
   "cell_type": "code",
   "execution_count": 5,
   "metadata": {
    "id": "FRu2DS5b-lwt"
   },
   "outputs": [],
   "source": [
    "from scipy import stats"
   ]
  },
  {
   "cell_type": "markdown",
   "metadata": {
    "id": "OaLpen8bIDx4"
   },
   "source": [
    "Before the t-test can be conducted, one needs to test the assumptions. First to test for the homogeneity of variances. To do this, I will use Levene’s test for homogeneity of variance. "
   ]
  },
  {
   "cell_type": "code",
   "execution_count": 6,
   "metadata": {
    "colab": {
     "base_uri": "https://localhost:8080/"
    },
    "id": "T5JMMOKPHfXr",
    "outputId": "dd038e3f-1733-4579-efd8-7435bb4cd6b9"
   },
   "outputs": [
    {
     "data": {
      "text/plain": [
       "LeveneResult(statistic=0.9232842255878864, pvalue=0.33950937635055467)"
      ]
     },
     "execution_count": 6,
     "metadata": {},
     "output_type": "execute_result"
    }
   ],
   "source": [
    "stats.levene(disease['1_5-anhydroglucitol'], control['1_5-anhydroglucitol'])"
   ]
  },
  {
   "cell_type": "markdown",
   "metadata": {
    "id": "U_LhRbcjIFYI"
   },
   "source": [
    "The test is not significant meaning there is homogeneity of variances and we can proceed. If the test were to be significant, a viable alternative would be to conduct a Welch’s t-test. Next to test the assumption of normality. This can be done visually with a histogram and/or as a q-q plot, and by using the Shapiro-Wilk test which is the stats.shaprio() method. First, I will check them visually."
   ]
  },
  {
   "cell_type": "code",
   "execution_count": 7,
   "metadata": {
    "colab": {
     "base_uri": "https://localhost:8080/",
     "height": 295
    },
    "id": "Rm3yBbSgHt3U",
    "outputId": "a02cf309-e642-4d86-c486-3ec9b7bfadd7"
   },
   "outputs": [
    {
     "data": {
      "image/png": "[encoded data removed]",
      "text/plain": [
       "<Figure size 432x288 with 1 Axes>"
      ]
     },
     "metadata": {
      "needs_background": "light"
     },
     "output_type": "display_data"
    }
   ],
   "source": [
    "disease['1_5-anhydroglucitol'].plot(kind=\"hist\", title=\"Disease 1_5-anhydroglucitol\", color='red')\n",
    "plt.xlabel(\"Units\")\n",
    "plt.savefig('disease_1_5-anhydroglucitol')"
   ]
  },
  {
   "cell_type": "code",
   "execution_count": 8,
   "metadata": {
    "colab": {
     "base_uri": "https://localhost:8080/",
     "height": 295
    },
    "id": "hGqs1W3kIjRT",
    "outputId": "2aa9fd0e-cba5-4a27-df6d-9f5867f8bee4"
   },
   "outputs": [
    {
     "data": {
      "image/png": "[encoded data removed]",
      "text/plain": [
       "<Figure size 432x288 with 1 Axes>"
      ]
     },
     "metadata": {
      "needs_background": "light"
     },
     "output_type": "display_data"
    }
   ],
   "source": [
    "control['1_5-anhydroglucitol'].plot(kind='hist', title='Control 1_5-anhydroglucitol', color='green')\n",
    "plt.xlabel(\"Units\")\n",
    "plt.savefig('control_1_5-anhydroglucitol')"
   ]
  },
  {
   "cell_type": "markdown",
   "metadata": {
    "id": "_2XGu_JNJIpj"
   },
   "source": [
    "From the looks of the histogram, each variable appears to be fairly normally distributed. Let’s see how it looks on a q-q plot, it’s easier to get a sense of normality visualizing the data as q-q plot. If you are unfamiliar with reading a q-q plot, the data should be on the red line. If there are data points that are far off of it, it’s an indication that there are some deviations from normality."
   ]
  },
  {
   "cell_type": "code",
   "execution_count": 9,
   "metadata": {
    "colab": {
     "base_uri": "https://localhost:8080/",
     "height": 295
    },
    "id": "UJMSrQHCJIaZ",
    "outputId": "c26dc50a-5b16-437a-ebec-8eb1c8e8b59b"
   },
   "outputs": [
    {
     "data": {
      "image/png": "[encoded data removed]",
      "text/plain": [
       "<Figure size 432x288 with 1 Axes>"
      ]
     },
     "metadata": {
      "needs_background": "light"
     },
     "output_type": "display_data"
    }
   ],
   "source": [
    "stats.probplot(disease['1_5-anhydroglucitol'], dist='norm', plot=plt)\n",
    "plt.title('Disease 1_5-anhydroglucitol Q_Q Plot')\n",
    "plt.savefig('disease_1_5-anhydroglucitol_qqplot')"
   ]
  },
  {
   "cell_type": "code",
   "execution_count": 10,
   "metadata": {
    "colab": {
     "base_uri": "https://localhost:8080/",
     "height": 295
    },
    "id": "Ys4Lxz4TI7Br",
    "outputId": "51011c2a-a193-4d62-b2cc-ea9b6e64ab9e"
   },
   "outputs": [
    {
     "data": {
      "image/png": "[encoded data removed]",
      "text/plain": [
       "<Figure size 432x288 with 1 Axes>"
      ]
     },
     "metadata": {
      "needs_background": "light"
     },
     "output_type": "display_data"
    }
   ],
   "source": [
    "stats.probplot(control['1_5-anhydroglucitol'], dist='norm', plot=plt)\n",
    "plt.title('Control 1_5-anhydroglucitol Q_Q Plot')\n",
    "plt.savefig('control_1_5-anhydroglucitol_qqplot')"
   ]
  },
  {
   "cell_type": "markdown",
   "metadata": {
    "id": "0jAzG_lEJ3Br"
   },
   "source": [
    "There is some deviation from normality in the Control q-q plot, but it does not appear to be a large violation. In all, the data looks to have normality. To be sure, we can test it statistically using the Shapiro-Wilk test for normality. The first value is the W test statistic and the second value is the p-value."
   ]
  },
  {
   "cell_type": "code",
   "execution_count": 11,
   "metadata": {
    "colab": {
     "base_uri": "https://localhost:8080/"
    },
    "id": "I0POY3SNJn0C",
    "outputId": "e3270cad-37d5-4ebc-a98d-8eda164d2056"
   },
   "outputs": [
    {
     "data": {
      "text/plain": [
       "ShapiroResult(statistic=0.9895635843276978, pvalue=0.9660769701004028)"
      ]
     },
     "execution_count": 11,
     "metadata": {},
     "output_type": "execute_result"
    }
   ],
   "source": [
    "stats.shapiro(disease['1_5-anhydroglucitol'])"
   ]
  },
  {
   "cell_type": "code",
   "execution_count": 12,
   "metadata": {
    "colab": {
     "base_uri": "https://localhost:8080/"
    },
    "id": "1MMJrtN7KFHy",
    "outputId": "7f9cb9c6-bbc2-4daa-835c-9aba5d792f7f"
   },
   "outputs": [
    {
     "data": {
      "text/plain": [
       "ShapiroResult(statistic=0.9127679467201233, pvalue=0.0040376451797783375)"
      ]
     },
     "execution_count": 12,
     "metadata": {},
     "output_type": "execute_result"
    }
   ],
   "source": [
    "stats.shapiro(control['1_5-anhydroglucitol'])"
   ]
  },
  {
   "cell_type": "markdown",
   "metadata": {
    "id": "p62lC72IKbLb"
   },
   "source": [
    "Neither of the tests for normality we significant meaning neither of the variables violates the assumption of normality. We can continue as planned(Independent t-test)."
   ]
  },
  {
   "cell_type": "code",
   "execution_count": 13,
   "metadata": {
    "colab": {
     "base_uri": "https://localhost:8080/"
    },
    "id": "pDPiObFVKKIh",
    "outputId": "da1ee6a1-c689-4be9-ecd1-cdb92d0d54b1"
   },
   "outputs": [
    {
     "data": {
      "text/plain": [
       "Ttest_indResult(statistic=-0.46223621312996305, pvalue=0.6451666190665317)"
      ]
     },
     "execution_count": 13,
     "metadata": {},
     "output_type": "execute_result"
    }
   ],
   "source": [
    "stats.ttest_ind(disease['1_5-anhydroglucitol'], control['1_5-anhydroglucitol'])"
   ]
  },
  {
   "cell_type": "code",
   "execution_count": 14,
   "metadata": {
    "id": "m9lFPpZtKo8D"
   },
   "outputs": [],
   "source": [
    "def test(feature):\n",
    "    l_test = stats.levene(disease[feature], control[feature])\n",
    "    disease_shapiro = stats.shapiro(disease[feature])\n",
    "    control_shapiro = stats.shapiro(control[feature])\n",
    "    t_test, t_test_p = stats.ttest_ind(disease[feature], control[feature])\n",
    "    k_test, k_test_p = stats.kruskal(disease[feature], control[feature])\n",
    "    return feature, l_test, disease_shapiro, control_shapiro, t_test, t_test_p, k_test, k_test_p"
   ]
  },
  {
   "cell_type": "code",
   "execution_count": 15,
   "metadata": {
    "colab": {
     "base_uri": "https://localhost:8080/",
     "height": 35
    },
    "id": "VNcxHf9VMlks",
    "outputId": "b2fa2221-eb63-4079-87a0-9faff641d33c"
   },
   "outputs": [
    {
     "data": {
      "text/plain": [
       "'1_5-anhydroglucitol'"
      ]
     },
     "execution_count": 15,
     "metadata": {},
     "output_type": "execute_result"
    }
   ],
   "source": [
    "df.columns[0]"
   ]
  },
  {
   "cell_type": "code",
   "execution_count": 16,
   "metadata": {
    "id": "n6ej7JUkMYtB"
   },
   "outputs": [],
   "source": [
    "result = []\n",
    "for i in range(1, 158):\n",
    "    result.append(test(df.columns[i]))"
   ]
  },
  {
   "cell_type": "code",
   "execution_count": 17,
   "metadata": {
    "colab": {
     "base_uri": "https://localhost:8080/",
     "height": 606
    },
    "id": "qSLaqVsZOCsn",
    "outputId": "d8609baa-6b8b-466d-c56e-5ff785d31a82"
   },
   "outputs": [
    {
     "data": {
      "text/html": [
       "<div>\n",
       "<style scoped>\n",
       "    .dataframe tbody tr th:only-of-type {\n",
       "        vertical-align: middle;\n",
       "    }\n",
       "\n",
       "    .dataframe tbody tr th {\n",
       "        vertical-align: top;\n",
       "    }\n",
       "\n",
       "    .dataframe thead th {\n",
       "        text-align: right;\n",
       "    }\n",
       "</style>\n",
       "<table border=\"1\" class=\"dataframe\">\n",
       "  <thead>\n",
       "    <tr style=\"text-align: right;\">\n",
       "      <th></th>\n",
       "      <th>Metabolics</th>\n",
       "      <th>Levene test</th>\n",
       "      <th>Disease</th>\n",
       "      <th>Control</th>\n",
       "      <th>t-Test</th>\n",
       "      <th>p-value(t)</th>\n",
       "      <th>Kruskal-Wallis</th>\n",
       "      <th>p-value(k)</th>\n",
       "    </tr>\n",
       "  </thead>\n",
       "  <tbody>\n",
       "    <tr>\n",
       "      <th>0</th>\n",
       "      <td>1-monostearin</td>\n",
       "      <td>(2.614251637045106, 0.10984420325840032)</td>\n",
       "      <td>(0.287780225276947, 7.504350331248577e-13)</td>\n",
       "      <td>(0.9605392813682556, 0.1642741858959198)</td>\n",
       "      <td>1.607087</td>\n",
       "      <td>0.111975</td>\n",
       "      <td>0.246231</td>\n",
       "      <td>0.619742</td>\n",
       "    </tr>\n",
       "    <tr>\n",
       "      <th>1</th>\n",
       "      <td>2_3-dihydroxybutanoic acid NIST</td>\n",
       "      <td>(0.006478335067887287, 0.9360500705169275)</td>\n",
       "      <td>(0.937421977519989, 0.02565603516995907)</td>\n",
       "      <td>(0.9520213007926941, 0.08242102712392807)</td>\n",
       "      <td>0.687948</td>\n",
       "      <td>0.493476</td>\n",
       "      <td>0.182043</td>\n",
       "      <td>0.669623</td>\n",
       "    </tr>\n",
       "    <tr>\n",
       "      <th>2</th>\n",
       "      <td>2_4-diaminobutyric acid</td>\n",
       "      <td>(0.09694042032074676, 0.7563425132995316)</td>\n",
       "      <td>(0.9051264524459839, 0.002357517834752798)</td>\n",
       "      <td>(0.9194269776344299, 0.006540666334331036)</td>\n",
       "      <td>0.683553</td>\n",
       "      <td>0.496233</td>\n",
       "      <td>0.458353</td>\n",
       "      <td>0.498395</td>\n",
       "    </tr>\n",
       "    <tr>\n",
       "      <th>3</th>\n",
       "      <td>2-deoxyerythritol</td>\n",
       "      <td>(0.9084069671879833, 0.343408402153335)</td>\n",
       "      <td>(0.8347311615943909, 3.2259136787615716e-05)</td>\n",
       "      <td>(0.9222153425216675, 0.008035030215978622)</td>\n",
       "      <td>0.540504</td>\n",
       "      <td>0.590351</td>\n",
       "      <td>0.005505</td>\n",
       "      <td>0.940855</td>\n",
       "    </tr>\n",
       "    <tr>\n",
       "      <th>4</th>\n",
       "      <td>2-deoxytetronic acid</td>\n",
       "      <td>(3.5970312354382075, 0.06149239892748534)</td>\n",
       "      <td>(0.8763459920883179, 0.00035684084286913276)</td>\n",
       "      <td>(0.8303760886192322, 2.5558121706126258e-05)</td>\n",
       "      <td>1.808795</td>\n",
       "      <td>0.074240</td>\n",
       "      <td>1.734516</td>\n",
       "      <td>0.187835</td>\n",
       "    </tr>\n",
       "    <tr>\n",
       "      <th>...</th>\n",
       "      <td>...</td>\n",
       "      <td>...</td>\n",
       "      <td>...</td>\n",
       "      <td>...</td>\n",
       "      <td>...</td>\n",
       "      <td>...</td>\n",
       "      <td>...</td>\n",
       "      <td>...</td>\n",
       "    </tr>\n",
       "    <tr>\n",
       "      <th>152</th>\n",
       "      <td>uric acid</td>\n",
       "      <td>(0.13186210687409833, 0.7174668378397271)</td>\n",
       "      <td>(0.9512421488761902, 0.0773795023560524)</td>\n",
       "      <td>(0.9740688800811768, 0.4632870554924011)</td>\n",
       "      <td>-2.925388</td>\n",
       "      <td>0.004475</td>\n",
       "      <td>8.345484</td>\n",
       "      <td>0.003866</td>\n",
       "    </tr>\n",
       "    <tr>\n",
       "      <th>153</th>\n",
       "      <td>uridine</td>\n",
       "      <td>(0.03291118965337513, 0.8565011579184116)</td>\n",
       "      <td>(0.9404267072677612, 0.03250748664140701)</td>\n",
       "      <td>(0.9610065221786499, 0.170563742518425)</td>\n",
       "      <td>-0.013382</td>\n",
       "      <td>0.989356</td>\n",
       "      <td>0.001377</td>\n",
       "      <td>0.970404</td>\n",
       "    </tr>\n",
       "    <tr>\n",
       "      <th>154</th>\n",
       "      <td>valine</td>\n",
       "      <td>(0.35458054850656984, 0.5532124135196688)</td>\n",
       "      <td>(0.9560146331787109, 0.11394292861223221)</td>\n",
       "      <td>(0.9369757175445557, 0.024774545803666115)</td>\n",
       "      <td>-0.845800</td>\n",
       "      <td>0.400187</td>\n",
       "      <td>1.167313</td>\n",
       "      <td>0.279954</td>\n",
       "    </tr>\n",
       "    <tr>\n",
       "      <th>155</th>\n",
       "      <td>xylitol</td>\n",
       "      <td>(0.3129396598445397, 0.57744470642991)</td>\n",
       "      <td>(0.5075222253799438, 1.5187914814696057e-10)</td>\n",
       "      <td>(0.5687038898468018, 8.869149303869506e-10)</td>\n",
       "      <td>-0.609977</td>\n",
       "      <td>0.543606</td>\n",
       "      <td>0.210767</td>\n",
       "      <td>0.646167</td>\n",
       "    </tr>\n",
       "    <tr>\n",
       "      <th>156</th>\n",
       "      <td>xylose</td>\n",
       "      <td>(0.22970631882014128, 0.6330492413439455)</td>\n",
       "      <td>(0.8933437466621399, 0.0010609792079776525)</td>\n",
       "      <td>(0.7787420749664307, 2.008117917284835e-06)</td>\n",
       "      <td>0.424889</td>\n",
       "      <td>0.672058</td>\n",
       "      <td>0.421473</td>\n",
       "      <td>0.516203</td>\n",
       "    </tr>\n",
       "  </tbody>\n",
       "</table>\n",
       "<p>157 rows × 8 columns</p>\n",
       "</div>"
      ],
      "text/plain": [
       "                          Metabolics  \\\n",
       "0                      1-monostearin   \n",
       "1    2_3-dihydroxybutanoic acid NIST   \n",
       "2            2_4-diaminobutyric acid   \n",
       "3                  2-deoxyerythritol   \n",
       "4               2-deoxytetronic acid   \n",
       "..                               ...   \n",
       "152                        uric acid   \n",
       "153                          uridine   \n",
       "154                           valine   \n",
       "155                          xylitol   \n",
       "156                           xylose   \n",
       "\n",
       "                                    Levene test  \\\n",
       "0      (2.614251637045106, 0.10984420325840032)   \n",
       "1    (0.006478335067887287, 0.9360500705169275)   \n",
       "2     (0.09694042032074676, 0.7563425132995316)   \n",
       "3       (0.9084069671879833, 0.343408402153335)   \n",
       "4     (3.5970312354382075, 0.06149239892748534)   \n",
       "..                                          ...   \n",
       "152   (0.13186210687409833, 0.7174668378397271)   \n",
       "153   (0.03291118965337513, 0.8565011579184116)   \n",
       "154   (0.35458054850656984, 0.5532124135196688)   \n",
       "155      (0.3129396598445397, 0.57744470642991)   \n",
       "156   (0.22970631882014128, 0.6330492413439455)   \n",
       "\n",
       "                                          Disease  \\\n",
       "0      (0.287780225276947, 7.504350331248577e-13)   \n",
       "1        (0.937421977519989, 0.02565603516995907)   \n",
       "2      (0.9051264524459839, 0.002357517834752798)   \n",
       "3    (0.8347311615943909, 3.2259136787615716e-05)   \n",
       "4    (0.8763459920883179, 0.00035684084286913276)   \n",
       "..                                            ...   \n",
       "152      (0.9512421488761902, 0.0773795023560524)   \n",
       "153     (0.9404267072677612, 0.03250748664140701)   \n",
       "154     (0.9560146331787109, 0.11394292861223221)   \n",
       "155  (0.5075222253799438, 1.5187914814696057e-10)   \n",
       "156   (0.8933437466621399, 0.0010609792079776525)   \n",
       "\n",
       "                                          Control    t-Test  p-value(t)  \\\n",
       "0        (0.9605392813682556, 0.1642741858959198)  1.607087    0.111975   \n",
       "1       (0.9520213007926941, 0.08242102712392807)  0.687948    0.493476   \n",
       "2      (0.9194269776344299, 0.006540666334331036)  0.683553    0.496233   \n",
       "3      (0.9222153425216675, 0.008035030215978622)  0.540504    0.590351   \n",
       "4    (0.8303760886192322, 2.5558121706126258e-05)  1.808795    0.074240   \n",
       "..                                            ...       ...         ...   \n",
       "152      (0.9740688800811768, 0.4632870554924011) -2.925388    0.004475   \n",
       "153       (0.9610065221786499, 0.170563742518425) -0.013382    0.989356   \n",
       "154    (0.9369757175445557, 0.024774545803666115) -0.845800    0.400187   \n",
       "155   (0.5687038898468018, 8.869149303869506e-10) -0.609977    0.543606   \n",
       "156   (0.7787420749664307, 2.008117917284835e-06)  0.424889    0.672058   \n",
       "\n",
       "     Kruskal-Wallis  p-value(k)  \n",
       "0          0.246231    0.619742  \n",
       "1          0.182043    0.669623  \n",
       "2          0.458353    0.498395  \n",
       "3          0.005505    0.940855  \n",
       "4          1.734516    0.187835  \n",
       "..              ...         ...  \n",
       "152        8.345484    0.003866  \n",
       "153        0.001377    0.970404  \n",
       "154        1.167313    0.279954  \n",
       "155        0.210767    0.646167  \n",
       "156        0.421473    0.516203  \n",
       "\n",
       "[157 rows x 8 columns]"
      ]
     },
     "execution_count": 17,
     "metadata": {},
     "output_type": "execute_result"
    }
   ],
   "source": [
    "result_df = pd.DataFrame(result, columns=['Metabolics', 'Levene test', 'Disease', 'Control', 't-Test', 'p-value(t)', 'Kruskal-Wallis', 'p-value(k)'])\n",
    "result_df.to_csv('test_plasma.csv')\n",
    "result_df"
   ]
  },
  {
   "cell_type": "code",
   "execution_count": 18,
   "metadata": {
    "colab": {
     "base_uri": "https://localhost:8080/"
    },
    "id": "94BhLJS9EM_s",
    "outputId": "73a84260-e7ea-4216-f464-579cfc58335f"
   },
   "outputs": [
    {
     "data": {
      "text/plain": [
       "29"
      ]
     },
     "execution_count": 18,
     "metadata": {},
     "output_type": "execute_result"
    }
   ],
   "source": [
    "metabolics = result_df[(result_df['p-value(t)'] < 0.01) | (result_df['p-value(k)'] < 0.01)].loc[:, 'Metabolics']\n",
    "metabolics = metabolics.to_numpy()\n",
    "len(metabolics)"
   ]
  },
  {
   "cell_type": "markdown",
   "metadata": {
    "id": "vP09whx-EiIS"
   },
   "source": [
    "Now we keep the data of these metabolics only, from main dataset."
   ]
  },
  {
   "cell_type": "code",
   "execution_count": 19,
   "metadata": {
    "colab": {
     "base_uri": "https://localhost:8080/",
     "height": 473
    },
    "id": "py2QBbQ9EhoZ",
    "outputId": "44a21bb5-3f9f-40aa-b8a1-eab413e4f931"
   },
   "outputs": [
    {
     "data": {
      "text/html": [
       "<div>\n",
       "<style scoped>\n",
       "    .dataframe tbody tr th:only-of-type {\n",
       "        vertical-align: middle;\n",
       "    }\n",
       "\n",
       "    .dataframe tbody tr th {\n",
       "        vertical-align: top;\n",
       "    }\n",
       "\n",
       "    .dataframe thead th {\n",
       "        text-align: right;\n",
       "    }\n",
       "</style>\n",
       "<table border=\"1\" class=\"dataframe\">\n",
       "  <thead>\n",
       "    <tr style=\"text-align: right;\">\n",
       "      <th></th>\n",
       "      <th>3-phosphoglycerate</th>\n",
       "      <th>5-hydroxynorvaline NIST</th>\n",
       "      <th>5-methoxytryptamine</th>\n",
       "      <th>adenosine-5-monophosphate</th>\n",
       "      <th>alpha-ketoglutarate</th>\n",
       "      <th>asparagine</th>\n",
       "      <th>aspartic acid</th>\n",
       "      <th>benzoic acid</th>\n",
       "      <th>citrulline</th>\n",
       "      <th>glutamine</th>\n",
       "      <th>...</th>\n",
       "      <th>phenol</th>\n",
       "      <th>phosphoethanolamine</th>\n",
       "      <th>pyrophosphate</th>\n",
       "      <th>pyruvic acid</th>\n",
       "      <th>quinic acid</th>\n",
       "      <th>taurine</th>\n",
       "      <th>threonine</th>\n",
       "      <th>tryptophan</th>\n",
       "      <th>uric acid</th>\n",
       "      <th>Class</th>\n",
       "    </tr>\n",
       "  </thead>\n",
       "  <tbody>\n",
       "    <tr>\n",
       "      <th>0</th>\n",
       "      <td>-0.493834</td>\n",
       "      <td>-0.853596</td>\n",
       "      <td>1.043546</td>\n",
       "      <td>-0.318017</td>\n",
       "      <td>0.512135</td>\n",
       "      <td>-0.384776</td>\n",
       "      <td>0.022548</td>\n",
       "      <td>-1.305536</td>\n",
       "      <td>-0.326638</td>\n",
       "      <td>-0.190839</td>\n",
       "      <td>...</td>\n",
       "      <td>-0.099283</td>\n",
       "      <td>0.034358</td>\n",
       "      <td>-0.273237</td>\n",
       "      <td>1.375625</td>\n",
       "      <td>-0.736481</td>\n",
       "      <td>0.414720</td>\n",
       "      <td>-0.427479</td>\n",
       "      <td>0.523924</td>\n",
       "      <td>-1.016102</td>\n",
       "      <td>disease</td>\n",
       "    </tr>\n",
       "    <tr>\n",
       "      <th>1</th>\n",
       "      <td>0.922548</td>\n",
       "      <td>-0.821435</td>\n",
       "      <td>-0.680015</td>\n",
       "      <td>-0.544047</td>\n",
       "      <td>-0.392098</td>\n",
       "      <td>0.947427</td>\n",
       "      <td>0.395145</td>\n",
       "      <td>-0.462690</td>\n",
       "      <td>0.687196</td>\n",
       "      <td>1.044991</td>\n",
       "      <td>...</td>\n",
       "      <td>0.216627</td>\n",
       "      <td>-0.830514</td>\n",
       "      <td>-0.405431</td>\n",
       "      <td>0.290328</td>\n",
       "      <td>-0.798081</td>\n",
       "      <td>-0.157190</td>\n",
       "      <td>-0.635903</td>\n",
       "      <td>-0.898525</td>\n",
       "      <td>-1.243045</td>\n",
       "      <td>disease</td>\n",
       "    </tr>\n",
       "    <tr>\n",
       "      <th>2</th>\n",
       "      <td>0.186030</td>\n",
       "      <td>-0.351887</td>\n",
       "      <td>0.141279</td>\n",
       "      <td>1.581370</td>\n",
       "      <td>0.353377</td>\n",
       "      <td>0.692741</td>\n",
       "      <td>0.184241</td>\n",
       "      <td>-0.487775</td>\n",
       "      <td>-0.563638</td>\n",
       "      <td>0.355438</td>\n",
       "      <td>...</td>\n",
       "      <td>0.984663</td>\n",
       "      <td>0.021254</td>\n",
       "      <td>0.950369</td>\n",
       "      <td>-0.192526</td>\n",
       "      <td>-0.313905</td>\n",
       "      <td>0.829635</td>\n",
       "      <td>-1.071862</td>\n",
       "      <td>0.829649</td>\n",
       "      <td>-0.233142</td>\n",
       "      <td>disease</td>\n",
       "    </tr>\n",
       "    <tr>\n",
       "      <th>3</th>\n",
       "      <td>0.327668</td>\n",
       "      <td>-0.744249</td>\n",
       "      <td>-0.552772</td>\n",
       "      <td>0.050194</td>\n",
       "      <td>-0.751031</td>\n",
       "      <td>0.349894</td>\n",
       "      <td>-0.350049</td>\n",
       "      <td>1.682051</td>\n",
       "      <td>-0.994847</td>\n",
       "      <td>1.152050</td>\n",
       "      <td>...</td>\n",
       "      <td>0.687592</td>\n",
       "      <td>-0.188412</td>\n",
       "      <td>-0.592977</td>\n",
       "      <td>-0.663066</td>\n",
       "      <td>-0.815329</td>\n",
       "      <td>1.246152</td>\n",
       "      <td>-0.625712</td>\n",
       "      <td>-1.106561</td>\n",
       "      <td>-0.477333</td>\n",
       "      <td>disease</td>\n",
       "    </tr>\n",
       "    <tr>\n",
       "      <th>4</th>\n",
       "      <td>0.596780</td>\n",
       "      <td>0.992437</td>\n",
       "      <td>0.112360</td>\n",
       "      <td>0.057486</td>\n",
       "      <td>-0.143607</td>\n",
       "      <td>0.297651</td>\n",
       "      <td>0.012003</td>\n",
       "      <td>-1.197672</td>\n",
       "      <td>0.766196</td>\n",
       "      <td>-0.305898</td>\n",
       "      <td>...</td>\n",
       "      <td>-0.273178</td>\n",
       "      <td>0.322649</td>\n",
       "      <td>0.521378</td>\n",
       "      <td>-0.094013</td>\n",
       "      <td>2.417442</td>\n",
       "      <td>0.075899</td>\n",
       "      <td>0.458198</td>\n",
       "      <td>0.013588</td>\n",
       "      <td>0.762636</td>\n",
       "      <td>disease</td>\n",
       "    </tr>\n",
       "    <tr>\n",
       "      <th>...</th>\n",
       "      <td>...</td>\n",
       "      <td>...</td>\n",
       "      <td>...</td>\n",
       "      <td>...</td>\n",
       "      <td>...</td>\n",
       "      <td>...</td>\n",
       "      <td>...</td>\n",
       "      <td>...</td>\n",
       "      <td>...</td>\n",
       "      <td>...</td>\n",
       "      <td>...</td>\n",
       "      <td>...</td>\n",
       "      <td>...</td>\n",
       "      <td>...</td>\n",
       "      <td>...</td>\n",
       "      <td>...</td>\n",
       "      <td>...</td>\n",
       "      <td>...</td>\n",
       "      <td>...</td>\n",
       "      <td>...</td>\n",
       "      <td>...</td>\n",
       "    </tr>\n",
       "    <tr>\n",
       "      <th>77</th>\n",
       "      <td>-0.890421</td>\n",
       "      <td>-0.287565</td>\n",
       "      <td>-0.784123</td>\n",
       "      <td>-0.795598</td>\n",
       "      <td>-0.295463</td>\n",
       "      <td>0.771106</td>\n",
       "      <td>-0.821068</td>\n",
       "      <td>-0.628249</td>\n",
       "      <td>0.078237</td>\n",
       "      <td>1.063280</td>\n",
       "      <td>...</td>\n",
       "      <td>-0.678933</td>\n",
       "      <td>-0.450494</td>\n",
       "      <td>-0.956782</td>\n",
       "      <td>-0.116747</td>\n",
       "      <td>-0.184545</td>\n",
       "      <td>-0.373459</td>\n",
       "      <td>0.186074</td>\n",
       "      <td>0.980799</td>\n",
       "      <td>0.046360</td>\n",
       "      <td>control</td>\n",
       "    </tr>\n",
       "    <tr>\n",
       "      <th>78</th>\n",
       "      <td>0.355996</td>\n",
       "      <td>-0.197515</td>\n",
       "      <td>0.095009</td>\n",
       "      <td>-0.412804</td>\n",
       "      <td>-0.640590</td>\n",
       "      <td>-0.427224</td>\n",
       "      <td>-0.733191</td>\n",
       "      <td>-1.057197</td>\n",
       "      <td>-0.408930</td>\n",
       "      <td>-0.134892</td>\n",
       "      <td>...</td>\n",
       "      <td>0.791929</td>\n",
       "      <td>-0.424286</td>\n",
       "      <td>-0.221161</td>\n",
       "      <td>-0.514587</td>\n",
       "      <td>-0.732785</td>\n",
       "      <td>-0.233285</td>\n",
       "      <td>0.678852</td>\n",
       "      <td>-0.029896</td>\n",
       "      <td>1.559041</td>\n",
       "      <td>control</td>\n",
       "    </tr>\n",
       "    <tr>\n",
       "      <th>79</th>\n",
       "      <td>-0.465506</td>\n",
       "      <td>-0.081736</td>\n",
       "      <td>-0.749420</td>\n",
       "      <td>-0.810180</td>\n",
       "      <td>0.781335</td>\n",
       "      <td>-0.103969</td>\n",
       "      <td>-0.522287</td>\n",
       "      <td>1.496424</td>\n",
       "      <td>0.914321</td>\n",
       "      <td>1.465637</td>\n",
       "      <td>...</td>\n",
       "      <td>-0.444175</td>\n",
       "      <td>-0.240828</td>\n",
       "      <td>-0.666904</td>\n",
       "      <td>-0.357819</td>\n",
       "      <td>0.226944</td>\n",
       "      <td>-0.544071</td>\n",
       "      <td>-1.008418</td>\n",
       "      <td>0.944910</td>\n",
       "      <td>0.298428</td>\n",
       "      <td>control</td>\n",
       "    </tr>\n",
       "    <tr>\n",
       "      <th>80</th>\n",
       "      <td>-0.777110</td>\n",
       "      <td>-0.795707</td>\n",
       "      <td>-0.506502</td>\n",
       "      <td>-0.722685</td>\n",
       "      <td>-0.136704</td>\n",
       "      <td>-1.220668</td>\n",
       "      <td>-0.673435</td>\n",
       "      <td>0.896900</td>\n",
       "      <td>-1.169305</td>\n",
       "      <td>-1.386388</td>\n",
       "      <td>...</td>\n",
       "      <td>-0.180434</td>\n",
       "      <td>-0.437390</td>\n",
       "      <td>-0.918180</td>\n",
       "      <td>-0.103486</td>\n",
       "      <td>-0.820257</td>\n",
       "      <td>-1.054304</td>\n",
       "      <td>1.107677</td>\n",
       "      <td>-1.340508</td>\n",
       "      <td>-0.008101</td>\n",
       "      <td>control</td>\n",
       "    </tr>\n",
       "    <tr>\n",
       "      <th>81</th>\n",
       "      <td>-0.720455</td>\n",
       "      <td>-0.454802</td>\n",
       "      <td>-0.622177</td>\n",
       "      <td>-0.781015</td>\n",
       "      <td>-1.027133</td>\n",
       "      <td>-1.201077</td>\n",
       "      <td>0.029578</td>\n",
       "      <td>2.201304</td>\n",
       "      <td>-0.978388</td>\n",
       "      <td>-1.320048</td>\n",
       "      <td>...</td>\n",
       "      <td>-0.470259</td>\n",
       "      <td>-0.581535</td>\n",
       "      <td>-0.955689</td>\n",
       "      <td>-1.050013</td>\n",
       "      <td>0.047071</td>\n",
       "      <td>-0.620966</td>\n",
       "      <td>0.615917</td>\n",
       "      <td>-0.901056</td>\n",
       "      <td>2.021212</td>\n",
       "      <td>control</td>\n",
       "    </tr>\n",
       "  </tbody>\n",
       "</table>\n",
       "<p>82 rows × 30 columns</p>\n",
       "</div>"
      ],
      "text/plain": [
       "    3-phosphoglycerate  5-hydroxynorvaline NIST  5-methoxytryptamine  \\\n",
       "0            -0.493834                -0.853596             1.043546   \n",
       "1             0.922548                -0.821435            -0.680015   \n",
       "2             0.186030                -0.351887             0.141279   \n",
       "3             0.327668                -0.744249            -0.552772   \n",
       "4             0.596780                 0.992437             0.112360   \n",
       "..                 ...                      ...                  ...   \n",
       "77           -0.890421                -0.287565            -0.784123   \n",
       "78            0.355996                -0.197515             0.095009   \n",
       "79           -0.465506                -0.081736            -0.749420   \n",
       "80           -0.777110                -0.795707            -0.506502   \n",
       "81           -0.720455                -0.454802            -0.622177   \n",
       "\n",
       "    adenosine-5-monophosphate  alpha-ketoglutarate  asparagine  aspartic acid  \\\n",
       "0                   -0.318017             0.512135   -0.384776       0.022548   \n",
       "1                   -0.544047            -0.392098    0.947427       0.395145   \n",
       "2                    1.581370             0.353377    0.692741       0.184241   \n",
       "3                    0.050194            -0.751031    0.349894      -0.350049   \n",
       "4                    0.057486            -0.143607    0.297651       0.012003   \n",
       "..                        ...                  ...         ...            ...   \n",
       "77                  -0.795598            -0.295463    0.771106      -0.821068   \n",
       "78                  -0.412804            -0.640590   -0.427224      -0.733191   \n",
       "79                  -0.810180             0.781335   -0.103969      -0.522287   \n",
       "80                  -0.722685            -0.136704   -1.220668      -0.673435   \n",
       "81                  -0.781015            -1.027133   -1.201077       0.029578   \n",
       "\n",
       "    benzoic acid  citrulline  glutamine  ...    phenol  phosphoethanolamine  \\\n",
       "0      -1.305536   -0.326638  -0.190839  ... -0.099283             0.034358   \n",
       "1      -0.462690    0.687196   1.044991  ...  0.216627            -0.830514   \n",
       "2      -0.487775   -0.563638   0.355438  ...  0.984663             0.021254   \n",
       "3       1.682051   -0.994847   1.152050  ...  0.687592            -0.188412   \n",
       "4      -1.197672    0.766196  -0.305898  ... -0.273178             0.322649   \n",
       "..           ...         ...        ...  ...       ...                  ...   \n",
       "77     -0.628249    0.078237   1.063280  ... -0.678933            -0.450494   \n",
       "78     -1.057197   -0.408930  -0.134892  ...  0.791929            -0.424286   \n",
       "79      1.496424    0.914321   1.465637  ... -0.444175            -0.240828   \n",
       "80      0.896900   -1.169305  -1.386388  ... -0.180434            -0.437390   \n",
       "81      2.201304   -0.978388  -1.320048  ... -0.470259            -0.581535   \n",
       "\n",
       "    pyrophosphate  pyruvic acid  quinic acid   taurine  threonine  tryptophan  \\\n",
       "0       -0.273237      1.375625    -0.736481  0.414720  -0.427479    0.523924   \n",
       "1       -0.405431      0.290328    -0.798081 -0.157190  -0.635903   -0.898525   \n",
       "2        0.950369     -0.192526    -0.313905  0.829635  -1.071862    0.829649   \n",
       "3       -0.592977     -0.663066    -0.815329  1.246152  -0.625712   -1.106561   \n",
       "4        0.521378     -0.094013     2.417442  0.075899   0.458198    0.013588   \n",
       "..            ...           ...          ...       ...        ...         ...   \n",
       "77      -0.956782     -0.116747    -0.184545 -0.373459   0.186074    0.980799   \n",
       "78      -0.221161     -0.514587    -0.732785 -0.233285   0.678852   -0.029896   \n",
       "79      -0.666904     -0.357819     0.226944 -0.544071  -1.008418    0.944910   \n",
       "80      -0.918180     -0.103486    -0.820257 -1.054304   1.107677   -1.340508   \n",
       "81      -0.955689     -1.050013     0.047071 -0.620966   0.615917   -0.901056   \n",
       "\n",
       "    uric acid    Class  \n",
       "0   -1.016102  disease  \n",
       "1   -1.243045  disease  \n",
       "2   -0.233142  disease  \n",
       "3   -0.477333  disease  \n",
       "4    0.762636  disease  \n",
       "..        ...      ...  \n",
       "77   0.046360  control  \n",
       "78   1.559041  control  \n",
       "79   0.298428  control  \n",
       "80  -0.008101  control  \n",
       "81   2.021212  control  \n",
       "\n",
       "[82 rows x 30 columns]"
      ]
     },
     "execution_count": 19,
     "metadata": {},
     "output_type": "execute_result"
    }
   ],
   "source": [
    "final_df = df.loc[:, metabolics]\n",
    "final_df = pd.concat([final_df, df.loc[:, 'Class']], axis=1)\n",
    "final_df.to_csv('plasma(Specific Metabolics).csv')\n",
    "final_df"
   ]
  },
  {
   "cell_type": "markdown",
   "metadata": {
    "id": "aGTrZnCm16la"
   },
   "source": [
    "# Heatmap"
   ]
  },
  {
   "cell_type": "code",
   "execution_count": 20,
   "metadata": {
    "colab": {
     "base_uri": "https://localhost:8080/",
     "height": 729
    },
    "id": "MfE7JJltODgw",
    "outputId": "805f88c0-4417-4623-9bbc-e52fa4206900"
   },
   "outputs": [
    {
     "data": {
      "image/png": "[encoded data removed]",
      "text/plain": [
       "<Figure size 720x720 with 5 Axes>"
      ]
     },
     "metadata": {
      "needs_background": "light"
     },
     "output_type": "display_data"
    }
   ],
   "source": [
    "# Data set\n",
    "import seaborn as sns\n",
    "final_df1 = final_df.copy()\n",
    "Class = final_df.pop(\"Class\")\n",
    "# final_df = final_df.set_index('Metabolics')\n",
    "\n",
    "lut = dict(zip(Class.unique(), \"grb\"))\n",
    "row_colors = Class.map(lut)\n",
    "df_colors = pd.DataFrame(data={'DISEASE': row_colors[row_colors == 'r'], 'CONTROL': row_colors[row_colors == 'g']}) \n",
    "# Default plot\n",
    "sns.clustermap(final_df, row_colors=df_colors, z_score=1)      #z_score->standardize; standard_cale->normalize\n",
    "# Show the graph\n",
    "plt.savefig('clustermap_plasma')\n",
    "plt.show()"
   ]
  },
  {
   "cell_type": "code",
   "execution_count": 21,
   "metadata": {
    "id": "cqq1ClttHcpT"
   },
   "outputs": [
    {
     "data": {
      "image/png": "[encoded data removed]",
      "text/plain": [
       "<Figure size 576x396 with 1 Axes>"
      ]
     },
     "metadata": {},
     "output_type": "display_data"
    },
    {
     "data": {
      "text/plain": [
       "<AxesSubplot:title={'center':'Feature Importances of 29 Features using RandomForestClassifier'}, xlabel='relative importance'>"
      ]
     },
     "execution_count": 21,
     "metadata": {},
     "output_type": "execute_result"
    }
   ],
   "source": [
    "from sklearn.ensemble import RandomForestClassifier\n",
    "from yellowbrick.model_selection import FeatureImportances\n",
    "\n",
    "# Load the classification data set\n",
    "X = final_df1.drop('Class', axis=1)\n",
    "y = final_df1['Class'].copy()\n",
    "y = y.map({\"control\": 1, \"disease\": 0})\n",
    "\n",
    "model = RandomForestClassifier(n_estimators=29)\n",
    "viz = FeatureImportances(model)\n",
    "viz.fit(X, y)\n",
    "viz.show()"
   ]
  },
  {
   "cell_type": "code",
   "execution_count": null,
   "metadata": {},
   "outputs": [],
   "source": []
  }
 ],
 "metadata": {
  "colab": {
   "collapsed_sections": [],
   "name": "plasma_test.ipynb",
   "provenance": [],
   "toc_visible": true
  },
  "kernelspec": {
   "display_name": "Python 3",
   "language": "python",
   "name": "python3"
  },
  "language_info": {
   "codemirror_mode": {
    "name": "ipython",
    "version": 3
   },
   "file_extension": ".py",
   "mimetype": "text/x-python",
   "name": "python",
   "nbconvert_exporter": "python",
   "pygments_lexer": "ipython3",
   "version": "3.7.9"
  }
 },
 "nbformat": 4,
 "nbformat_minor": 1
}
