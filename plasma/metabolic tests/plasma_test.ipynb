{
  "nbformat": 4,
  "nbformat_minor": 0,
  "metadata": {
    "colab": {
      "name": "plasma_test.ipynb",
      "provenance": [],
      "collapsed_sections": [],
      "toc_visible": true
    },
    "kernelspec": {
      "name": "python3",
      "display_name": "Python 3"
    }
  },
  "cells": [
    {
      "cell_type": "markdown",
      "metadata": {
        "id": "h5DK5J8m_7J9"
      },
      "source": [
        "[Download DATASETS from here](https://drive.google.com/drive/folders/1cBv9fiBQE2PedVPvTu56tOMIOtJTjTj1?usp=sharing)"
      ]
    },
    {
      "cell_type": "code",
      "metadata": {
        "colab": {
          "base_uri": "https://localhost:8080/",
          "height": 304
        },
        "id": "mbm_F-i_bhGw",
        "outputId": "b7f6eedf-bb04-4b48-9d8c-c1bd827fe532"
      },
      "source": [
        "import pandas as pd\n",
        "%matplotlib inline\n",
        "import numpy as np\n",
        "import matplotlib.pyplot as plt\n",
        "df = pd.read_csv('/content/drive/Shareddrives/utshabkg/Dataset/plasma_processed.csv')\n",
        "df.head()"
      ],
      "execution_count": 304,
      "outputs": [
        {
          "output_type": "execute_result",
          "data": {
            "text/html": [
              "<div>\n",
              "<style scoped>\n",
              "    .dataframe tbody tr th:only-of-type {\n",
              "        vertical-align: middle;\n",
              "    }\n",
              "\n",
              "    .dataframe tbody tr th {\n",
              "        vertical-align: top;\n",
              "    }\n",
              "\n",
              "    .dataframe thead th {\n",
              "        text-align: right;\n",
              "    }\n",
              "</style>\n",
              "<table border=\"1\" class=\"dataframe\">\n",
              "  <thead>\n",
              "    <tr style=\"text-align: right;\">\n",
              "      <th></th>\n",
              "      <th>Unnamed: 0</th>\n",
              "      <th>1_5-anhydroglucitol</th>\n",
              "      <th>1-monostearin</th>\n",
              "      <th>2_3-dihydroxybutanoic acid NIST</th>\n",
              "      <th>2_4-diaminobutyric acid</th>\n",
              "      <th>2-deoxyerythritol</th>\n",
              "      <th>2-deoxytetronic acid</th>\n",
              "      <th>2-hydroxybutanoic acid</th>\n",
              "      <th>2-hydroxyglutaric acid</th>\n",
              "      <th>2-hydroxyhippuric acid</th>\n",
              "      <th>2-hydroxyvaleric acid</th>\n",
              "      <th>2-ketoglucose dimethylacetal NIST</th>\n",
              "      <th>2-ketoisocaproic acid</th>\n",
              "      <th>3-(3-hydroxyphenyl)propionic acid</th>\n",
              "      <th>3-aminoisobutyric acid</th>\n",
              "      <th>3-hydroxybutanoic acid</th>\n",
              "      <th>3-hydroxybutyric acid</th>\n",
              "      <th>3-phosphoglycerate</th>\n",
              "      <th>5-hydroxynorvaline NIST</th>\n",
              "      <th>5-methoxytryptamine</th>\n",
              "      <th>acetoacetate</th>\n",
              "      <th>aconitic acid</th>\n",
              "      <th>adenosine-5-monophosphate</th>\n",
              "      <th>alanine</th>\n",
              "      <th>alloxanoic acid NIST</th>\n",
              "      <th>alpha-ketoglutarate</th>\n",
              "      <th>aminomalonate</th>\n",
              "      <th>arabitol</th>\n",
              "      <th>arachidic acid</th>\n",
              "      <th>arachidonic acid</th>\n",
              "      <th>asparagine</th>\n",
              "      <th>aspartic acid</th>\n",
              "      <th>azelaic acid</th>\n",
              "      <th>behenic acid</th>\n",
              "      <th>benzoic acid</th>\n",
              "      <th>beta-alanine</th>\n",
              "      <th>butane-2_3-diol NIST</th>\n",
              "      <th>butyrolactam NIST</th>\n",
              "      <th>capric acid</th>\n",
              "      <th>caprylic acid</th>\n",
              "      <th>...</th>\n",
              "      <th>pelargonic acid</th>\n",
              "      <th>phenol</th>\n",
              "      <th>phenylalanine</th>\n",
              "      <th>phenylethylamine</th>\n",
              "      <th>phosphate</th>\n",
              "      <th>phosphoethanolamine</th>\n",
              "      <th>pipecolinic acid</th>\n",
              "      <th>piperidone</th>\n",
              "      <th>proline</th>\n",
              "      <th>propane-1_3-diol NIST</th>\n",
              "      <th>pseudo uridine</th>\n",
              "      <th>pyrophosphate</th>\n",
              "      <th>pyrrole-2-carboxylic acid</th>\n",
              "      <th>pyruvic acid</th>\n",
              "      <th>quinic acid</th>\n",
              "      <th>ribose</th>\n",
              "      <th>salicylaldehyde</th>\n",
              "      <th>salicylic acid</th>\n",
              "      <th>serine</th>\n",
              "      <th>shikimic acid</th>\n",
              "      <th>stearic acid</th>\n",
              "      <th>sucrose</th>\n",
              "      <th>tartaric acid</th>\n",
              "      <th>taurine</th>\n",
              "      <th>threitol</th>\n",
              "      <th>threonic acid</th>\n",
              "      <th>threonine</th>\n",
              "      <th>tocopherol alpha-</th>\n",
              "      <th>tocopherol gamma-</th>\n",
              "      <th>trans-4-hydroxyproline</th>\n",
              "      <th>tryptophan</th>\n",
              "      <th>tyrosine</th>\n",
              "      <th>UDP-glucuronic acid</th>\n",
              "      <th>urea</th>\n",
              "      <th>uric acid</th>\n",
              "      <th>uridine</th>\n",
              "      <th>valine</th>\n",
              "      <th>xylitol</th>\n",
              "      <th>xylose</th>\n",
              "      <th>Class</th>\n",
              "    </tr>\n",
              "  </thead>\n",
              "  <tbody>\n",
              "    <tr>\n",
              "      <th>0</th>\n",
              "      <td>1</td>\n",
              "      <td>9483</td>\n",
              "      <td>103</td>\n",
              "      <td>101</td>\n",
              "      <td>963</td>\n",
              "      <td>389</td>\n",
              "      <td>123</td>\n",
              "      <td>20744</td>\n",
              "      <td>139</td>\n",
              "      <td>36</td>\n",
              "      <td>955</td>\n",
              "      <td>79</td>\n",
              "      <td>6387</td>\n",
              "      <td>65</td>\n",
              "      <td>290</td>\n",
              "      <td>1153</td>\n",
              "      <td>2318</td>\n",
              "      <td>62</td>\n",
              "      <td>83</td>\n",
              "      <td>363</td>\n",
              "      <td>418</td>\n",
              "      <td>97</td>\n",
              "      <td>210</td>\n",
              "      <td>190781</td>\n",
              "      <td>153</td>\n",
              "      <td>386</td>\n",
              "      <td>894</td>\n",
              "      <td>36</td>\n",
              "      <td>2294</td>\n",
              "      <td>234</td>\n",
              "      <td>873</td>\n",
              "      <td>664</td>\n",
              "      <td>76</td>\n",
              "      <td>311</td>\n",
              "      <td>1414</td>\n",
              "      <td>697</td>\n",
              "      <td>374</td>\n",
              "      <td>177</td>\n",
              "      <td>219</td>\n",
              "      <td>496</td>\n",
              "      <td>...</td>\n",
              "      <td>3298</td>\n",
              "      <td>1310</td>\n",
              "      <td>12552</td>\n",
              "      <td>95</td>\n",
              "      <td>35856</td>\n",
              "      <td>110</td>\n",
              "      <td>586</td>\n",
              "      <td>84</td>\n",
              "      <td>124169</td>\n",
              "      <td>565</td>\n",
              "      <td>525</td>\n",
              "      <td>2769</td>\n",
              "      <td>416</td>\n",
              "      <td>10789</td>\n",
              "      <td>127</td>\n",
              "      <td>97</td>\n",
              "      <td>160</td>\n",
              "      <td>68</td>\n",
              "      <td>7392</td>\n",
              "      <td>414</td>\n",
              "      <td>85957</td>\n",
              "      <td>82</td>\n",
              "      <td>82</td>\n",
              "      <td>2160</td>\n",
              "      <td>336</td>\n",
              "      <td>778</td>\n",
              "      <td>13505</td>\n",
              "      <td>2429</td>\n",
              "      <td>303</td>\n",
              "      <td>2248</td>\n",
              "      <td>27450</td>\n",
              "      <td>52403</td>\n",
              "      <td>73</td>\n",
              "      <td>255067</td>\n",
              "      <td>10057</td>\n",
              "      <td>63</td>\n",
              "      <td>157332</td>\n",
              "      <td>154</td>\n",
              "      <td>1380</td>\n",
              "      <td>disease</td>\n",
              "    </tr>\n",
              "    <tr>\n",
              "      <th>1</th>\n",
              "      <td>2</td>\n",
              "      <td>27468</td>\n",
              "      <td>207</td>\n",
              "      <td>155</td>\n",
              "      <td>335</td>\n",
              "      <td>227</td>\n",
              "      <td>178</td>\n",
              "      <td>8611</td>\n",
              "      <td>78</td>\n",
              "      <td>91</td>\n",
              "      <td>103</td>\n",
              "      <td>73</td>\n",
              "      <td>5609</td>\n",
              "      <td>112</td>\n",
              "      <td>861</td>\n",
              "      <td>384</td>\n",
              "      <td>1624</td>\n",
              "      <td>162</td>\n",
              "      <td>88</td>\n",
              "      <td>65</td>\n",
              "      <td>414</td>\n",
              "      <td>191</td>\n",
              "      <td>148</td>\n",
              "      <td>218774</td>\n",
              "      <td>113</td>\n",
              "      <td>255</td>\n",
              "      <td>1043</td>\n",
              "      <td>324</td>\n",
              "      <td>2258</td>\n",
              "      <td>296</td>\n",
              "      <td>1281</td>\n",
              "      <td>770</td>\n",
              "      <td>102</td>\n",
              "      <td>252</td>\n",
              "      <td>1750</td>\n",
              "      <td>195</td>\n",
              "      <td>274</td>\n",
              "      <td>132</td>\n",
              "      <td>253</td>\n",
              "      <td>479</td>\n",
              "      <td>...</td>\n",
              "      <td>2621</td>\n",
              "      <td>1528</td>\n",
              "      <td>12924</td>\n",
              "      <td>266</td>\n",
              "      <td>42098</td>\n",
              "      <td>44</td>\n",
              "      <td>392</td>\n",
              "      <td>67</td>\n",
              "      <td>113966</td>\n",
              "      <td>669</td>\n",
              "      <td>1178</td>\n",
              "      <td>2406</td>\n",
              "      <td>97</td>\n",
              "      <td>6206</td>\n",
              "      <td>77</td>\n",
              "      <td>187</td>\n",
              "      <td>384</td>\n",
              "      <td>209</td>\n",
              "      <td>5719</td>\n",
              "      <td>453</td>\n",
              "      <td>66836</td>\n",
              "      <td>273</td>\n",
              "      <td>35</td>\n",
              "      <td>1446</td>\n",
              "      <td>192</td>\n",
              "      <td>566</td>\n",
              "      <td>12687</td>\n",
              "      <td>1882</td>\n",
              "      <td>681</td>\n",
              "      <td>2926</td>\n",
              "      <td>17898</td>\n",
              "      <td>37179</td>\n",
              "      <td>157</td>\n",
              "      <td>180080</td>\n",
              "      <td>8386</td>\n",
              "      <td>118</td>\n",
              "      <td>103083</td>\n",
              "      <td>324</td>\n",
              "      <td>929</td>\n",
              "      <td>disease</td>\n",
              "    </tr>\n",
              "    <tr>\n",
              "      <th>2</th>\n",
              "      <td>3</td>\n",
              "      <td>13976</td>\n",
              "      <td>86</td>\n",
              "      <td>78</td>\n",
              "      <td>176</td>\n",
              "      <td>152</td>\n",
              "      <td>83</td>\n",
              "      <td>22792</td>\n",
              "      <td>92</td>\n",
              "      <td>97</td>\n",
              "      <td>1010</td>\n",
              "      <td>97</td>\n",
              "      <td>7600</td>\n",
              "      <td>139</td>\n",
              "      <td>331</td>\n",
              "      <td>917</td>\n",
              "      <td>3997</td>\n",
              "      <td>110</td>\n",
              "      <td>161</td>\n",
              "      <td>207</td>\n",
              "      <td>338</td>\n",
              "      <td>118</td>\n",
              "      <td>731</td>\n",
              "      <td>239741</td>\n",
              "      <td>64</td>\n",
              "      <td>363</td>\n",
              "      <td>763</td>\n",
              "      <td>400</td>\n",
              "      <td>2417</td>\n",
              "      <td>682</td>\n",
              "      <td>1203</td>\n",
              "      <td>710</td>\n",
              "      <td>56</td>\n",
              "      <td>311</td>\n",
              "      <td>1740</td>\n",
              "      <td>261</td>\n",
              "      <td>84</td>\n",
              "      <td>82</td>\n",
              "      <td>250</td>\n",
              "      <td>431</td>\n",
              "      <td>...</td>\n",
              "      <td>4059</td>\n",
              "      <td>2058</td>\n",
              "      <td>9682</td>\n",
              "      <td>162</td>\n",
              "      <td>41771</td>\n",
              "      <td>109</td>\n",
              "      <td>419</td>\n",
              "      <td>71</td>\n",
              "      <td>87775</td>\n",
              "      <td>593</td>\n",
              "      <td>598</td>\n",
              "      <td>6129</td>\n",
              "      <td>50</td>\n",
              "      <td>4167</td>\n",
              "      <td>470</td>\n",
              "      <td>116</td>\n",
              "      <td>191</td>\n",
              "      <td>1279</td>\n",
              "      <td>5028</td>\n",
              "      <td>64</td>\n",
              "      <td>119546</td>\n",
              "      <td>137</td>\n",
              "      <td>60</td>\n",
              "      <td>2678</td>\n",
              "      <td>158</td>\n",
              "      <td>871</td>\n",
              "      <td>10976</td>\n",
              "      <td>4433</td>\n",
              "      <td>667</td>\n",
              "      <td>2862</td>\n",
              "      <td>29503</td>\n",
              "      <td>30670</td>\n",
              "      <td>211</td>\n",
              "      <td>138861</td>\n",
              "      <td>15822</td>\n",
              "      <td>119</td>\n",
              "      <td>92045</td>\n",
              "      <td>253</td>\n",
              "      <td>610</td>\n",
              "      <td>disease</td>\n",
              "    </tr>\n",
              "    <tr>\n",
              "      <th>3</th>\n",
              "      <td>4</td>\n",
              "      <td>19449</td>\n",
              "      <td>178</td>\n",
              "      <td>104</td>\n",
              "      <td>467</td>\n",
              "      <td>270</td>\n",
              "      <td>157</td>\n",
              "      <td>29418</td>\n",
              "      <td>123</td>\n",
              "      <td>92</td>\n",
              "      <td>289</td>\n",
              "      <td>71</td>\n",
              "      <td>3388</td>\n",
              "      <td>68</td>\n",
              "      <td>2141</td>\n",
              "      <td>465</td>\n",
              "      <td>33679</td>\n",
              "      <td>120</td>\n",
              "      <td>100</td>\n",
              "      <td>87</td>\n",
              "      <td>454</td>\n",
              "      <td>147</td>\n",
              "      <td>311</td>\n",
              "      <td>99474</td>\n",
              "      <td>86</td>\n",
              "      <td>203</td>\n",
              "      <td>1027</td>\n",
              "      <td>223</td>\n",
              "      <td>3927</td>\n",
              "      <td>627</td>\n",
              "      <td>1098</td>\n",
              "      <td>558</td>\n",
              "      <td>74</td>\n",
              "      <td>529</td>\n",
              "      <td>2605</td>\n",
              "      <td>213</td>\n",
              "      <td>238</td>\n",
              "      <td>252</td>\n",
              "      <td>278</td>\n",
              "      <td>813</td>\n",
              "      <td>...</td>\n",
              "      <td>8027</td>\n",
              "      <td>1853</td>\n",
              "      <td>11710</td>\n",
              "      <td>490</td>\n",
              "      <td>38775</td>\n",
              "      <td>93</td>\n",
              "      <td>217</td>\n",
              "      <td>64</td>\n",
              "      <td>65156</td>\n",
              "      <td>869</td>\n",
              "      <td>926</td>\n",
              "      <td>1891</td>\n",
              "      <td>107</td>\n",
              "      <td>2180</td>\n",
              "      <td>63</td>\n",
              "      <td>181</td>\n",
              "      <td>249</td>\n",
              "      <td>87</td>\n",
              "      <td>9764</td>\n",
              "      <td>326</td>\n",
              "      <td>161987</td>\n",
              "      <td>83</td>\n",
              "      <td>77</td>\n",
              "      <td>3198</td>\n",
              "      <td>207</td>\n",
              "      <td>783</td>\n",
              "      <td>12727</td>\n",
              "      <td>2042</td>\n",
              "      <td>447</td>\n",
              "      <td>3036</td>\n",
              "      <td>16501</td>\n",
              "      <td>27573</td>\n",
              "      <td>71</td>\n",
              "      <td>183633</td>\n",
              "      <td>14024</td>\n",
              "      <td>102</td>\n",
              "      <td>97349</td>\n",
              "      <td>223</td>\n",
              "      <td>746</td>\n",
              "      <td>disease</td>\n",
              "    </tr>\n",
              "    <tr>\n",
              "      <th>4</th>\n",
              "      <td>5</td>\n",
              "      <td>17209</td>\n",
              "      <td>258</td>\n",
              "      <td>103</td>\n",
              "      <td>979</td>\n",
              "      <td>314</td>\n",
              "      <td>211</td>\n",
              "      <td>16713</td>\n",
              "      <td>76</td>\n",
              "      <td>42</td>\n",
              "      <td>1126</td>\n",
              "      <td>139</td>\n",
              "      <td>6833</td>\n",
              "      <td>679</td>\n",
              "      <td>1098</td>\n",
              "      <td>1487</td>\n",
              "      <td>5414</td>\n",
              "      <td>139</td>\n",
              "      <td>370</td>\n",
              "      <td>202</td>\n",
              "      <td>329</td>\n",
              "      <td>174</td>\n",
              "      <td>313</td>\n",
              "      <td>238858</td>\n",
              "      <td>218</td>\n",
              "      <td>291</td>\n",
              "      <td>2760</td>\n",
              "      <td>366</td>\n",
              "      <td>3156</td>\n",
              "      <td>368</td>\n",
              "      <td>1082</td>\n",
              "      <td>661</td>\n",
              "      <td>35</td>\n",
              "      <td>415</td>\n",
              "      <td>1457</td>\n",
              "      <td>707</td>\n",
              "      <td>227</td>\n",
              "      <td>96</td>\n",
              "      <td>278</td>\n",
              "      <td>442</td>\n",
              "      <td>...</td>\n",
              "      <td>4065</td>\n",
              "      <td>1190</td>\n",
              "      <td>13357</td>\n",
              "      <td>113</td>\n",
              "      <td>55245</td>\n",
              "      <td>132</td>\n",
              "      <td>150</td>\n",
              "      <td>38</td>\n",
              "      <td>60725</td>\n",
              "      <td>534</td>\n",
              "      <td>1109</td>\n",
              "      <td>4951</td>\n",
              "      <td>353</td>\n",
              "      <td>4583</td>\n",
              "      <td>2687</td>\n",
              "      <td>120</td>\n",
              "      <td>204</td>\n",
              "      <td>108</td>\n",
              "      <td>9031</td>\n",
              "      <td>219</td>\n",
              "      <td>94444</td>\n",
              "      <td>91</td>\n",
              "      <td>30</td>\n",
              "      <td>1737</td>\n",
              "      <td>407</td>\n",
              "      <td>283</td>\n",
              "      <td>16981</td>\n",
              "      <td>1980</td>\n",
              "      <td>508</td>\n",
              "      <td>4357</td>\n",
              "      <td>24023</td>\n",
              "      <td>30096</td>\n",
              "      <td>222</td>\n",
              "      <td>255081</td>\n",
              "      <td>23154</td>\n",
              "      <td>58</td>\n",
              "      <td>159671</td>\n",
              "      <td>189</td>\n",
              "      <td>2022</td>\n",
              "      <td>disease</td>\n",
              "    </tr>\n",
              "  </tbody>\n",
              "</table>\n",
              "<p>5 rows × 160 columns</p>\n",
              "</div>"
            ],
            "text/plain": [
              "   Unnamed: 0  1_5-anhydroglucitol  1-monostearin  ...  xylitol  xylose    Class\n",
              "0           1                 9483            103  ...      154    1380  disease\n",
              "1           2                27468            207  ...      324     929  disease\n",
              "2           3                13976             86  ...      253     610  disease\n",
              "3           4                19449            178  ...      223     746  disease\n",
              "4           5                17209            258  ...      189    2022  disease\n",
              "\n",
              "[5 rows x 160 columns]"
            ]
          },
          "metadata": {
            "tags": []
          },
          "execution_count": 304
        }
      ]
    },
    {
      "cell_type": "code",
      "metadata": {
        "colab": {
          "base_uri": "https://localhost:8080/"
        },
        "id": "UCNePJqm_Zta",
        "outputId": "41f2ce37-b194-4c43-81e8-bca166065e47"
      },
      "source": [
        "df.iloc[14, 1]"
      ],
      "execution_count": 305,
      "outputs": [
        {
          "output_type": "execute_result",
          "data": {
            "text/plain": [
              "835"
            ]
          },
          "metadata": {
            "tags": []
          },
          "execution_count": 305
        }
      ]
    },
    {
      "cell_type": "code",
      "metadata": {
        "id": "jmgP6AChQcGd"
      },
      "source": [
        "labels = np.reshape(df.Class.to_numpy(), (82,1))\n",
        "# labels"
      ],
      "execution_count": 306,
      "outputs": []
    },
    {
      "cell_type": "markdown",
      "metadata": {
        "id": "hHIN4cpOUseh"
      },
      "source": [
        "# Student's   t-Test"
      ]
    },
    {
      "cell_type": "code",
      "metadata": {
        "id": "SV4dW4amy-lK",
        "colab": {
          "base_uri": "https://localhost:8080/"
        },
        "outputId": "48c31650-0632-4709-e3e8-e77f9a877a48"
      },
      "source": [
        "X = df.drop('Class', axis=1)\n",
        "y = df['Class'].copy()\n",
        "y = y.map({\"control\": 1, \"disease\": 0})\n",
        "\n",
        "X.shape, y.shape"
      ],
      "execution_count": 307,
      "outputs": [
        {
          "output_type": "execute_result",
          "data": {
            "text/plain": [
              "((82, 159), (82,))"
            ]
          },
          "metadata": {
            "tags": []
          },
          "execution_count": 307
        }
      ]
    },
    {
      "cell_type": "code",
      "metadata": {
        "id": "FYjW50hq1Z4e"
      },
      "source": [
        "disease = df[(df['Class']=='disease')]\n",
        "control = df[(df['Class']=='control')]"
      ],
      "execution_count": 308,
      "outputs": []
    },
    {
      "cell_type": "code",
      "metadata": {
        "id": "FRu2DS5b-lwt"
      },
      "source": [
        "from scipy import stats"
      ],
      "execution_count": 309,
      "outputs": []
    },
    {
      "cell_type": "markdown",
      "metadata": {
        "id": "OaLpen8bIDx4"
      },
      "source": [
        "Before the t-test can be conducted, one needs to test the assumptions. First to test for the homogeneity of variances. To do this, I will use Levene’s test for homogeneity of variance. "
      ]
    },
    {
      "cell_type": "code",
      "metadata": {
        "colab": {
          "base_uri": "https://localhost:8080/"
        },
        "id": "T5JMMOKPHfXr",
        "outputId": "61cfabe3-4fc0-403f-9281-88b8352b4dcf"
      },
      "source": [
        "stats.levene(disease['1_5-anhydroglucitol'], control['1_5-anhydroglucitol'])"
      ],
      "execution_count": 310,
      "outputs": [
        {
          "output_type": "execute_result",
          "data": {
            "text/plain": [
              "LeveneResult(statistic=0.9232842255878866, pvalue=0.33950937635055467)"
            ]
          },
          "metadata": {
            "tags": []
          },
          "execution_count": 310
        }
      ]
    },
    {
      "cell_type": "markdown",
      "metadata": {
        "id": "U_LhRbcjIFYI"
      },
      "source": [
        "The test is not significant meaning there is homogeneity of variances and we can proceed. If the test were to be significant, a viable alternative would be to conduct a Welch’s t-test. Next to test the assumption of normality. This can be done visually with a histogram and/or as a q-q plot, and by using the Shapiro-Wilk test which is the stats.shaprio() method. First, I will check them visually."
      ]
    },
    {
      "cell_type": "code",
      "metadata": {
        "colab": {
          "base_uri": "https://localhost:8080/",
          "height": 295
        },
        "id": "Rm3yBbSgHt3U",
        "outputId": "b7a27bf4-654c-49e1-ddfa-d0b736889a8b"
      },
      "source": [
        "disease['1_5-anhydroglucitol'].plot(kind=\"hist\", title=\"Disease 1_5-anhydroglucitol\", color='red')\n",
        "plt.xlabel(\"Units\")\n",
        "plt.savefig('disease_1_5-anhydroglucitol')"
      ],
      "execution_count": 311,
      "outputs": [
        {
          "output_type": "display_data",
          "data": {
            "image/png": "[encoded data removed]",
            "text/plain": [
              "<Figure size 432x288 with 1 Axes>"
            ]
          },
          "metadata": {
            "tags": [],
            "needs_background": "light"
          }
        }
      ]
    },
    {
      "cell_type": "code",
      "metadata": {
        "colab": {
          "base_uri": "https://localhost:8080/",
          "height": 295
        },
        "id": "hGqs1W3kIjRT",
        "outputId": "921be325-6e5b-4853-bb68-c070d56564d1"
      },
      "source": [
        "control['1_5-anhydroglucitol'].plot(kind='hist', title='Control 1_5-anhydroglucitol', color='green')\n",
        "plt.xlabel(\"Units\")\n",
        "plt.savefig('control_1_5-anhydroglucitol')"
      ],
      "execution_count": 312,
      "outputs": [
        {
          "output_type": "display_data",
          "data": {
            "image/png": "[encoded data removed]",
            "text/plain": [
              "<Figure size 432x288 with 1 Axes>"
            ]
          },
          "metadata": {
            "tags": [],
            "needs_background": "light"
          }
        }
      ]
    },
    {
      "cell_type": "markdown",
      "metadata": {
        "id": "_2XGu_JNJIpj"
      },
      "source": [
        "From the looks of the histogram, each variable appears to be fairly normally distributed. Let’s see how it looks on a q-q plot, it’s easier to get a sense of normality visualizing the data as q-q plot. If you are unfamiliar with reading a q-q plot, the data should be on the red line. If there are data points that are far off of it, it’s an indication that there are some deviations from normality."
      ]
    },
    {
      "cell_type": "code",
      "metadata": {
        "colab": {
          "base_uri": "https://localhost:8080/",
          "height": 295
        },
        "id": "UJMSrQHCJIaZ",
        "outputId": "73cd51d4-05d0-4a1a-e194-3fad6f95ed82"
      },
      "source": [
        "stats.probplot(disease['1_5-anhydroglucitol'], dist='norm', plot=plt)\n",
        "plt.title('Disease 1_5-anhydroglucitol Q_Q Plot')\n",
        "plt.savefig('disease_1_5-anhydroglucitol_qqplot')"
      ],
      "execution_count": 313,
      "outputs": [
        {
          "output_type": "display_data",
          "data": {
            "image/png": "[encoded data removed]",
            "text/plain": [
              "<Figure size 432x288 with 1 Axes>"
            ]
          },
          "metadata": {
            "tags": [],
            "needs_background": "light"
          }
        }
      ]
    },
    {
      "cell_type": "code",
      "metadata": {
        "colab": {
          "base_uri": "https://localhost:8080/",
          "height": 295
        },
        "id": "Ys4Lxz4TI7Br",
        "outputId": "2a4e60cb-7571-4bc7-be02-b0d3d82f2730"
      },
      "source": [
        "stats.probplot(control['1_5-anhydroglucitol'], dist='norm', plot=plt)\n",
        "plt.title('Control 1_5-anhydroglucitol Q_Q Plot')\n",
        "plt.savefig('control_1_5-anhydroglucitol_qqplot')"
      ],
      "execution_count": 314,
      "outputs": [
        {
          "output_type": "display_data",
          "data": {
            "image/png": "[encoded data removed]",
            "text/plain": [
              "<Figure size 432x288 with 1 Axes>"
            ]
          },
          "metadata": {
            "tags": [],
            "needs_background": "light"
          }
        }
      ]
    },
    {
      "cell_type": "markdown",
      "metadata": {
        "id": "0jAzG_lEJ3Br"
      },
      "source": [
        "There is some deviation from normality in the Control q-q plot, but it does not appear to be a large violation. In all, the data looks to have normality. To be sure, we can test it statistically using the Shapiro-Wilk test for normality. The first value is the W test statistic and the second value is the p-value."
      ]
    },
    {
      "cell_type": "code",
      "metadata": {
        "colab": {
          "base_uri": "https://localhost:8080/"
        },
        "id": "I0POY3SNJn0C",
        "outputId": "78b16585-8ea8-46b9-b33c-bc0f91cb8466"
      },
      "source": [
        "stats.shapiro(disease['1_5-anhydroglucitol'])"
      ],
      "execution_count": 315,
      "outputs": [
        {
          "output_type": "execute_result",
          "data": {
            "text/plain": [
              "(0.9895632266998291, 0.966071605682373)"
            ]
          },
          "metadata": {
            "tags": []
          },
          "execution_count": 315
        }
      ]
    },
    {
      "cell_type": "code",
      "metadata": {
        "colab": {
          "base_uri": "https://localhost:8080/"
        },
        "id": "1MMJrtN7KFHy",
        "outputId": "c89dccce-7ae3-4455-8932-5791d25f5ef4"
      },
      "source": [
        "stats.shapiro(control['1_5-anhydroglucitol'])"
      ],
      "execution_count": 316,
      "outputs": [
        {
          "output_type": "execute_result",
          "data": {
            "text/plain": [
              "(0.9127679467201233, 0.0040376451797783375)"
            ]
          },
          "metadata": {
            "tags": []
          },
          "execution_count": 316
        }
      ]
    },
    {
      "cell_type": "markdown",
      "metadata": {
        "id": "p62lC72IKbLb"
      },
      "source": [
        "Neither of the tests for normality we significant meaning neither of the variables violates the assumption of normality. We can continue as planned(Independent t-test)."
      ]
    },
    {
      "cell_type": "code",
      "metadata": {
        "colab": {
          "base_uri": "https://localhost:8080/"
        },
        "id": "pDPiObFVKKIh",
        "outputId": "84874d29-28f1-476f-9d08-47251bb3bf11"
      },
      "source": [
        "stats.ttest_ind(disease['1_5-anhydroglucitol'], control['1_5-anhydroglucitol'])"
      ],
      "execution_count": 317,
      "outputs": [
        {
          "output_type": "execute_result",
          "data": {
            "text/plain": [
              "Ttest_indResult(statistic=-0.4622362131299635, pvalue=0.6451666190665313)"
            ]
          },
          "metadata": {
            "tags": []
          },
          "execution_count": 317
        }
      ]
    },
    {
      "cell_type": "code",
      "metadata": {
        "id": "m9lFPpZtKo8D"
      },
      "source": [
        "def test(feature):\n",
        "    l_test = stats.levene(disease[feature], control[feature])\n",
        "    disease_shapiro = stats.shapiro(disease[feature])\n",
        "    control_shapiro = stats.shapiro(control[feature])\n",
        "    t_test, t_test_p = stats.ttest_ind(disease[feature], control[feature])\n",
        "    k_test, k_test_p = stats.kruskal(disease[feature], control[feature])\n",
        "    return feature, l_test, disease_shapiro, control_shapiro, t_test, t_test_p, k_test, k_test_p"
      ],
      "execution_count": 318,
      "outputs": []
    },
    {
      "cell_type": "code",
      "metadata": {
        "colab": {
          "base_uri": "https://localhost:8080/",
          "height": 35
        },
        "id": "VNcxHf9VMlks",
        "outputId": "f6a78a9d-0b61-49b7-e4c8-319ed77c7507"
      },
      "source": [
        "df.columns[0]"
      ],
      "execution_count": 319,
      "outputs": [
        {
          "output_type": "execute_result",
          "data": {
            "application/vnd.google.colaboratory.intrinsic+json": {
              "type": "string"
            },
            "text/plain": [
              "'Unnamed: 0'"
            ]
          },
          "metadata": {
            "tags": []
          },
          "execution_count": 319
        }
      ]
    },
    {
      "cell_type": "code",
      "metadata": {
        "id": "n6ej7JUkMYtB"
      },
      "source": [
        "result = []\n",
        "for i in range(1, 159):\n",
        "    result.append(test(df.columns[i]))"
      ],
      "execution_count": 320,
      "outputs": []
    },
    {
      "cell_type": "code",
      "metadata": {
        "colab": {
          "base_uri": "https://localhost:8080/",
          "height": 606
        },
        "id": "qSLaqVsZOCsn",
        "outputId": "e3dcef76-1dd8-4240-9fae-5d952d9a8c92"
      },
      "source": [
        "result_df = pd.DataFrame(result, columns=['Metabolics', 'Levene test', 'Disease', 'Control', 't-Test', 'p-value(t)', 'Kruskal-Wallis', 'p-value(k)'])\n",
        "result_df.to_csv('test.csv')\n",
        "result_df"
      ],
      "execution_count": 321,
      "outputs": [
        {
          "output_type": "execute_result",
          "data": {
            "text/html": [
              "<div>\n",
              "<style scoped>\n",
              "    .dataframe tbody tr th:only-of-type {\n",
              "        vertical-align: middle;\n",
              "    }\n",
              "\n",
              "    .dataframe tbody tr th {\n",
              "        vertical-align: top;\n",
              "    }\n",
              "\n",
              "    .dataframe thead th {\n",
              "        text-align: right;\n",
              "    }\n",
              "</style>\n",
              "<table border=\"1\" class=\"dataframe\">\n",
              "  <thead>\n",
              "    <tr style=\"text-align: right;\">\n",
              "      <th></th>\n",
              "      <th>Metabolics</th>\n",
              "      <th>Levene test</th>\n",
              "      <th>Disease</th>\n",
              "      <th>Control</th>\n",
              "      <th>t-Test</th>\n",
              "      <th>p-value(t)</th>\n",
              "      <th>Kruskal-Wallis</th>\n",
              "      <th>p-value(k)</th>\n",
              "    </tr>\n",
              "  </thead>\n",
              "  <tbody>\n",
              "    <tr>\n",
              "      <th>0</th>\n",
              "      <td>1_5-anhydroglucitol</td>\n",
              "      <td>(0.9232842255878866, 0.33950937635055467)</td>\n",
              "      <td>(0.9895632266998291, 0.966071605682373)</td>\n",
              "      <td>(0.9127679467201233, 0.0040376451797783375)</td>\n",
              "      <td>-0.462236</td>\n",
              "      <td>0.645167</td>\n",
              "      <td>0.032704</td>\n",
              "      <td>0.856491</td>\n",
              "    </tr>\n",
              "    <tr>\n",
              "      <th>1</th>\n",
              "      <td>1-monostearin</td>\n",
              "      <td>(2.6142516370451054, 0.10984420325840032)</td>\n",
              "      <td>(0.28778016567230225, 7.504324852497524e-13)</td>\n",
              "      <td>(0.9605392813682556, 0.1642741858959198)</td>\n",
              "      <td>1.607087</td>\n",
              "      <td>0.111975</td>\n",
              "      <td>0.246231</td>\n",
              "      <td>0.619742</td>\n",
              "    </tr>\n",
              "    <tr>\n",
              "      <th>2</th>\n",
              "      <td>2_3-dihydroxybutanoic acid NIST</td>\n",
              "      <td>(0.006478335067887512, 0.9360500705169275)</td>\n",
              "      <td>(0.9374222755432129, 0.02565663307905197)</td>\n",
              "      <td>(0.9520214796066284, 0.08242195099592209)</td>\n",
              "      <td>0.687948</td>\n",
              "      <td>0.493476</td>\n",
              "      <td>0.182043</td>\n",
              "      <td>0.669623</td>\n",
              "    </tr>\n",
              "    <tr>\n",
              "      <th>3</th>\n",
              "      <td>2_4-diaminobutyric acid</td>\n",
              "      <td>(0.09694042032074647, 0.7563425132995316)</td>\n",
              "      <td>(0.9051265120506287, 0.002357517834752798)</td>\n",
              "      <td>(0.9194269776344299, 0.006540666334331036)</td>\n",
              "      <td>0.683553</td>\n",
              "      <td>0.496233</td>\n",
              "      <td>0.458353</td>\n",
              "      <td>0.498395</td>\n",
              "    </tr>\n",
              "    <tr>\n",
              "      <th>4</th>\n",
              "      <td>2-deoxyerythritol</td>\n",
              "      <td>(0.9084069671879834, 0.343408402153335)</td>\n",
              "      <td>(0.8347311615943909, 3.2259136787615716e-05)</td>\n",
              "      <td>(0.9222155809402466, 0.008035192266106606)</td>\n",
              "      <td>0.540504</td>\n",
              "      <td>0.590351</td>\n",
              "      <td>0.005505</td>\n",
              "      <td>0.940855</td>\n",
              "    </tr>\n",
              "    <tr>\n",
              "      <th>...</th>\n",
              "      <td>...</td>\n",
              "      <td>...</td>\n",
              "      <td>...</td>\n",
              "      <td>...</td>\n",
              "      <td>...</td>\n",
              "      <td>...</td>\n",
              "      <td>...</td>\n",
              "      <td>...</td>\n",
              "    </tr>\n",
              "    <tr>\n",
              "      <th>153</th>\n",
              "      <td>uric acid</td>\n",
              "      <td>(0.13186210687409822, 0.7174668378397271)</td>\n",
              "      <td>(0.9512421488761902, 0.0773795023560524)</td>\n",
              "      <td>(0.9740689992904663, 0.46329164505004883)</td>\n",
              "      <td>-2.925388</td>\n",
              "      <td>0.004475</td>\n",
              "      <td>8.345484</td>\n",
              "      <td>0.003866</td>\n",
              "    </tr>\n",
              "    <tr>\n",
              "      <th>154</th>\n",
              "      <td>uridine</td>\n",
              "      <td>(0.032911189653374744, 0.8565011579184116)</td>\n",
              "      <td>(0.9404267072677612, 0.03250748664140701)</td>\n",
              "      <td>(0.9610063433647156, 0.17056143283843994)</td>\n",
              "      <td>-0.013382</td>\n",
              "      <td>0.989356</td>\n",
              "      <td>0.001377</td>\n",
              "      <td>0.970404</td>\n",
              "    </tr>\n",
              "    <tr>\n",
              "      <th>155</th>\n",
              "      <td>valine</td>\n",
              "      <td>(0.354580548506568, 0.5532124135196737)</td>\n",
              "      <td>(0.9560147523880005, 0.11394419521093369)</td>\n",
              "      <td>(0.9369755983352661, 0.024774255231022835)</td>\n",
              "      <td>-0.845800</td>\n",
              "      <td>0.400187</td>\n",
              "      <td>1.167313</td>\n",
              "      <td>0.279954</td>\n",
              "    </tr>\n",
              "    <tr>\n",
              "      <th>156</th>\n",
              "      <td>xylitol</td>\n",
              "      <td>(0.31293965984454025, 0.57744470642991)</td>\n",
              "      <td>(0.5075222253799438, 1.518786763021751e-10)</td>\n",
              "      <td>(0.5687038898468018, 8.869149303869506e-10)</td>\n",
              "      <td>-0.609977</td>\n",
              "      <td>0.543606</td>\n",
              "      <td>0.210767</td>\n",
              "      <td>0.646167</td>\n",
              "    </tr>\n",
              "    <tr>\n",
              "      <th>157</th>\n",
              "      <td>xylose</td>\n",
              "      <td>(0.22970631882014136, 0.6330492413439455)</td>\n",
              "      <td>(0.8933435678482056, 0.0010609665187075734)</td>\n",
              "      <td>(0.778742253780365, 2.008136334552546e-06)</td>\n",
              "      <td>0.424889</td>\n",
              "      <td>0.672058</td>\n",
              "      <td>0.421473</td>\n",
              "      <td>0.516203</td>\n",
              "    </tr>\n",
              "  </tbody>\n",
              "</table>\n",
              "<p>158 rows × 8 columns</p>\n",
              "</div>"
            ],
            "text/plain": [
              "                          Metabolics  ... p-value(k)\n",
              "0                1_5-anhydroglucitol  ...   0.856491\n",
              "1                      1-monostearin  ...   0.619742\n",
              "2    2_3-dihydroxybutanoic acid NIST  ...   0.669623\n",
              "3            2_4-diaminobutyric acid  ...   0.498395\n",
              "4                  2-deoxyerythritol  ...   0.940855\n",
              "..                               ...  ...        ...\n",
              "153                        uric acid  ...   0.003866\n",
              "154                          uridine  ...   0.970404\n",
              "155                           valine  ...   0.279954\n",
              "156                          xylitol  ...   0.646167\n",
              "157                           xylose  ...   0.516203\n",
              "\n",
              "[158 rows x 8 columns]"
            ]
          },
          "metadata": {
            "tags": []
          },
          "execution_count": 321
        }
      ]
    },
    {
      "cell_type": "code",
      "metadata": {
        "colab": {
          "base_uri": "https://localhost:8080/"
        },
        "id": "94BhLJS9EM_s",
        "outputId": "5dc3e02b-3c0e-4c1b-ae0f-06a397110e1e"
      },
      "source": [
        "metabolics = result_df[(result_df['p-value(t)'] < 0.01) | (result_df['p-value(k)'] < 0.01)].loc[:, 'Metabolics']\n",
        "metabolics = metabolics.to_numpy()\n",
        "metabolics"
      ],
      "execution_count": 322,
      "outputs": [
        {
          "output_type": "execute_result",
          "data": {
            "text/plain": [
              "array(['3-phosphoglycerate', '5-hydroxynorvaline NIST',\n",
              "       '5-methoxytryptamine', 'adenosine-5-monophosphate',\n",
              "       'alpha-ketoglutarate', 'asparagine', 'aspartic acid',\n",
              "       'benzoic acid', 'citrulline', 'glutamine', 'hypoxanthine',\n",
              "       'inosine', 'lactamide', 'lactic acid', 'malic acid', 'maltose',\n",
              "       'maltotriose', 'methionine sulfoxide', 'N-methylalanine',\n",
              "       'nornicotine', 'phenol', 'phosphoethanolamine', 'pyrophosphate',\n",
              "       'pyruvic acid', 'quinic acid', 'taurine', 'threonine',\n",
              "       'tryptophan', 'uric acid'], dtype=object)"
            ]
          },
          "metadata": {
            "tags": []
          },
          "execution_count": 322
        }
      ]
    },
    {
      "cell_type": "markdown",
      "metadata": {
        "id": "vP09whx-EiIS"
      },
      "source": [
        "Now we keep the data of these metabolics only, from main dataset."
      ]
    },
    {
      "cell_type": "code",
      "metadata": {
        "colab": {
          "base_uri": "https://localhost:8080/",
          "height": 473
        },
        "id": "py2QBbQ9EhoZ",
        "outputId": "bbb8fe3d-0569-4393-b647-cb34fbb22507"
      },
      "source": [
        "final_df = df.loc[:, metabolics]\n",
        "final_df = pd.concat([final_df, df.loc[:, 'Class']], axis=1)\n",
        "final_df"
      ],
      "execution_count": 323,
      "outputs": [
        {
          "output_type": "execute_result",
          "data": {
            "text/html": [
              "<div>\n",
              "<style scoped>\n",
              "    .dataframe tbody tr th:only-of-type {\n",
              "        vertical-align: middle;\n",
              "    }\n",
              "\n",
              "    .dataframe tbody tr th {\n",
              "        vertical-align: top;\n",
              "    }\n",
              "\n",
              "    .dataframe thead th {\n",
              "        text-align: right;\n",
              "    }\n",
              "</style>\n",
              "<table border=\"1\" class=\"dataframe\">\n",
              "  <thead>\n",
              "    <tr style=\"text-align: right;\">\n",
              "      <th></th>\n",
              "      <th>3-phosphoglycerate</th>\n",
              "      <th>5-hydroxynorvaline NIST</th>\n",
              "      <th>5-methoxytryptamine</th>\n",
              "      <th>adenosine-5-monophosphate</th>\n",
              "      <th>alpha-ketoglutarate</th>\n",
              "      <th>asparagine</th>\n",
              "      <th>aspartic acid</th>\n",
              "      <th>benzoic acid</th>\n",
              "      <th>citrulline</th>\n",
              "      <th>glutamine</th>\n",
              "      <th>hypoxanthine</th>\n",
              "      <th>inosine</th>\n",
              "      <th>lactamide</th>\n",
              "      <th>lactic acid</th>\n",
              "      <th>malic acid</th>\n",
              "      <th>maltose</th>\n",
              "      <th>maltotriose</th>\n",
              "      <th>methionine sulfoxide</th>\n",
              "      <th>N-methylalanine</th>\n",
              "      <th>nornicotine</th>\n",
              "      <th>phenol</th>\n",
              "      <th>phosphoethanolamine</th>\n",
              "      <th>pyrophosphate</th>\n",
              "      <th>pyruvic acid</th>\n",
              "      <th>quinic acid</th>\n",
              "      <th>taurine</th>\n",
              "      <th>threonine</th>\n",
              "      <th>tryptophan</th>\n",
              "      <th>uric acid</th>\n",
              "      <th>Class</th>\n",
              "    </tr>\n",
              "  </thead>\n",
              "  <tbody>\n",
              "    <tr>\n",
              "      <th>0</th>\n",
              "      <td>62</td>\n",
              "      <td>83</td>\n",
              "      <td>363</td>\n",
              "      <td>210</td>\n",
              "      <td>386</td>\n",
              "      <td>873</td>\n",
              "      <td>664</td>\n",
              "      <td>1414</td>\n",
              "      <td>560</td>\n",
              "      <td>53047</td>\n",
              "      <td>399</td>\n",
              "      <td>37</td>\n",
              "      <td>178</td>\n",
              "      <td>119698</td>\n",
              "      <td>230</td>\n",
              "      <td>98</td>\n",
              "      <td>28</td>\n",
              "      <td>917</td>\n",
              "      <td>9576</td>\n",
              "      <td>83</td>\n",
              "      <td>1310</td>\n",
              "      <td>110</td>\n",
              "      <td>2769</td>\n",
              "      <td>10789</td>\n",
              "      <td>127</td>\n",
              "      <td>2160</td>\n",
              "      <td>13505</td>\n",
              "      <td>27450</td>\n",
              "      <td>10057</td>\n",
              "      <td>disease</td>\n",
              "    </tr>\n",
              "    <tr>\n",
              "      <th>1</th>\n",
              "      <td>162</td>\n",
              "      <td>88</td>\n",
              "      <td>65</td>\n",
              "      <td>148</td>\n",
              "      <td>255</td>\n",
              "      <td>1281</td>\n",
              "      <td>770</td>\n",
              "      <td>1750</td>\n",
              "      <td>868</td>\n",
              "      <td>101091</td>\n",
              "      <td>590</td>\n",
              "      <td>33</td>\n",
              "      <td>116</td>\n",
              "      <td>135070</td>\n",
              "      <td>187</td>\n",
              "      <td>110</td>\n",
              "      <td>71</td>\n",
              "      <td>627</td>\n",
              "      <td>5239</td>\n",
              "      <td>88</td>\n",
              "      <td>1528</td>\n",
              "      <td>44</td>\n",
              "      <td>2406</td>\n",
              "      <td>6206</td>\n",
              "      <td>77</td>\n",
              "      <td>1446</td>\n",
              "      <td>12687</td>\n",
              "      <td>17898</td>\n",
              "      <td>8386</td>\n",
              "      <td>disease</td>\n",
              "    </tr>\n",
              "    <tr>\n",
              "      <th>2</th>\n",
              "      <td>110</td>\n",
              "      <td>161</td>\n",
              "      <td>207</td>\n",
              "      <td>731</td>\n",
              "      <td>363</td>\n",
              "      <td>1203</td>\n",
              "      <td>710</td>\n",
              "      <td>1740</td>\n",
              "      <td>488</td>\n",
              "      <td>74284</td>\n",
              "      <td>255</td>\n",
              "      <td>34</td>\n",
              "      <td>536</td>\n",
              "      <td>206030</td>\n",
              "      <td>185</td>\n",
              "      <td>255</td>\n",
              "      <td>103</td>\n",
              "      <td>520</td>\n",
              "      <td>7139</td>\n",
              "      <td>161</td>\n",
              "      <td>2058</td>\n",
              "      <td>109</td>\n",
              "      <td>6129</td>\n",
              "      <td>4167</td>\n",
              "      <td>470</td>\n",
              "      <td>2678</td>\n",
              "      <td>10976</td>\n",
              "      <td>29503</td>\n",
              "      <td>15822</td>\n",
              "      <td>disease</td>\n",
              "    </tr>\n",
              "    <tr>\n",
              "      <th>3</th>\n",
              "      <td>120</td>\n",
              "      <td>100</td>\n",
              "      <td>87</td>\n",
              "      <td>311</td>\n",
              "      <td>203</td>\n",
              "      <td>1098</td>\n",
              "      <td>558</td>\n",
              "      <td>2605</td>\n",
              "      <td>357</td>\n",
              "      <td>105253</td>\n",
              "      <td>698</td>\n",
              "      <td>69</td>\n",
              "      <td>216</td>\n",
              "      <td>164098</td>\n",
              "      <td>154</td>\n",
              "      <td>138</td>\n",
              "      <td>61</td>\n",
              "      <td>545</td>\n",
              "      <td>17227</td>\n",
              "      <td>100</td>\n",
              "      <td>1853</td>\n",
              "      <td>93</td>\n",
              "      <td>1891</td>\n",
              "      <td>2180</td>\n",
              "      <td>63</td>\n",
              "      <td>3198</td>\n",
              "      <td>12727</td>\n",
              "      <td>16501</td>\n",
              "      <td>14024</td>\n",
              "      <td>disease</td>\n",
              "    </tr>\n",
              "    <tr>\n",
              "      <th>4</th>\n",
              "      <td>139</td>\n",
              "      <td>370</td>\n",
              "      <td>202</td>\n",
              "      <td>313</td>\n",
              "      <td>291</td>\n",
              "      <td>1082</td>\n",
              "      <td>661</td>\n",
              "      <td>1457</td>\n",
              "      <td>892</td>\n",
              "      <td>48574</td>\n",
              "      <td>365</td>\n",
              "      <td>22</td>\n",
              "      <td>117</td>\n",
              "      <td>97686</td>\n",
              "      <td>230</td>\n",
              "      <td>188</td>\n",
              "      <td>133</td>\n",
              "      <td>886</td>\n",
              "      <td>13572</td>\n",
              "      <td>456</td>\n",
              "      <td>1190</td>\n",
              "      <td>132</td>\n",
              "      <td>4951</td>\n",
              "      <td>4583</td>\n",
              "      <td>2687</td>\n",
              "      <td>1737</td>\n",
              "      <td>16981</td>\n",
              "      <td>24023</td>\n",
              "      <td>23154</td>\n",
              "      <td>disease</td>\n",
              "    </tr>\n",
              "    <tr>\n",
              "      <th>...</th>\n",
              "      <td>...</td>\n",
              "      <td>...</td>\n",
              "      <td>...</td>\n",
              "      <td>...</td>\n",
              "      <td>...</td>\n",
              "      <td>...</td>\n",
              "      <td>...</td>\n",
              "      <td>...</td>\n",
              "      <td>...</td>\n",
              "      <td>...</td>\n",
              "      <td>...</td>\n",
              "      <td>...</td>\n",
              "      <td>...</td>\n",
              "      <td>...</td>\n",
              "      <td>...</td>\n",
              "      <td>...</td>\n",
              "      <td>...</td>\n",
              "      <td>...</td>\n",
              "      <td>...</td>\n",
              "      <td>...</td>\n",
              "      <td>...</td>\n",
              "      <td>...</td>\n",
              "      <td>...</td>\n",
              "      <td>...</td>\n",
              "      <td>...</td>\n",
              "      <td>...</td>\n",
              "      <td>...</td>\n",
              "      <td>...</td>\n",
              "      <td>...</td>\n",
              "      <td>...</td>\n",
              "    </tr>\n",
              "    <tr>\n",
              "      <th>77</th>\n",
              "      <td>34</td>\n",
              "      <td>171</td>\n",
              "      <td>47</td>\n",
              "      <td>79</td>\n",
              "      <td>269</td>\n",
              "      <td>1227</td>\n",
              "      <td>424</td>\n",
              "      <td>1684</td>\n",
              "      <td>683</td>\n",
              "      <td>101802</td>\n",
              "      <td>185</td>\n",
              "      <td>72</td>\n",
              "      <td>109</td>\n",
              "      <td>66694</td>\n",
              "      <td>118</td>\n",
              "      <td>94</td>\n",
              "      <td>61</td>\n",
              "      <td>977</td>\n",
              "      <td>12947</td>\n",
              "      <td>171</td>\n",
              "      <td>910</td>\n",
              "      <td>73</td>\n",
              "      <td>892</td>\n",
              "      <td>4487</td>\n",
              "      <td>575</td>\n",
              "      <td>1176</td>\n",
              "      <td>15913</td>\n",
              "      <td>30518</td>\n",
              "      <td>17880</td>\n",
              "      <td>control</td>\n",
              "    </tr>\n",
              "    <tr>\n",
              "      <th>78</th>\n",
              "      <td>122</td>\n",
              "      <td>185</td>\n",
              "      <td>199</td>\n",
              "      <td>184</td>\n",
              "      <td>219</td>\n",
              "      <td>860</td>\n",
              "      <td>449</td>\n",
              "      <td>1513</td>\n",
              "      <td>535</td>\n",
              "      <td>55222</td>\n",
              "      <td>1353</td>\n",
              "      <td>49</td>\n",
              "      <td>186</td>\n",
              "      <td>173299</td>\n",
              "      <td>137</td>\n",
              "      <td>139</td>\n",
              "      <td>52</td>\n",
              "      <td>672</td>\n",
              "      <td>11974</td>\n",
              "      <td>185</td>\n",
              "      <td>1925</td>\n",
              "      <td>75</td>\n",
              "      <td>2912</td>\n",
              "      <td>2807</td>\n",
              "      <td>130</td>\n",
              "      <td>1351</td>\n",
              "      <td>17847</td>\n",
              "      <td>23731</td>\n",
              "      <td>29018</td>\n",
              "      <td>control</td>\n",
              "    </tr>\n",
              "    <tr>\n",
              "      <th>79</th>\n",
              "      <td>64</td>\n",
              "      <td>203</td>\n",
              "      <td>53</td>\n",
              "      <td>75</td>\n",
              "      <td>425</td>\n",
              "      <td>959</td>\n",
              "      <td>509</td>\n",
              "      <td>2531</td>\n",
              "      <td>937</td>\n",
              "      <td>117444</td>\n",
              "      <td>183</td>\n",
              "      <td>86</td>\n",
              "      <td>85</td>\n",
              "      <td>81480</td>\n",
              "      <td>260</td>\n",
              "      <td>95</td>\n",
              "      <td>78</td>\n",
              "      <td>1002</td>\n",
              "      <td>6210</td>\n",
              "      <td>203</td>\n",
              "      <td>1072</td>\n",
              "      <td>89</td>\n",
              "      <td>1688</td>\n",
              "      <td>3469</td>\n",
              "      <td>909</td>\n",
              "      <td>963</td>\n",
              "      <td>11225</td>\n",
              "      <td>30277</td>\n",
              "      <td>19736</td>\n",
              "      <td>control</td>\n",
              "    </tr>\n",
              "    <tr>\n",
              "      <th>80</th>\n",
              "      <td>42</td>\n",
              "      <td>92</td>\n",
              "      <td>95</td>\n",
              "      <td>99</td>\n",
              "      <td>292</td>\n",
              "      <td>617</td>\n",
              "      <td>466</td>\n",
              "      <td>2292</td>\n",
              "      <td>304</td>\n",
              "      <td>6569</td>\n",
              "      <td>228</td>\n",
              "      <td>38</td>\n",
              "      <td>1467</td>\n",
              "      <td>87170</td>\n",
              "      <td>175</td>\n",
              "      <td>54</td>\n",
              "      <td>43</td>\n",
              "      <td>1001</td>\n",
              "      <td>12718</td>\n",
              "      <td>92</td>\n",
              "      <td>1254</td>\n",
              "      <td>74</td>\n",
              "      <td>998</td>\n",
              "      <td>4543</td>\n",
              "      <td>59</td>\n",
              "      <td>326</td>\n",
              "      <td>19530</td>\n",
              "      <td>14930</td>\n",
              "      <td>17479</td>\n",
              "      <td>control</td>\n",
              "    </tr>\n",
              "    <tr>\n",
              "      <th>81</th>\n",
              "      <td>46</td>\n",
              "      <td>145</td>\n",
              "      <td>75</td>\n",
              "      <td>83</td>\n",
              "      <td>163</td>\n",
              "      <td>623</td>\n",
              "      <td>666</td>\n",
              "      <td>2812</td>\n",
              "      <td>362</td>\n",
              "      <td>9148</td>\n",
              "      <td>138</td>\n",
              "      <td>52</td>\n",
              "      <td>1481</td>\n",
              "      <td>91011</td>\n",
              "      <td>166</td>\n",
              "      <td>187</td>\n",
              "      <td>47</td>\n",
              "      <td>2203</td>\n",
              "      <td>6813</td>\n",
              "      <td>145</td>\n",
              "      <td>1054</td>\n",
              "      <td>63</td>\n",
              "      <td>895</td>\n",
              "      <td>546</td>\n",
              "      <td>763</td>\n",
              "      <td>867</td>\n",
              "      <td>17600</td>\n",
              "      <td>17881</td>\n",
              "      <td>32421</td>\n",
              "      <td>control</td>\n",
              "    </tr>\n",
              "  </tbody>\n",
              "</table>\n",
              "<p>82 rows × 30 columns</p>\n",
              "</div>"
            ],
            "text/plain": [
              "    3-phosphoglycerate  5-hydroxynorvaline NIST  ...  uric acid    Class\n",
              "0                   62                       83  ...      10057  disease\n",
              "1                  162                       88  ...       8386  disease\n",
              "2                  110                      161  ...      15822  disease\n",
              "3                  120                      100  ...      14024  disease\n",
              "4                  139                      370  ...      23154  disease\n",
              "..                 ...                      ...  ...        ...      ...\n",
              "77                  34                      171  ...      17880  control\n",
              "78                 122                      185  ...      29018  control\n",
              "79                  64                      203  ...      19736  control\n",
              "80                  42                       92  ...      17479  control\n",
              "81                  46                      145  ...      32421  control\n",
              "\n",
              "[82 rows x 30 columns]"
            ]
          },
          "metadata": {
            "tags": []
          },
          "execution_count": 323
        }
      ]
    },
    {
      "cell_type": "markdown",
      "metadata": {
        "id": "aGTrZnCm16la"
      },
      "source": [
        "# Heatmap"
      ]
    },
    {
      "cell_type": "code",
      "metadata": {
        "id": "MfE7JJltODgw",
        "colab": {
          "base_uri": "https://localhost:8080/",
          "height": 729
        },
        "outputId": "561fc0bd-8313-4168-e511-28e340d6dded"
      },
      "source": [
        "# Data set\n",
        "import seaborn as sns\n",
        "Class = final_df.pop(\"Class\")\n",
        "# final_df = final_df.set_index('Metabolics')\n",
        "\n",
        "lut = dict(zip(Class.unique(), \"rgb\"))\n",
        "row_colors = Class.map(lut)\n",
        "# Default plot\n",
        "sns.clustermap(final_df, row_colors=row_colors)\n",
        "\n",
        "# Show the graph\n",
        "plt.show()"
      ],
      "execution_count": 324,
      "outputs": [
        {
          "output_type": "display_data",
          "data": {
            "image/png": "[encoded data removed]",
            "text/plain": [
              "<Figure size 720x720 with 5 Axes>"
            ]
          },
          "metadata": {
            "tags": [],
            "needs_background": "light"
          }
        }
      ]
    },
    {
      "cell_type": "code",
      "metadata": {
        "id": "cqq1ClttHcpT"
      },
      "source": [
        ""
      ],
      "execution_count": 324,
      "outputs": []
    }
  ]
}